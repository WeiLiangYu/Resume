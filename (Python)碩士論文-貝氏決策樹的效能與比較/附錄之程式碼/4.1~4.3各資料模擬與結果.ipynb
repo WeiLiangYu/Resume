{
 "cells": [
  {
   "cell_type": "markdown",
   "id": "cd6667ce",
   "metadata": {},
   "source": [
    "# 附錄一"
   ]
  },
  {
   "cell_type": "markdown",
   "id": "4dca98b4",
   "metadata": {},
   "source": [
    "## 4.1~4.3 模擬生成資料"
   ]
  },
  {
   "cell_type": "markdown",
   "id": "f79834fc",
   "metadata": {},
   "source": [
    "#### 比較少數(100筆)的不平衡資料\n",
    "#### 比例各為1:1、10:1、100:1\n",
    "#### 資料集(多數 (y=0) :少數 (y=1))為 \n",
    "#### 100:100,   1000:100,   10000:100"
   ]
  },
  {
   "cell_type": "markdown",
   "id": "4cd1e088",
   "metadata": {},
   "source": [
    "## PACKAGE"
   ]
  },
  {
   "cell_type": "code",
   "execution_count": 1,
   "id": "99e33625",
   "metadata": {},
   "outputs": [
    {
     "name": "stdout",
     "output_type": "stream",
     "text": [
      "C:\\Users\\innocence846\\Desktop\\論文\\bayesian_tree-master\\do\n"
     ]
    }
   ],
   "source": [
    "cd .."
   ]
  },
  {
   "cell_type": "code",
   "execution_count": 2,
   "id": "1ae837c6",
   "metadata": {},
   "outputs": [],
   "source": [
    "import numpy as np\n",
    "import pandas as pd\n",
    "from sklearn.model_selection import train_test_split\n",
    "from sklearn.model_selection import cross_val_score\n",
    "from sklearn.metrics import confusion_matrix, precision_score, \\\n",
    "    recall_score, f1_score\n",
    "from imblearn.over_sampling import SMOTE\n",
    "import time\n",
    "import matplotlib.pyplot as plt"
   ]
  },
  {
   "cell_type": "code",
   "execution_count": 3,
   "id": "413b3858",
   "metadata": {},
   "outputs": [],
   "source": [
    "from bayesian_decision_tree.classification import PerpendicularClassificationTree\n",
    "from examples import helper\n",
    "\n",
    "from sklearn.tree import DecisionTreeClassifier\n",
    "from scipy.stats import randint\n",
    "from sklearn.ensemble import RandomForestClassifier"
   ]
  },
  {
   "cell_type": "code",
   "execution_count": 4,
   "id": "f9f33f40",
   "metadata": {},
   "outputs": [],
   "source": [
    "from sklearn.model_selection import RandomizedSearchCV\n",
    "import random\n",
    "from sklearn import metrics\n",
    "from sklearn.metrics import classification_report"
   ]
  },
  {
   "cell_type": "markdown",
   "id": "4e9c3c96",
   "metadata": {},
   "source": [
    "### 100:100"
   ]
  },
  {
   "cell_type": "markdown",
   "id": "0f69e33d",
   "metadata": {},
   "source": [
    "### DATA"
   ]
  },
  {
   "cell_type": "code",
   "execution_count": 5,
   "id": "54c86623",
   "metadata": {},
   "outputs": [],
   "source": [
    "np.random.seed(1)\n",
    "\n",
    "m = 100\n",
    "\n",
    "data100_1 = {\n",
    "    \"x1\": np.random.normal(0, 1, m),\n",
    "    \"x2\": np.random.normal(0, 1, m),\n",
    "    \"x3\": np.random.normal(0, 1, m),\n",
    "    \"x4\": np.random.normal(0, 1, m),\n",
    "    \"x5\": np.random.normal(0, 1, m),\n",
    "    \"x6\": np.random.normal(0, 1, m),\n",
    "    \"x7\": np.random.normal(0, 1, m),\n",
    "    \"x8\": np.random.normal(0, 1, m),\n",
    "    \"x9\": np.random.normal(0, 1, m),\n",
    "    \"x10\": np.random.normal(0, 1, m),\n",
    "    \"y\": [1]*m\n",
    "}\n",
    "\n",
    "data100_1 = pd.DataFrame(data100_1)\n",
    "\n",
    "data100_0 = {\n",
    "    \"x1\": np.random.normal(1, 1, m),\n",
    "    \"x2\": np.random.normal(2, 1, m),\n",
    "    \"x3\": np.random.normal(3, 1, m),\n",
    "    \"x4\": np.random.normal(0, 1, m),\n",
    "    \"x5\": np.random.normal(0, 1, m),\n",
    "    \"x6\": np.random.normal(0, 1, m),\n",
    "    \"x7\": np.random.normal(0, 1, m),\n",
    "    \"x8\": np.random.normal(0, 1, m),\n",
    "    \"x9\": np.random.normal(0, 1, m),\n",
    "    \"x10\": np.random.normal(0, 1, m),\n",
    "    \"y\": [0]*m\n",
    "}\n",
    "\n",
    "data100_0 = pd.DataFrame(data100_0)"
   ]
  },
  {
   "cell_type": "code",
   "execution_count": 6,
   "id": "ea77492a",
   "metadata": {},
   "outputs": [],
   "source": [
    "x100 = np.append(np.array(data100_0)[:, 0:10],np.array(data100_1)[:, 0:10], axis = 0)\n",
    "y100 = np.append(np.array(data100_0)[:, 10],np.array(data100_1)[:, 10])"
   ]
  },
  {
   "cell_type": "code",
   "execution_count": 7,
   "id": "ea8ce727",
   "metadata": {},
   "outputs": [],
   "source": [
    "x100_train, x100_test, y100_train, y100_test = train_test_split(x100, y100, test_size=0.2,  random_state=1) "
   ]
  },
  {
   "cell_type": "code",
   "execution_count": 8,
   "id": "4b0aaf1b",
   "metadata": {
    "scrolled": false
   },
   "outputs": [
    {
     "data": {
      "text/html": [
       "<div>\n",
       "<style scoped>\n",
       "    .dataframe tbody tr th:only-of-type {\n",
       "        vertical-align: middle;\n",
       "    }\n",
       "\n",
       "    .dataframe tbody tr th {\n",
       "        vertical-align: top;\n",
       "    }\n",
       "\n",
       "    .dataframe thead th {\n",
       "        text-align: right;\n",
       "    }\n",
       "</style>\n",
       "<table border=\"1\" class=\"dataframe\">\n",
       "  <thead>\n",
       "    <tr style=\"text-align: right;\">\n",
       "      <th></th>\n",
       "      <th>x1</th>\n",
       "      <th>x2</th>\n",
       "      <th>x3</th>\n",
       "      <th>x4</th>\n",
       "      <th>x5</th>\n",
       "      <th>x6</th>\n",
       "      <th>x7</th>\n",
       "      <th>x8</th>\n",
       "      <th>x9</th>\n",
       "      <th>x10</th>\n",
       "      <th>y</th>\n",
       "    </tr>\n",
       "  </thead>\n",
       "  <tbody>\n",
       "    <tr>\n",
       "      <th>0</th>\n",
       "      <td>0.846764</td>\n",
       "      <td>1.866511</td>\n",
       "      <td>2.460967</td>\n",
       "      <td>1.081093</td>\n",
       "      <td>0.189199</td>\n",
       "      <td>1.301225</td>\n",
       "      <td>0.291005</td>\n",
       "      <td>-1.289130</td>\n",
       "      <td>-1.307971</td>\n",
       "      <td>0.933630</td>\n",
       "      <td>0</td>\n",
       "    </tr>\n",
       "    <tr>\n",
       "      <th>1</th>\n",
       "      <td>-1.432509</td>\n",
       "      <td>3.986565</td>\n",
       "      <td>3.644100</td>\n",
       "      <td>1.724392</td>\n",
       "      <td>1.223936</td>\n",
       "      <td>-0.312392</td>\n",
       "      <td>1.074900</td>\n",
       "      <td>0.109783</td>\n",
       "      <td>1.472396</td>\n",
       "      <td>-1.763775</td>\n",
       "      <td>0</td>\n",
       "    </tr>\n",
       "    <tr>\n",
       "      <th>2</th>\n",
       "      <td>1.507984</td>\n",
       "      <td>0.720574</td>\n",
       "      <td>3.183634</td>\n",
       "      <td>-0.402468</td>\n",
       "      <td>-0.300931</td>\n",
       "      <td>-0.271229</td>\n",
       "      <td>-0.697810</td>\n",
       "      <td>-0.010526</td>\n",
       "      <td>0.074876</td>\n",
       "      <td>-0.410217</td>\n",
       "      <td>0</td>\n",
       "    </tr>\n",
       "    <tr>\n",
       "      <th>3</th>\n",
       "      <td>0.675968</td>\n",
       "      <td>0.659791</td>\n",
       "      <td>2.913573</td>\n",
       "      <td>-1.476899</td>\n",
       "      <td>0.251310</td>\n",
       "      <td>1.862913</td>\n",
       "      <td>-0.578326</td>\n",
       "      <td>-0.388241</td>\n",
       "      <td>-1.786935</td>\n",
       "      <td>-0.453667</td>\n",
       "      <td>0</td>\n",
       "    </tr>\n",
       "    <tr>\n",
       "      <th>4</th>\n",
       "      <td>-0.511077</td>\n",
       "      <td>2.354602</td>\n",
       "      <td>2.786012</td>\n",
       "      <td>0.638929</td>\n",
       "      <td>0.928290</td>\n",
       "      <td>-0.642874</td>\n",
       "      <td>-0.847453</td>\n",
       "      <td>0.489219</td>\n",
       "      <td>0.165211</td>\n",
       "      <td>-0.589430</td>\n",
       "      <td>0</td>\n",
       "    </tr>\n",
       "    <tr>\n",
       "      <th>...</th>\n",
       "      <td>...</td>\n",
       "      <td>...</td>\n",
       "      <td>...</td>\n",
       "      <td>...</td>\n",
       "      <td>...</td>\n",
       "      <td>...</td>\n",
       "      <td>...</td>\n",
       "      <td>...</td>\n",
       "      <td>...</td>\n",
       "      <td>...</td>\n",
       "      <td>...</td>\n",
       "    </tr>\n",
       "    <tr>\n",
       "      <th>95</th>\n",
       "      <td>0.644758</td>\n",
       "      <td>1.843157</td>\n",
       "      <td>2.641411</td>\n",
       "      <td>-1.098149</td>\n",
       "      <td>0.196645</td>\n",
       "      <td>-1.811754</td>\n",
       "      <td>0.296957</td>\n",
       "      <td>0.833679</td>\n",
       "      <td>0.213026</td>\n",
       "      <td>0.188583</td>\n",
       "      <td>0</td>\n",
       "    </tr>\n",
       "    <tr>\n",
       "      <th>96</th>\n",
       "      <td>1.096114</td>\n",
       "      <td>1.353509</td>\n",
       "      <td>3.603036</td>\n",
       "      <td>1.308932</td>\n",
       "      <td>-0.632590</td>\n",
       "      <td>-1.137304</td>\n",
       "      <td>-1.400594</td>\n",
       "      <td>2.160456</td>\n",
       "      <td>-0.804542</td>\n",
       "      <td>0.560918</td>\n",
       "      <td>0</td>\n",
       "    </tr>\n",
       "    <tr>\n",
       "      <th>97</th>\n",
       "      <td>1.152052</td>\n",
       "      <td>0.551008</td>\n",
       "      <td>3.314432</td>\n",
       "      <td>0.733073</td>\n",
       "      <td>-0.209847</td>\n",
       "      <td>-0.803073</td>\n",
       "      <td>1.549609</td>\n",
       "      <td>1.998992</td>\n",
       "      <td>-0.646582</td>\n",
       "      <td>-0.921659</td>\n",
       "      <td>0</td>\n",
       "    </tr>\n",
       "    <tr>\n",
       "      <th>98</th>\n",
       "      <td>2.155262</td>\n",
       "      <td>2.779492</td>\n",
       "      <td>3.333115</td>\n",
       "      <td>0.652180</td>\n",
       "      <td>1.897161</td>\n",
       "      <td>1.314941</td>\n",
       "      <td>-1.070017</td>\n",
       "      <td>0.764041</td>\n",
       "      <td>1.138173</td>\n",
       "      <td>0.647375</td>\n",
       "      <td>0</td>\n",
       "    </tr>\n",
       "    <tr>\n",
       "      <th>99</th>\n",
       "      <td>1.346058</td>\n",
       "      <td>0.913699</td>\n",
       "      <td>0.967460</td>\n",
       "      <td>-0.231485</td>\n",
       "      <td>-1.381391</td>\n",
       "      <td>-0.018258</td>\n",
       "      <td>0.613952</td>\n",
       "      <td>1.687255</td>\n",
       "      <td>0.295440</td>\n",
       "      <td>1.386826</td>\n",
       "      <td>0</td>\n",
       "    </tr>\n",
       "  </tbody>\n",
       "</table>\n",
       "<p>100 rows × 11 columns</p>\n",
       "</div>"
      ],
      "text/plain": [
       "          x1        x2        x3        x4        x5        x6        x7  \\\n",
       "0   0.846764  1.866511  2.460967  1.081093  0.189199  1.301225  0.291005   \n",
       "1  -1.432509  3.986565  3.644100  1.724392  1.223936 -0.312392  1.074900   \n",
       "2   1.507984  0.720574  3.183634 -0.402468 -0.300931 -0.271229 -0.697810   \n",
       "3   0.675968  0.659791  2.913573 -1.476899  0.251310  1.862913 -0.578326   \n",
       "4  -0.511077  2.354602  2.786012  0.638929  0.928290 -0.642874 -0.847453   \n",
       "..       ...       ...       ...       ...       ...       ...       ...   \n",
       "95  0.644758  1.843157  2.641411 -1.098149  0.196645 -1.811754  0.296957   \n",
       "96  1.096114  1.353509  3.603036  1.308932 -0.632590 -1.137304 -1.400594   \n",
       "97  1.152052  0.551008  3.314432  0.733073 -0.209847 -0.803073  1.549609   \n",
       "98  2.155262  2.779492  3.333115  0.652180  1.897161  1.314941 -1.070017   \n",
       "99  1.346058  0.913699  0.967460 -0.231485 -1.381391 -0.018258  0.613952   \n",
       "\n",
       "          x8        x9       x10  y  \n",
       "0  -1.289130 -1.307971  0.933630  0  \n",
       "1   0.109783  1.472396 -1.763775  0  \n",
       "2  -0.010526  0.074876 -0.410217  0  \n",
       "3  -0.388241 -1.786935 -0.453667  0  \n",
       "4   0.489219  0.165211 -0.589430  0  \n",
       "..       ...       ...       ... ..  \n",
       "95  0.833679  0.213026  0.188583  0  \n",
       "96  2.160456 -0.804542  0.560918  0  \n",
       "97  1.998992 -0.646582 -0.921659  0  \n",
       "98  0.764041  1.138173  0.647375  0  \n",
       "99  1.687255  0.295440  1.386826  0  \n",
       "\n",
       "[100 rows x 11 columns]"
      ]
     },
     "execution_count": 8,
     "metadata": {},
     "output_type": "execute_result"
    }
   ],
   "source": [
    "data100_0"
   ]
  },
  {
   "cell_type": "code",
   "execution_count": 9,
   "id": "e9fb269e",
   "metadata": {
    "scrolled": false
   },
   "outputs": [
    {
     "data": {
      "text/html": [
       "<div>\n",
       "<style scoped>\n",
       "    .dataframe tbody tr th:only-of-type {\n",
       "        vertical-align: middle;\n",
       "    }\n",
       "\n",
       "    .dataframe tbody tr th {\n",
       "        vertical-align: top;\n",
       "    }\n",
       "\n",
       "    .dataframe thead th {\n",
       "        text-align: right;\n",
       "    }\n",
       "</style>\n",
       "<table border=\"1\" class=\"dataframe\">\n",
       "  <thead>\n",
       "    <tr style=\"text-align: right;\">\n",
       "      <th></th>\n",
       "      <th>x1</th>\n",
       "      <th>x2</th>\n",
       "      <th>x3</th>\n",
       "      <th>x4</th>\n",
       "      <th>x5</th>\n",
       "      <th>x6</th>\n",
       "      <th>x7</th>\n",
       "      <th>x8</th>\n",
       "      <th>x9</th>\n",
       "      <th>x10</th>\n",
       "      <th>y</th>\n",
       "    </tr>\n",
       "  </thead>\n",
       "  <tbody>\n",
       "    <tr>\n",
       "      <th>0</th>\n",
       "      <td>1.624345</td>\n",
       "      <td>-0.447129</td>\n",
       "      <td>-0.400878</td>\n",
       "      <td>2.065783</td>\n",
       "      <td>-1.306534</td>\n",
       "      <td>-1.719394</td>\n",
       "      <td>-1.072964</td>\n",
       "      <td>-0.790800</td>\n",
       "      <td>0.814343</td>\n",
       "      <td>-0.446699</td>\n",
       "      <td>1</td>\n",
       "    </tr>\n",
       "    <tr>\n",
       "      <th>1</th>\n",
       "      <td>-0.611756</td>\n",
       "      <td>1.224508</td>\n",
       "      <td>0.824006</td>\n",
       "      <td>-1.471157</td>\n",
       "      <td>0.076380</td>\n",
       "      <td>0.057121</td>\n",
       "      <td>0.495159</td>\n",
       "      <td>1.223722</td>\n",
       "      <td>0.780470</td>\n",
       "      <td>0.204377</td>\n",
       "      <td>1</td>\n",
       "    </tr>\n",
       "    <tr>\n",
       "      <th>2</th>\n",
       "      <td>-0.528172</td>\n",
       "      <td>0.403492</td>\n",
       "      <td>-0.562305</td>\n",
       "      <td>-0.830172</td>\n",
       "      <td>0.367232</td>\n",
       "      <td>-0.799547</td>\n",
       "      <td>-0.952062</td>\n",
       "      <td>-0.059368</td>\n",
       "      <td>-1.464054</td>\n",
       "      <td>0.612233</td>\n",
       "      <td>1</td>\n",
       "    </tr>\n",
       "    <tr>\n",
       "      <th>3</th>\n",
       "      <td>-1.072969</td>\n",
       "      <td>0.593579</td>\n",
       "      <td>1.954878</td>\n",
       "      <td>-0.880578</td>\n",
       "      <td>1.232899</td>\n",
       "      <td>-0.291595</td>\n",
       "      <td>-0.518146</td>\n",
       "      <td>1.448989</td>\n",
       "      <td>-0.154491</td>\n",
       "      <td>0.744885</td>\n",
       "      <td>1</td>\n",
       "    </tr>\n",
       "    <tr>\n",
       "      <th>4</th>\n",
       "      <td>0.865408</td>\n",
       "      <td>-1.094912</td>\n",
       "      <td>-1.331952</td>\n",
       "      <td>-0.279098</td>\n",
       "      <td>-0.422857</td>\n",
       "      <td>-0.258983</td>\n",
       "      <td>-1.461404</td>\n",
       "      <td>-0.477581</td>\n",
       "      <td>-0.092432</td>\n",
       "      <td>-0.036281</td>\n",
       "      <td>1</td>\n",
       "    </tr>\n",
       "    <tr>\n",
       "      <th>...</th>\n",
       "      <td>...</td>\n",
       "      <td>...</td>\n",
       "      <td>...</td>\n",
       "      <td>...</td>\n",
       "      <td>...</td>\n",
       "      <td>...</td>\n",
       "      <td>...</td>\n",
       "      <td>...</td>\n",
       "      <td>...</td>\n",
       "      <td>...</td>\n",
       "      <td>...</td>\n",
       "    </tr>\n",
       "    <tr>\n",
       "      <th>95</th>\n",
       "      <td>0.077340</td>\n",
       "      <td>-1.627438</td>\n",
       "      <td>-0.297362</td>\n",
       "      <td>0.794528</td>\n",
       "      <td>-0.828628</td>\n",
       "      <td>1.453918</td>\n",
       "      <td>-0.131676</td>\n",
       "      <td>-1.229574</td>\n",
       "      <td>0.578464</td>\n",
       "      <td>-0.116444</td>\n",
       "      <td>1</td>\n",
       "    </tr>\n",
       "    <tr>\n",
       "      <th>96</th>\n",
       "      <td>-0.343854</td>\n",
       "      <td>0.602319</td>\n",
       "      <td>0.417302</td>\n",
       "      <td>-1.873161</td>\n",
       "      <td>0.528880</td>\n",
       "      <td>0.661681</td>\n",
       "      <td>1.018552</td>\n",
       "      <td>1.108617</td>\n",
       "      <td>-0.961264</td>\n",
       "      <td>-2.277298</td>\n",
       "      <td>1</td>\n",
       "    </tr>\n",
       "    <tr>\n",
       "      <th>97</th>\n",
       "      <td>0.043597</td>\n",
       "      <td>0.420282</td>\n",
       "      <td>0.784771</td>\n",
       "      <td>0.920615</td>\n",
       "      <td>-2.237087</td>\n",
       "      <td>0.986352</td>\n",
       "      <td>1.230558</td>\n",
       "      <td>-0.702920</td>\n",
       "      <td>-1.458324</td>\n",
       "      <td>-0.069625</td>\n",
       "      <td>1</td>\n",
       "    </tr>\n",
       "    <tr>\n",
       "      <th>98</th>\n",
       "      <td>-0.620001</td>\n",
       "      <td>0.810952</td>\n",
       "      <td>-0.955425</td>\n",
       "      <td>-0.035368</td>\n",
       "      <td>-1.107713</td>\n",
       "      <td>-0.466155</td>\n",
       "      <td>-1.181103</td>\n",
       "      <td>0.725551</td>\n",
       "      <td>0.494342</td>\n",
       "      <td>0.353870</td>\n",
       "      <td>1</td>\n",
       "    </tr>\n",
       "    <tr>\n",
       "      <th>99</th>\n",
       "      <td>0.698032</td>\n",
       "      <td>1.044442</td>\n",
       "      <td>0.585910</td>\n",
       "      <td>2.110605</td>\n",
       "      <td>-0.017718</td>\n",
       "      <td>1.384991</td>\n",
       "      <td>-0.459930</td>\n",
       "      <td>-0.324204</td>\n",
       "      <td>-1.494194</td>\n",
       "      <td>-0.186955</td>\n",
       "      <td>1</td>\n",
       "    </tr>\n",
       "  </tbody>\n",
       "</table>\n",
       "<p>100 rows × 11 columns</p>\n",
       "</div>"
      ],
      "text/plain": [
       "          x1        x2        x3        x4        x5        x6        x7  \\\n",
       "0   1.624345 -0.447129 -0.400878  2.065783 -1.306534 -1.719394 -1.072964   \n",
       "1  -0.611756  1.224508  0.824006 -1.471157  0.076380  0.057121  0.495159   \n",
       "2  -0.528172  0.403492 -0.562305 -0.830172  0.367232 -0.799547 -0.952062   \n",
       "3  -1.072969  0.593579  1.954878 -0.880578  1.232899 -0.291595 -0.518146   \n",
       "4   0.865408 -1.094912 -1.331952 -0.279098 -0.422857 -0.258983 -1.461404   \n",
       "..       ...       ...       ...       ...       ...       ...       ...   \n",
       "95  0.077340 -1.627438 -0.297362  0.794528 -0.828628  1.453918 -0.131676   \n",
       "96 -0.343854  0.602319  0.417302 -1.873161  0.528880  0.661681  1.018552   \n",
       "97  0.043597  0.420282  0.784771  0.920615 -2.237087  0.986352  1.230558   \n",
       "98 -0.620001  0.810952 -0.955425 -0.035368 -1.107713 -0.466155 -1.181103   \n",
       "99  0.698032  1.044442  0.585910  2.110605 -0.017718  1.384991 -0.459930   \n",
       "\n",
       "          x8        x9       x10  y  \n",
       "0  -0.790800  0.814343 -0.446699  1  \n",
       "1   1.223722  0.780470  0.204377  1  \n",
       "2  -0.059368 -1.464054  0.612233  1  \n",
       "3   1.448989 -0.154491  0.744885  1  \n",
       "4  -0.477581 -0.092432 -0.036281  1  \n",
       "..       ...       ...       ... ..  \n",
       "95 -1.229574  0.578464 -0.116444  1  \n",
       "96  1.108617 -0.961264 -2.277298  1  \n",
       "97 -0.702920 -1.458324 -0.069625  1  \n",
       "98  0.725551  0.494342  0.353870  1  \n",
       "99 -0.324204 -1.494194 -0.186955  1  \n",
       "\n",
       "[100 rows x 11 columns]"
      ]
     },
     "execution_count": 9,
     "metadata": {},
     "output_type": "execute_result"
    }
   ],
   "source": [
    "data100_1"
   ]
  },
  {
   "cell_type": "markdown",
   "id": "ebea299c",
   "metadata": {},
   "source": [
    "### GMT"
   ]
  },
  {
   "cell_type": "markdown",
   "id": "09f5b9b3",
   "metadata": {},
   "source": [
    "Parameters\n",
    "    \n",
    "    partition_prior : float, must be > 0.0 and < 1.0, typical value: 0.9\n",
    "        將節點的數據分成兩個孩子的先驗概率。\n",
    "        較小的值往往會降低樹的深度，從而降低表達能力，但也會減少過度擬合。\n",
    "        較大的值往往會增加樹的深度，從而導致樹更好地擬合數據，這可能導致過度擬合。\n",
    "\n",
    "    prior : array_like, shape = [number of classes]\n",
    "        Dirichlet 共軛先驗的超參數 [alpha_0, alpha_1, ..., alpha_{N-1}]，參見 [1] 和 [2]。 \n",
    "        所有 alpha_i 必須為正數，alpha_i 表示第 i 類的先前偽觀察數。\n",
    "        alpha_i 的小值表示弱先驗，導致訓練數據主導後驗。 這可能導致過度擬合。\n",
    "        alpha_i 的較大值表示強先驗，因此對數據的權重較小。 這可以用於正則化。\n",
    "\n",
    "    delta : float, default=0.0\n",
    "        隨著樹的深入，確定先驗的加強。 必須是介於 0.0 和 1.0 之間的值。\n",
    "\n",
    "    prune : boolean, default=False\n",
    "        通過刪除所有不添加信息的拆分（即兩個孩子的預測相同的情況），在擬合後修剪樹。 \n",
    "        如果您只對類別預測感興趣 (`predict(X)`)，在分類案例中將其設置為 `True` 通常是明智的，\n",
    "        但如果您正在尋找類別，則將其設置為 `False` 是有意義的概率（`predict_proba(X)`）。\n",
    "        在回歸的情況下，它可以安全地設置為“真”，因為它只會在他們的預測相同的情況下合併孩子。\n",
    "\n",
    "    split_precision : float, default=0.0\n",
    "        確定考慮拆分的兩個連續點之間的最小距離。 如果距離低於此閾值，則認為這些點沿此方向重疊。\n",
    "   "
   ]
  },
  {
   "cell_type": "markdown",
   "id": "d60543af",
   "metadata": {},
   "source": [
    "#### 挑參數"
   ]
  },
  {
   "cell_type": "code",
   "execution_count": 10,
   "id": "f8c41918",
   "metadata": {},
   "outputs": [],
   "source": [
    "n_classes = len(np.unique(y100))\n",
    "    \n",
    "# prior\n",
    "prior_pseudo_observations = 1\n",
    "prior = prior_pseudo_observations * np.ones(n_classes) / (n_classes^5) \n",
    "\n",
    "# model\n",
    "gmt = PerpendicularClassificationTree(\n",
    "    #partition_prior=0.9,\n",
    "    prior=prior,\n",
    "    #delta=0, \n",
    "    prune=False) #分類"
   ]
  },
  {
   "cell_type": "code",
   "execution_count": 11,
   "id": "560796c5",
   "metadata": {},
   "outputs": [
    {
     "data": {
      "text/plain": [
       "{'partition_prior': 0.8894871794871795, 'delta': 0.02564102564102564}"
      ]
     },
     "execution_count": 11,
     "metadata": {},
     "output_type": "execute_result"
    }
   ],
   "source": [
    "param_distribs = {\n",
    "    'partition_prior': np.linspace(0.01,0.99,40),\n",
    "    'delta': np.linspace(0,1,40)\n",
    "}\n",
    "\n",
    "gmt_search = RandomizedSearchCV(gmt, \n",
    "    param_distributions=param_distribs, n_iter=100, cv=5, \n",
    "    scoring='f1', random_state=1)\n",
    "\n",
    "gmt_search.fit(x100_train, y100_train)\n",
    "g1_model = gmt_search.best_estimator_\n",
    "gmt_search.best_params_"
   ]
  },
  {
   "cell_type": "markdown",
   "id": "7b125361",
   "metadata": {},
   "source": [
    "### 訓練"
   ]
  },
  {
   "cell_type": "markdown",
   "id": "fa08c444",
   "metadata": {},
   "source": [
    "#### 使用K-FOLD進行訓練，CV設置為5。"
   ]
  },
  {
   "cell_type": "code",
   "execution_count": 12,
   "id": "8bed5129",
   "metadata": {},
   "outputs": [
    {
     "name": "stdout",
     "output_type": "stream",
     "text": [
      "Train F1 Score: 0.9414 %\n",
      "Test F1 Score:  1.0000 %\n"
     ]
    }
   ],
   "source": [
    "f1_train = cross_val_score(g1_model, x100_train, y100_train, scoring='f1', cv=5)\n",
    "f1_test  = cross_val_score(g1_model, x100_test, y100_test, scoring='f1', cv=5)\n",
    "info_train = 'Train F1 Score: {:.4f} %'.format(f1_train.mean())\n",
    "info_test  = 'Test F1 Score:  {:.4f} %'.format(f1_test.mean())\n",
    "\n",
    "print(info_train)\n",
    "print(info_test)"
   ]
  },
  {
   "cell_type": "code",
   "execution_count": 13,
   "id": "3da5fbaa",
   "metadata": {},
   "outputs": [
    {
     "name": "stdout",
     "output_type": "stream",
     "text": [
      "Tree depth and number of leaves: 3, 4\n"
     ]
    },
    {
     "data": {
      "image/png": "[encoded data removed]",
      "text/plain": [
       "<Figure size 432x288 with 1 Axes>"
      ]
     },
     "metadata": {
      "needs_background": "light"
     },
     "output_type": "display_data"
    }
   ],
   "source": [
    "print('Tree depth and number of leaves: {}, {}'.format(g1_model.get_depth(), g1_model.get_n_leaves()))\n",
    "\n",
    "imp = g1_model.feature_importance()\n",
    "features = list(data100_1)[0:-1]\n",
    "sorted(zip(imp, features), reverse=True)\n",
    "ind = np.argsort(imp)\n",
    "plt.title('Feature Importances')\n",
    "plt.barh(range(len(ind)), imp[ind], color='g', align='center')\n",
    "plt.yticks(range(len(ind)), [features[i] for i in ind])\n",
    "plt.xlabel('Relative Importance')\n",
    "plt.show()"
   ]
  },
  {
   "cell_type": "markdown",
   "id": "92abf823",
   "metadata": {},
   "source": [
    "#### 重複訓練100次，進行平均計算分數"
   ]
  },
  {
   "cell_type": "code",
   "execution_count": 15,
   "id": "43e00645",
   "metadata": {},
   "outputs": [
    {
     "name": "stdout",
     "output_type": "stream",
     "text": [
      "Train matrix: \n",
      "(78.52, 2.98, 1.59, 76.91)\n",
      "Test matrix: \n",
      "(18.95, 1.27, 0.94, 18.84)\n",
      "\n",
      "       Score    y=0(多)    y=1(少)\n",
      "0  precision  0.937191  0.952477\n",
      "1     recall  0.952740  0.936847\n",
      "2   f1-score  0.944902  0.944598\n",
      "Wall time: 470 ms\n"
     ]
    }
   ],
   "source": [
    "%%time\n",
    "tn_train, fp_train, fn_train, tp_train = 0, 0, 0, 0\n",
    "tn_test, fp_test, fn_test, tp_test = 0, 0, 0, 0\n",
    "imp = 0\n",
    "\n",
    "for i in range(0,100):\n",
    "    x100_train2, x100_test2, y100_train2, y100_test2 = train_test_split(x100, y100, test_size=0.2) \n",
    "    g1_model.fit(x100_train2, y100_train2)\n",
    "    y100_pred_train = g1_model.predict(x100_train2)\n",
    "    y100_pred_test = g1_model.predict(x100_test2)\n",
    "    \n",
    "    tp1, fn1, fp1, tn1 = confusion_matrix(y100_train2, y100_pred_train).ravel()\n",
    "    tp2, fn2, fp2, tn2 = confusion_matrix(y100_test2, y100_pred_test).ravel()\n",
    "    \n",
    "    tn_train = tn1 + tn_train\n",
    "    fp_train = fp1 + fp_train\n",
    "    fn_train = fn1 + fn_train\n",
    "    tp_train = tp1 + tp_train\n",
    "    \n",
    "    tn_test = tn2 + tn_test\n",
    "    fp_test = fp2 + fp_test\n",
    "    fn_test = fn2 + fn_test\n",
    "    tp_test = tp2 + tp_test\n",
    "    \n",
    "    imp2 = g1_model.feature_importance()\n",
    "    imp = imp + imp2\n",
    "\n",
    "print('Train matrix: \\n{}'.format((tp_train/100, fp_train/100, fn_train/100, tn_train/100)))\n",
    "print('Test matrix: \\n{}\\n'.format((tp_test/100, fp_test/100, fn_test/100, tn_test/100)))\n",
    "\n",
    "recall_0 = tp_test/(tp_test+fn_test)\n",
    "precision_0 = tp_test/(tp_test+fp_test)\n",
    "recall_1 = tn_test/(tn_test+fp_test)\n",
    "precision_1 = tn_test/(tn_test+fn_test)\n",
    "\n",
    "score = {\n",
    "    \"Score\" : [\"precision\", \"recall\",  \"f1-score\"],\n",
    "    \"y=0(多)\" : [precision_0, recall_0, 2*((precision_0*recall_0)/(precision_0 + recall_0))],\n",
    "    \"y=1(少)\" : [precision_1, recall_1, 2*((precision_1*recall_1)/(precision_1 + recall_1))]\n",
    "}\n",
    "sc = pd.DataFrame(score)\n",
    "print(sc)"
   ]
  },
  {
   "cell_type": "code",
   "execution_count": 18,
   "id": "4e88c6cf",
   "metadata": {},
   "outputs": [
    {
     "data": {
      "image/png": "[encoded data removed]",
      "text/plain": [
       "<Figure size 432x288 with 1 Axes>"
      ]
     },
     "metadata": {
      "needs_background": "light"
     },
     "output_type": "display_data"
    }
   ],
   "source": [
    "features = list(data100_1)[0:-1]\n",
    "sorted(zip(imp/100, features), reverse=True)\n",
    "ind = np.argsort(imp/100)\n",
    "\n",
    "plt.title('Feature Importances')\n",
    "plt.barh(range(len(ind)), (imp/100)[ind], color='g', align='center')\n",
    "plt.yticks(range(len(ind)), [features[i] for i in ind])\n",
    "plt.xlabel('Relative Importance')\n",
    "plt.show()"
   ]
  },
  {
   "cell_type": "markdown",
   "id": "511edfa8",
   "metadata": {},
   "source": [
    "#### 單次參考訓練數值"
   ]
  },
  {
   "cell_type": "code",
   "execution_count": 19,
   "id": "1a9aebcb",
   "metadata": {},
   "outputs": [
    {
     "name": "stdout",
     "output_type": "stream",
     "text": [
      "Wall time: 5 ms\n",
      "Train matrix: \n",
      "[[74  3]\n",
      " [ 1 82]]\n",
      "Test matrix: \n",
      "[[23  0]\n",
      " [ 0 17]]\n"
     ]
    },
    {
     "data": {
      "text/plain": [
       "array([74,  3,  1, 82], dtype=int64)"
      ]
     },
     "execution_count": 19,
     "metadata": {},
     "output_type": "execute_result"
    }
   ],
   "source": [
    "%time g1_model.fit(x100_train, y100_train)\n",
    "y100_pred_train = g1_model.predict(x100_train)\n",
    "y100_pred_test = g1_model.predict(x100_test)\n",
    "\n",
    "print('Train matrix: \\n{}'.format(confusion_matrix(y100_train, y100_pred_train)))\n",
    "print('Test matrix: \\n{}'.format(confusion_matrix(y100_test, y100_pred_test)))\n",
    "confusion_matrix(y100_train, y100_pred_train).ravel()"
   ]
  },
  {
   "cell_type": "code",
   "execution_count": 20,
   "id": "7c0d5446",
   "metadata": {},
   "outputs": [
    {
     "name": "stdout",
     "output_type": "stream",
     "text": [
      "              precision    recall  f1-score   support\n",
      "\n",
      "      y=0(多)       1.00      1.00      1.00        23\n",
      "      y=1(少)       1.00      1.00      1.00        17\n",
      "\n",
      "    accuracy                           1.00        40\n",
      "   macro avg       1.00      1.00      1.00        40\n",
      "weighted avg       1.00      1.00      1.00        40\n",
      "\n"
     ]
    }
   ],
   "source": [
    "class_name = ['y=0(多)','y=1(少)']\n",
    "print(classification_report(y100_test, y100_pred_test, target_names = class_name))"
   ]
  },
  {
   "cell_type": "markdown",
   "id": "880c96fa",
   "metadata": {},
   "source": [
    "## DT"
   ]
  },
  {
   "cell_type": "markdown",
   "id": "a5e4f61e",
   "metadata": {},
   "source": [
    "### 挑選參數"
   ]
  },
  {
   "cell_type": "code",
   "execution_count": 21,
   "id": "bbe6262e",
   "metadata": {},
   "outputs": [
    {
     "data": {
      "text/plain": [
       "{'criterion': 'entropy', 'max_depth': 3}"
      ]
     },
     "execution_count": 21,
     "metadata": {},
     "output_type": "execute_result"
    }
   ],
   "source": [
    "param_distribs = {\n",
    "    'criterion': ['gini', 'entropy'],\n",
    "    'max_depth': randint(low=2, high=15)\n",
    "}\n",
    "\n",
    "dt_cf = DecisionTreeClassifier(random_state=1)\n",
    "dt_search = RandomizedSearchCV(dt_cf, param_distributions=param_distribs, \n",
    "                                n_iter=100, cv=5, scoring='f1', random_state=1)\n",
    "dt_search.fit(x100_train, y100_train)\n",
    "\n",
    "d1_model = dt_search.best_estimator_\n",
    "dt_search.best_params_"
   ]
  },
  {
   "cell_type": "code",
   "execution_count": 16,
   "id": "317c2ac5",
   "metadata": {},
   "outputs": [],
   "source": [
    "# dt100 = DecisionTreeClassifier(criterion = 'entropy', max_depth = 5, random_state=1)"
   ]
  },
  {
   "cell_type": "markdown",
   "id": "5f639079",
   "metadata": {},
   "source": [
    "### 訓練"
   ]
  },
  {
   "cell_type": "code",
   "execution_count": 22,
   "id": "2c0bf7e9",
   "metadata": {},
   "outputs": [
    {
     "name": "stdout",
     "output_type": "stream",
     "text": [
      "Train F1 Score: 0.9427 %\n",
      "Test F1 Score:  1.0000 %\n"
     ]
    }
   ],
   "source": [
    "f1_train = cross_val_score(d1_model, x100_train, y100_train, scoring='f1', cv=5)\n",
    "f1_test  = cross_val_score(d1_model, x100_test, y100_test, scoring='f1', cv=5)\n",
    "info_train = 'Train F1 Score: {:.4f} %'.format(f1_train.mean())\n",
    "info_test  = 'Test F1 Score:  {:.4f} %'.format(f1_test.mean())\n",
    "\n",
    "print(info_train)\n",
    "print(info_test)"
   ]
  },
  {
   "cell_type": "code",
   "execution_count": 23,
   "id": "8bbd6c5e",
   "metadata": {},
   "outputs": [
    {
     "name": "stdout",
     "output_type": "stream",
     "text": [
      "Tree depth and number of leaves: 3, 5\n"
     ]
    },
    {
     "data": {
      "image/png": "[encoded data removed]",
      "text/plain": [
       "<Figure size 432x288 with 1 Axes>"
      ]
     },
     "metadata": {
      "needs_background": "light"
     },
     "output_type": "display_data"
    }
   ],
   "source": [
    "print('Tree depth and number of leaves: {}, {}'.format(d1_model.get_depth(), d1_model.get_n_leaves()))\n",
    "\n",
    "imp = d1_model.feature_importances_\n",
    "features = list(data100_0)[0:-1]\n",
    "sorted(zip(imp, features), reverse=True)\n",
    "ind = np.argsort(imp)\n",
    "plt.title('Feature Importances')\n",
    "plt.barh(range(len(ind)), imp[ind], color='g', align='center')\n",
    "plt.yticks(range(len(ind)), [features[i] for i in ind])\n",
    "plt.xlabel('Relative Importance')\n",
    "plt.show()"
   ]
  },
  {
   "cell_type": "markdown",
   "id": "c3dd0c48",
   "metadata": {},
   "source": [
    "### 重複訓練100次，進行平均"
   ]
  },
  {
   "cell_type": "code",
   "execution_count": 25,
   "id": "886cdf92",
   "metadata": {},
   "outputs": [
    {
     "name": "stdout",
     "output_type": "stream",
     "text": [
      "Train matrix: \n",
      "(79.15, 1.15, 0.62, 79.08)\n",
      "Test matrix: \n",
      "(19.19, 1.17, 1.04, 18.6)\n",
      "\n",
      "       Score    y=0(多)    y=1(少)\n",
      "0  precision  0.942534  0.947047\n",
      "1     recall  0.948591  0.940819\n",
      "2   f1-score  0.945553  0.943923\n",
      "Wall time: 155 ms\n"
     ]
    }
   ],
   "source": [
    "%%time\n",
    "tn_train, fp_train, fn_train, tp_train = 0, 0, 0, 0\n",
    "tn_test, fp_test, fn_test, tp_test = 0, 0, 0, 0\n",
    "imp = 0\n",
    "\n",
    "for i in range(0,100):\n",
    "    x100_train2, x100_test2, y100_train2, y100_test2 = train_test_split(x100, y100, test_size=0.2) \n",
    "    d1_model.fit(x100_train2, y100_train2)\n",
    "    y100_pred_train = d1_model.predict(x100_train2)\n",
    "    y100_pred_test = d1_model.predict(x100_test2)\n",
    "    \n",
    "    tp1, fn1, fp1, tn1 = confusion_matrix(y100_train2, y100_pred_train).ravel()\n",
    "    tp2, fn2, fp2, tn2 = confusion_matrix(y100_test2, y100_pred_test).ravel()\n",
    "    \n",
    "    tn_train = tn1 + tn_train\n",
    "    fp_train = fp1 + fp_train\n",
    "    fn_train = fn1 + fn_train\n",
    "    tp_train = tp1 + tp_train\n",
    "    \n",
    "    tn_test = tn2 + tn_test\n",
    "    fp_test = fp2 + fp_test\n",
    "    fn_test = fn2 + fn_test\n",
    "    tp_test = tp2 + tp_test\n",
    "    \n",
    "    imp2 = d1_model.feature_importances_\n",
    "    imp = imp + imp2\n",
    "\n",
    "print('Train matrix: \\n{}'.format((tp_train/100, fp_train/100, fn_train/100, tn_train/100)))\n",
    "print('Test matrix: \\n{}\\n'.format((tp_test/100, fp_test/100, fn_test/100, tn_test/100)))\n",
    "\n",
    "recall_0 = tp_test/(tp_test+fn_test)\n",
    "precision_0 = tp_test/(tp_test+fp_test)\n",
    "recall_1 = tn_test/(tn_test+fp_test)\n",
    "precision_1 = tn_test/(tn_test+fn_test)\n",
    "\n",
    "score = {\n",
    "    \"Score\" : [\"precision\", \"recall\",  \"f1-score\"],\n",
    "    \"y=0(多)\" : [precision_0, recall_0, 2*((precision_0*recall_0)/(precision_0 + recall_0))],\n",
    "    \"y=1(少)\" : [precision_1, recall_1, 2*((precision_1*recall_1)/(precision_1 + recall_1))]\n",
    "}\n",
    "sc = pd.DataFrame(score)\n",
    "print(sc)"
   ]
  },
  {
   "cell_type": "code",
   "execution_count": 26,
   "id": "f90a7264",
   "metadata": {},
   "outputs": [
    {
     "data": {
      "image/png": "[encoded data removed]",
      "text/plain": [
       "<Figure size 432x288 with 1 Axes>"
      ]
     },
     "metadata": {
      "needs_background": "light"
     },
     "output_type": "display_data"
    }
   ],
   "source": [
    "features = list(data100_1)[0:-1]\n",
    "sorted(zip(imp/100, features), reverse=True)\n",
    "ind = np.argsort(imp/100)\n",
    "\n",
    "plt.title('Feature Importances')\n",
    "plt.barh(range(len(ind)), (imp/100)[ind], color='g', align='center')\n",
    "plt.yticks(range(len(ind)), [features[i] for i in ind])\n",
    "plt.xlabel('Relative Importance')\n",
    "plt.show()"
   ]
  },
  {
   "cell_type": "markdown",
   "id": "ee1bc0e2",
   "metadata": {},
   "source": [
    "#### 單次訓練參考"
   ]
  },
  {
   "cell_type": "code",
   "execution_count": 27,
   "id": "148ab3eb",
   "metadata": {},
   "outputs": [
    {
     "name": "stdout",
     "output_type": "stream",
     "text": [
      "Wall time: 1 ms\n",
      "Train matrix: \n",
      "[[77  0]\n",
      " [ 3 80]]\n",
      "Test matrix: \n",
      "[[23  0]\n",
      " [ 2 15]]\n"
     ]
    }
   ],
   "source": [
    "%time d1_model.fit(x100_train, y100_train)\n",
    "y100_pred_train = d1_model.predict(x100_train)\n",
    "y100_pred_test = d1_model.predict(x100_test)\n",
    "\n",
    "print('Train matrix: \\n{}'.format(confusion_matrix(y100_train, y100_pred_train)))\n",
    "print('Test matrix: \\n{}'.format(confusion_matrix(y100_test, y100_pred_test)))"
   ]
  },
  {
   "cell_type": "code",
   "execution_count": 28,
   "id": "818bfb6f",
   "metadata": {},
   "outputs": [
    {
     "name": "stdout",
     "output_type": "stream",
     "text": [
      "              precision    recall  f1-score   support\n",
      "\n",
      "      y=0(多)       0.92      1.00      0.96        23\n",
      "      y=1(少)       1.00      0.88      0.94        17\n",
      "\n",
      "    accuracy                           0.95        40\n",
      "   macro avg       0.96      0.94      0.95        40\n",
      "weighted avg       0.95      0.95      0.95        40\n",
      "\n"
     ]
    }
   ],
   "source": [
    "class_name = ['y=0(多)','y=1(少)']\n",
    "print(classification_report(y100_test, y100_pred_test, target_names = class_name))"
   ]
  },
  {
   "cell_type": "markdown",
   "id": "4aefc1d7",
   "metadata": {},
   "source": [
    "## RF"
   ]
  },
  {
   "cell_type": "markdown",
   "id": "7941d245",
   "metadata": {},
   "source": [
    "### 挑選參數"
   ]
  },
  {
   "cell_type": "code",
   "execution_count": 29,
   "id": "be489452",
   "metadata": {},
   "outputs": [
    {
     "data": {
      "text/plain": [
       "{'criterion': 'entropy', 'n_estimators': 97}"
      ]
     },
     "execution_count": 29,
     "metadata": {},
     "output_type": "execute_result"
    }
   ],
   "source": [
    "param_distribs = {\n",
    "    'n_estimators': randint(low=1, high=200),\n",
    "    'criterion': ['gini', 'entropy']\n",
    "}\n",
    "\n",
    "rnd_cf = RandomForestClassifier(random_state=1)\n",
    "rnd_search = RandomizedSearchCV(rnd_cf, param_distributions=param_distribs, \n",
    "                                n_iter=100, cv=5, scoring='f1', random_state=1)\n",
    "rnd_search.fit(x100_train, y100_train)\n",
    "\n",
    "rf1_model = rnd_search.best_estimator_\n",
    "rnd_search.best_params_"
   ]
  },
  {
   "cell_type": "code",
   "execution_count": 97,
   "id": "5e3e22d6",
   "metadata": {},
   "outputs": [],
   "source": [
    "# rf100 = RandomForestClassifier(random_state=1, criterion = 'entropy', n_estimators = 100)"
   ]
  },
  {
   "cell_type": "markdown",
   "id": "3ba02a69",
   "metadata": {},
   "source": [
    "### 訓練"
   ]
  },
  {
   "cell_type": "code",
   "execution_count": 30,
   "id": "9f3b36a1",
   "metadata": {},
   "outputs": [
    {
     "name": "stdout",
     "output_type": "stream",
     "text": [
      "Train F1 Score: 0.9758 %\n",
      "Test F1 Score:  1.0000 %\n"
     ]
    }
   ],
   "source": [
    "f1_train = cross_val_score(rf1_model, x100_train, y100_train, scoring='f1', cv=5)\n",
    "f1_test  = cross_val_score(rf1_model, x100_test, y100_test, scoring='f1', cv=5)\n",
    "info_train = 'Train F1 Score: {:.4f} %'.format(f1_train.mean())\n",
    "info_test  = 'Test F1 Score:  {:.4f} %'.format(f1_test.mean())\n",
    "\n",
    "print(info_train)\n",
    "print(info_test)"
   ]
  },
  {
   "cell_type": "code",
   "execution_count": 31,
   "id": "494a66e0",
   "metadata": {
    "scrolled": true
   },
   "outputs": [
    {
     "data": {
      "image/png": "[encoded data removed]",
      "text/plain": [
       "<Figure size 432x288 with 1 Axes>"
      ]
     },
     "metadata": {
      "needs_background": "light"
     },
     "output_type": "display_data"
    }
   ],
   "source": [
    "imp = rf1_model.feature_importances_\n",
    "features = list(data100_0)[0:-1]\n",
    "sorted(zip(imp, features), reverse=True)\n",
    "ind = np.argsort(imp)\n",
    "plt.title('Feature Importances')\n",
    "plt.barh(range(len(ind)), imp[ind], color='g', align='center')\n",
    "plt.yticks(range(len(ind)), [features[i] for i in ind])\n",
    "plt.xlabel('Relative Importance')\n",
    "plt.show()"
   ]
  },
  {
   "cell_type": "markdown",
   "id": "b2ac3c5b",
   "metadata": {},
   "source": [
    "### 重複訓練100次，進行平均"
   ]
  },
  {
   "cell_type": "code",
   "execution_count": 32,
   "id": "a6330c3c",
   "metadata": {},
   "outputs": [
    {
     "name": "stdout",
     "output_type": "stream",
     "text": [
      "Train matrix: \n",
      "(80.13, 0.0, 0.0, 79.87)\n",
      "Test matrix: \n",
      "(19.26, 0.69, 0.61, 19.44)\n",
      "\n",
      "       Score    y=0(多)    y=1(少)\n",
      "0  precision  0.965414  0.969576\n",
      "1     recall  0.969300  0.965723\n",
      "2   f1-score  0.967353  0.967646\n",
      "Wall time: 9.61 s\n"
     ]
    }
   ],
   "source": [
    "%%time\n",
    "tn_train, fp_train, fn_train, tp_train = 0, 0, 0, 0\n",
    "tn_test, fp_test, fn_test, tp_test = 0, 0, 0, 0\n",
    "imp = 0\n",
    "\n",
    "for i in range(0,100):\n",
    "    x100_train2, x100_test2, y100_train2, y100_test2 = train_test_split(x100, y100, test_size=0.2) \n",
    "    rf1_model.fit(x100_train2, y100_train2)\n",
    "    y100_pred_train = rf1_model.predict(x100_train2)\n",
    "    y100_pred_test = rf1_model.predict(x100_test2)\n",
    "    \n",
    "    tp1, fn1, fp1, tn1 = confusion_matrix(y100_train2, y100_pred_train).ravel()\n",
    "    tp2, fn2, fp2, tn2 = confusion_matrix(y100_test2, y100_pred_test).ravel()\n",
    "    \n",
    "    tn_train = tn1 + tn_train\n",
    "    fp_train = fp1 + fp_train\n",
    "    fn_train = fn1 + fn_train\n",
    "    tp_train = tp1 + tp_train\n",
    "    \n",
    "    tn_test = tn2 + tn_test\n",
    "    fp_test = fp2 + fp_test\n",
    "    fn_test = fn2 + fn_test\n",
    "    tp_test = tp2 + tp_test\n",
    "    \n",
    "    imp2 = rf1_model.feature_importances_\n",
    "    imp = imp + imp2\n",
    "\n",
    "print('Train matrix: \\n{}'.format((tp_train/100, fp_train/100, fn_train/100, tn_train/100)))\n",
    "print('Test matrix: \\n{}\\n'.format((tp_test/100, fp_test/100, fn_test/100, tn_test/100)))\n",
    "\n",
    "recall_0 = tp_test/(tp_test+fn_test)\n",
    "precision_0 = tp_test/(tp_test+fp_test)\n",
    "recall_1 = tn_test/(tn_test+fp_test)\n",
    "precision_1 = tn_test/(tn_test+fn_test)\n",
    "\n",
    "score = {\n",
    "    \"Score\" : [\"precision\", \"recall\",  \"f1-score\"],\n",
    "    \"y=0(多)\" : [precision_0, recall_0, 2*((precision_0*recall_0)/(precision_0 + recall_0))],\n",
    "    \"y=1(少)\" : [precision_1, recall_1, 2*((precision_1*recall_1)/(precision_1 + recall_1))]\n",
    "}\n",
    "sc = pd.DataFrame(score)\n",
    "print(sc)"
   ]
  },
  {
   "cell_type": "code",
   "execution_count": 33,
   "id": "f45a69cf",
   "metadata": {},
   "outputs": [
    {
     "data": {
      "image/png": "[encoded data removed]",
      "text/plain": [
       "<Figure size 432x288 with 1 Axes>"
      ]
     },
     "metadata": {
      "needs_background": "light"
     },
     "output_type": "display_data"
    }
   ],
   "source": [
    "features = list(data100_1)[0:-1]\n",
    "sorted(zip(imp/100, features), reverse=True)\n",
    "ind = np.argsort(imp/100)\n",
    "\n",
    "plt.title('Feature Importances')\n",
    "plt.barh(range(len(ind)), (imp/100)[ind], color='g', align='center')\n",
    "plt.yticks(range(len(ind)), [features[i] for i in ind])\n",
    "plt.xlabel('Relative Importance')\n",
    "plt.show()\n"
   ]
  },
  {
   "cell_type": "markdown",
   "id": "06ce6f01",
   "metadata": {},
   "source": [
    "### 單次訓練參考"
   ]
  },
  {
   "cell_type": "code",
   "execution_count": 34,
   "id": "91578dee",
   "metadata": {},
   "outputs": [
    {
     "name": "stdout",
     "output_type": "stream",
     "text": [
      "Wall time: 82 ms\n",
      "Train matrix: \n",
      "[[77  0]\n",
      " [ 0 83]]\n",
      "Test matrix: \n",
      "[[23  0]\n",
      " [ 0 17]]\n"
     ]
    }
   ],
   "source": [
    "%time rf1_model.fit(x100_train, y100_train)\n",
    "y100_pred_train = rf1_model.predict(x100_train)\n",
    "y100_pred_test = rf1_model.predict(x100_test)\n",
    "\n",
    "print('Train matrix: \\n{}'.format(confusion_matrix(y100_train, y100_pred_train)))\n",
    "print('Test matrix: \\n{}'.format(confusion_matrix(y100_test, y100_pred_test)))"
   ]
  },
  {
   "cell_type": "code",
   "execution_count": 35,
   "id": "5094e47a",
   "metadata": {},
   "outputs": [
    {
     "name": "stdout",
     "output_type": "stream",
     "text": [
      "              precision    recall  f1-score   support\n",
      "\n",
      "      y=0(多)       1.00      1.00      1.00        23\n",
      "      y=1(少)       1.00      1.00      1.00        17\n",
      "\n",
      "    accuracy                           1.00        40\n",
      "   macro avg       1.00      1.00      1.00        40\n",
      "weighted avg       1.00      1.00      1.00        40\n",
      "\n"
     ]
    }
   ],
   "source": [
    "class_name = ['y=0(多)','y=1(少)']\n",
    "print(classification_report(y100_test, y100_pred_test, target_names = class_name))"
   ]
  },
  {
   "cell_type": "markdown",
   "id": "2bd59591",
   "metadata": {},
   "source": [
    "## 評估指標"
   ]
  },
  {
   "cell_type": "code",
   "execution_count": 137,
   "id": "dc407aaa",
   "metadata": {},
   "outputs": [
    {
     "data": {
      "image/png": "[encoded data removed]",
      "text/plain": [
       "<Figure size 864x864 with 1 Axes>"
      ]
     },
     "metadata": {
      "needs_background": "light"
     },
     "output_type": "display_data"
    }
   ],
   "source": [
    "method_count = 3 #列出三個方法的SMOTE前與後\n",
    "bar_width = 0.3 #長條寬度\n",
    "index = 3*np.arange(method_count)\n",
    "\n",
    "#擷取三個評估值的數字\n",
    "y_0_precision = [0.937191, 0.942534, 0.965414]\n",
    "y_1_precision = [0.952477, 0.947047, 0.969576]\n",
    "y_0_recall    = [0.952740, 0.948591, 0.969300]\n",
    "y_1_recall    = [0.936847, 0.940819, 0.965723]\n",
    "y_0_f1score   = [0.944902, 0.945553, 0.967353]\n",
    "y_1_f1score   = [0.944598, 0.943923, 0.967646]\n",
    "\n",
    "plt.figure(figsize=(12,12))\n",
    "\n",
    "y_0_precision = plt.bar(index,         #長條圖位置\n",
    "                       y_0_precision,  #資料\n",
    "                       bar_width,      #長條圖寬度\n",
    "                       alpha = 0.8,    #透明度\n",
    "                       color = 'cornflowerblue',    \n",
    "                       label = \"y0_precision\")\n",
    "y_1_precision = plt.bar(index+0.4,     #長條圖位置\n",
    "                       y_1_precision,  #資料\n",
    "                       bar_width,      #長條圖寬度\n",
    "                       alpha = 0.8,    #透明度\n",
    "                       color = 'lightsteelblue',   \n",
    "                       label = \"y1_precision\")\n",
    "y_0_recall    = plt.bar(index+0.8,     #長條圖位置\n",
    "                       y_0_recall,     #資料\n",
    "                       bar_width,      #長條圖寬度\n",
    "                       alpha = 0.8,    #透明度\n",
    "                       color = 'firebrick',   \n",
    "                       label = \"y0_recall\")\n",
    "y_1_recall    = plt.bar(index+1.2,     #長條圖位置\n",
    "                       y_1_recall,     #資料\n",
    "                       bar_width,      #長條圖寬度\n",
    "                       alpha = 0.8,    #透明度\n",
    "                       color = 'lightcoral',   \n",
    "                       label = \"y1_recall\")\n",
    "y_0_f1score   = plt.bar(index+1.6,     #長條圖位置\n",
    "                       y_0_f1score,    #資料\n",
    "                       bar_width,      #長條圖寬度\n",
    "                       alpha = 0.8,    #透明度\n",
    "                       color = 'olivedrab',   \n",
    "                       label = \"y0_f1-score\")\n",
    "y_1_f1score   = plt.bar(index+2,     #長條圖位置\n",
    "                       y_1_f1score,    #資料\n",
    "                       bar_width,      #長條圖寬度\n",
    "                       alpha = 0.8,    #透明度\n",
    "                       color = 'lightgreen',   \n",
    "                       label = \"y1_f1-score\")\n",
    "\n",
    "# 長條圖左上的標籤\n",
    "def createLabels(data):                   # 自定義函數，為引用plusone團隊\n",
    "    for item in data:\n",
    "        height = item.get_height()\n",
    "        #plt.text(                        # 數值顯示\n",
    "        #    item.get_x()+item.get_width()/2., \n",
    "        #    height*1.05, \n",
    "        #    '%d' % int(height),\n",
    "        #    ha = \"center\",\n",
    "        #    va = \"bottom\",\n",
    "        #)\n",
    "createLabels(y_0_precision)\n",
    "createLabels(y_1_precision)\n",
    "createLabels(y_0_recall)\n",
    "createLabels(y_1_recall)\n",
    "createLabels(y_0_f1score)\n",
    "createLabels(y_1_f1score)\n",
    "\n",
    "plt.ylabel(\"Score\")          # 設定y軸標題 \n",
    "plt.xlabel(\"Method\")            # 設定x軸標題\n",
    "plt.title(\"Score for Each Method\", {'fontsize' : 15})  # 設定標題、文字大小\n",
    "plt.xticks(index+3*bar_width ,(\"GMT\", \"DT\", \"RF\"))  #.xticks為x軸文字(為了置中所以+0.3/2)\n",
    "plt.ylim(0, 1.2)                 # 設定y軸範圍\n",
    "plt.legend(prop = {'size':12})    # 設定圖例及其大小\n",
    "plt.grid(True)                   # 顯示格線"
   ]
  },
  {
   "cell_type": "markdown",
   "id": "19b0bb7e",
   "metadata": {},
   "source": [
    "# 100:1000"
   ]
  },
  {
   "cell_type": "markdown",
   "id": "c1037eae",
   "metadata": {},
   "source": [
    "## DATA"
   ]
  },
  {
   "cell_type": "code",
   "execution_count": 36,
   "id": "92c94f9a",
   "metadata": {},
   "outputs": [],
   "source": [
    "np.random.seed(1)\n",
    "\n",
    "m = 100\n",
    "\n",
    "data1000_1 = {\n",
    "    \"x1\": np.random.normal(0, 1, m),\n",
    "    \"x2\": np.random.normal(0, 1, m),\n",
    "    \"x3\": np.random.normal(0, 1, m),\n",
    "    \"x4\": np.random.normal(0, 1, m),\n",
    "    \"x5\": np.random.normal(0, 1, m),\n",
    "    \"x6\": np.random.normal(0, 1, m),\n",
    "    \"x7\": np.random.normal(0, 1, m),\n",
    "    \"x8\": np.random.normal(0, 1, m),\n",
    "    \"x9\": np.random.normal(0, 1, m),\n",
    "    \"x10\": np.random.normal(0, 1, m),\n",
    "    \"y\": [1]*m\n",
    "}\n",
    "\n",
    "data1000_1 = pd.DataFrame(data1000_1)\n",
    "\n",
    "data1000_0 = {\n",
    "    \"x1\": np.random.normal(1, 1, m*10),\n",
    "    \"x2\": np.random.normal(2, 1, m*10),\n",
    "    \"x3\": np.random.normal(3, 1, m*10),\n",
    "    \"x4\": np.random.normal(0, 1, m*10),\n",
    "    \"x5\": np.random.normal(0, 1, m*10),\n",
    "    \"x6\": np.random.normal(0, 1, m*10),\n",
    "    \"x7\": np.random.normal(0, 1, m*10),\n",
    "    \"x8\": np.random.normal(0, 1, m*10),\n",
    "    \"x9\": np.random.normal(0, 1, m*10),\n",
    "    \"x10\": np.random.normal(0, 1, m*10),\n",
    "    \"y\": [0]*m*10\n",
    "}\n",
    "\n",
    "data1000_0 = pd.DataFrame(data1000_0)"
   ]
  },
  {
   "cell_type": "code",
   "execution_count": 37,
   "id": "e9446ed4",
   "metadata": {},
   "outputs": [],
   "source": [
    "x1000 = np.append(np.array(data1000_0)[:, 0:10],np.array(data1000_1)[:, 0:10], axis = 0)\n",
    "y1000 = np.append(np.array(data1000_0)[:, 10],np.array(data1000_1)[:, 10])\n",
    "\n",
    "sm = SMOTE(random_state=1)\n",
    "x1000_sm, y1000_sm = sm.fit_resample(x1000, y1000)  \n",
    "\n",
    "x1000_train, x1000_test, y1000_train, y1000_test = train_test_split(x1000_sm, y1000_sm, test_size=0.2,  random_state=1) \n",
    "x1000o_train, x1000o_test, y1000o_train, y1000o_test = train_test_split(x1000, y1000, test_size=0.2,  random_state=1) "
   ]
  },
  {
   "cell_type": "code",
   "execution_count": 38,
   "id": "b0820073",
   "metadata": {},
   "outputs": [
    {
     "data": {
      "text/html": [
       "<div>\n",
       "<style scoped>\n",
       "    .dataframe tbody tr th:only-of-type {\n",
       "        vertical-align: middle;\n",
       "    }\n",
       "\n",
       "    .dataframe tbody tr th {\n",
       "        vertical-align: top;\n",
       "    }\n",
       "\n",
       "    .dataframe thead th {\n",
       "        text-align: right;\n",
       "    }\n",
       "</style>\n",
       "<table border=\"1\" class=\"dataframe\">\n",
       "  <thead>\n",
       "    <tr style=\"text-align: right;\">\n",
       "      <th></th>\n",
       "      <th>x1</th>\n",
       "      <th>x2</th>\n",
       "      <th>x3</th>\n",
       "      <th>x4</th>\n",
       "      <th>x5</th>\n",
       "      <th>x6</th>\n",
       "      <th>x7</th>\n",
       "      <th>x8</th>\n",
       "      <th>x9</th>\n",
       "      <th>x10</th>\n",
       "      <th>y</th>\n",
       "    </tr>\n",
       "  </thead>\n",
       "  <tbody>\n",
       "    <tr>\n",
       "      <th>0</th>\n",
       "      <td>0.846764</td>\n",
       "      <td>2.489517</td>\n",
       "      <td>2.922893</td>\n",
       "      <td>-0.140371</td>\n",
       "      <td>-0.924755</td>\n",
       "      <td>-2.851070</td>\n",
       "      <td>0.920079</td>\n",
       "      <td>-2.219256</td>\n",
       "      <td>0.634025</td>\n",
       "      <td>-0.122474</td>\n",
       "      <td>0</td>\n",
       "    </tr>\n",
       "    <tr>\n",
       "      <th>1</th>\n",
       "      <td>-1.432509</td>\n",
       "      <td>2.238796</td>\n",
       "      <td>3.207825</td>\n",
       "      <td>0.141642</td>\n",
       "      <td>1.128890</td>\n",
       "      <td>0.823123</td>\n",
       "      <td>0.018099</td>\n",
       "      <td>-1.233987</td>\n",
       "      <td>0.713001</td>\n",
       "      <td>0.228170</td>\n",
       "      <td>0</td>\n",
       "    </tr>\n",
       "    <tr>\n",
       "      <th>2</th>\n",
       "      <td>1.507984</td>\n",
       "      <td>1.551888</td>\n",
       "      <td>3.986196</td>\n",
       "      <td>0.311969</td>\n",
       "      <td>-1.128791</td>\n",
       "      <td>-0.274744</td>\n",
       "      <td>1.475869</td>\n",
       "      <td>1.828446</td>\n",
       "      <td>-0.483319</td>\n",
       "      <td>-0.352305</td>\n",
       "      <td>0</td>\n",
       "    </tr>\n",
       "    <tr>\n",
       "      <th>3</th>\n",
       "      <td>0.675968</td>\n",
       "      <td>1.389205</td>\n",
       "      <td>4.432756</td>\n",
       "      <td>0.769085</td>\n",
       "      <td>-0.724738</td>\n",
       "      <td>-0.688101</td>\n",
       "      <td>0.373199</td>\n",
       "      <td>-1.334426</td>\n",
       "      <td>-1.922151</td>\n",
       "      <td>-0.830553</td>\n",
       "      <td>0</td>\n",
       "    </tr>\n",
       "    <tr>\n",
       "      <th>4</th>\n",
       "      <td>-0.511077</td>\n",
       "      <td>-0.029945</td>\n",
       "      <td>3.528258</td>\n",
       "      <td>0.584286</td>\n",
       "      <td>0.623571</td>\n",
       "      <td>1.120081</td>\n",
       "      <td>1.295183</td>\n",
       "      <td>0.607579</td>\n",
       "      <td>-0.761337</td>\n",
       "      <td>-0.261090</td>\n",
       "      <td>0</td>\n",
       "    </tr>\n",
       "    <tr>\n",
       "      <th>...</th>\n",
       "      <td>...</td>\n",
       "      <td>...</td>\n",
       "      <td>...</td>\n",
       "      <td>...</td>\n",
       "      <td>...</td>\n",
       "      <td>...</td>\n",
       "      <td>...</td>\n",
       "      <td>...</td>\n",
       "      <td>...</td>\n",
       "      <td>...</td>\n",
       "      <td>...</td>\n",
       "    </tr>\n",
       "    <tr>\n",
       "      <th>995</th>\n",
       "      <td>1.188583</td>\n",
       "      <td>1.228110</td>\n",
       "      <td>2.874097</td>\n",
       "      <td>1.604546</td>\n",
       "      <td>0.224605</td>\n",
       "      <td>-0.751102</td>\n",
       "      <td>-0.381307</td>\n",
       "      <td>1.304379</td>\n",
       "      <td>0.072959</td>\n",
       "      <td>-0.555574</td>\n",
       "      <td>0</td>\n",
       "    </tr>\n",
       "    <tr>\n",
       "      <th>996</th>\n",
       "      <td>1.560918</td>\n",
       "      <td>1.377343</td>\n",
       "      <td>2.039654</td>\n",
       "      <td>0.566613</td>\n",
       "      <td>-0.477144</td>\n",
       "      <td>-1.499377</td>\n",
       "      <td>1.036886</td>\n",
       "      <td>-0.512391</td>\n",
       "      <td>0.489102</td>\n",
       "      <td>1.101262</td>\n",
       "      <td>0</td>\n",
       "    </tr>\n",
       "    <tr>\n",
       "      <th>997</th>\n",
       "      <td>0.078341</td>\n",
       "      <td>1.849340</td>\n",
       "      <td>2.156087</td>\n",
       "      <td>-0.775988</td>\n",
       "      <td>-0.691212</td>\n",
       "      <td>-1.000089</td>\n",
       "      <td>0.671736</td>\n",
       "      <td>0.991158</td>\n",
       "      <td>-1.014144</td>\n",
       "      <td>-1.354035</td>\n",
       "      <td>0</td>\n",
       "    </tr>\n",
       "    <tr>\n",
       "      <th>998</th>\n",
       "      <td>1.647375</td>\n",
       "      <td>0.599977</td>\n",
       "      <td>3.628342</td>\n",
       "      <td>1.084889</td>\n",
       "      <td>-0.788731</td>\n",
       "      <td>0.261689</td>\n",
       "      <td>0.510561</td>\n",
       "      <td>-0.372678</td>\n",
       "      <td>-0.062696</td>\n",
       "      <td>0.698086</td>\n",
       "      <td>0</td>\n",
       "    </tr>\n",
       "    <tr>\n",
       "      <th>999</th>\n",
       "      <td>2.386826</td>\n",
       "      <td>0.698934</td>\n",
       "      <td>3.537214</td>\n",
       "      <td>2.241989</td>\n",
       "      <td>0.264185</td>\n",
       "      <td>-1.380462</td>\n",
       "      <td>1.006131</td>\n",
       "      <td>0.360407</td>\n",
       "      <td>-1.437870</td>\n",
       "      <td>-3.173462</td>\n",
       "      <td>0</td>\n",
       "    </tr>\n",
       "  </tbody>\n",
       "</table>\n",
       "<p>1000 rows × 11 columns</p>\n",
       "</div>"
      ],
      "text/plain": [
       "           x1        x2        x3        x4        x5        x6        x7  \\\n",
       "0    0.846764  2.489517  2.922893 -0.140371 -0.924755 -2.851070  0.920079   \n",
       "1   -1.432509  2.238796  3.207825  0.141642  1.128890  0.823123  0.018099   \n",
       "2    1.507984  1.551888  3.986196  0.311969 -1.128791 -0.274744  1.475869   \n",
       "3    0.675968  1.389205  4.432756  0.769085 -0.724738 -0.688101  0.373199   \n",
       "4   -0.511077 -0.029945  3.528258  0.584286  0.623571  1.120081  1.295183   \n",
       "..        ...       ...       ...       ...       ...       ...       ...   \n",
       "995  1.188583  1.228110  2.874097  1.604546  0.224605 -0.751102 -0.381307   \n",
       "996  1.560918  1.377343  2.039654  0.566613 -0.477144 -1.499377  1.036886   \n",
       "997  0.078341  1.849340  2.156087 -0.775988 -0.691212 -1.000089  0.671736   \n",
       "998  1.647375  0.599977  3.628342  1.084889 -0.788731  0.261689  0.510561   \n",
       "999  2.386826  0.698934  3.537214  2.241989  0.264185 -1.380462  1.006131   \n",
       "\n",
       "           x8        x9       x10  y  \n",
       "0   -2.219256  0.634025 -0.122474  0  \n",
       "1   -1.233987  0.713001  0.228170  0  \n",
       "2    1.828446 -0.483319 -0.352305  0  \n",
       "3   -1.334426 -1.922151 -0.830553  0  \n",
       "4    0.607579 -0.761337 -0.261090  0  \n",
       "..        ...       ...       ... ..  \n",
       "995  1.304379  0.072959 -0.555574  0  \n",
       "996 -0.512391  0.489102  1.101262  0  \n",
       "997  0.991158 -1.014144 -1.354035  0  \n",
       "998 -0.372678 -0.062696  0.698086  0  \n",
       "999  0.360407 -1.437870 -3.173462  0  \n",
       "\n",
       "[1000 rows x 11 columns]"
      ]
     },
     "execution_count": 38,
     "metadata": {},
     "output_type": "execute_result"
    }
   ],
   "source": [
    "data1000_0"
   ]
  },
  {
   "cell_type": "code",
   "execution_count": 39,
   "id": "0097f7b5",
   "metadata": {
    "scrolled": false
   },
   "outputs": [
    {
     "data": {
      "text/html": [
       "<div>\n",
       "<style scoped>\n",
       "    .dataframe tbody tr th:only-of-type {\n",
       "        vertical-align: middle;\n",
       "    }\n",
       "\n",
       "    .dataframe tbody tr th {\n",
       "        vertical-align: top;\n",
       "    }\n",
       "\n",
       "    .dataframe thead th {\n",
       "        text-align: right;\n",
       "    }\n",
       "</style>\n",
       "<table border=\"1\" class=\"dataframe\">\n",
       "  <thead>\n",
       "    <tr style=\"text-align: right;\">\n",
       "      <th></th>\n",
       "      <th>x1</th>\n",
       "      <th>x2</th>\n",
       "      <th>x3</th>\n",
       "      <th>x4</th>\n",
       "      <th>x5</th>\n",
       "      <th>x6</th>\n",
       "      <th>x7</th>\n",
       "      <th>x8</th>\n",
       "      <th>x9</th>\n",
       "      <th>x10</th>\n",
       "      <th>y</th>\n",
       "    </tr>\n",
       "  </thead>\n",
       "  <tbody>\n",
       "    <tr>\n",
       "      <th>0</th>\n",
       "      <td>1.624345</td>\n",
       "      <td>-0.447129</td>\n",
       "      <td>-0.400878</td>\n",
       "      <td>2.065783</td>\n",
       "      <td>-1.306534</td>\n",
       "      <td>-1.719394</td>\n",
       "      <td>-1.072964</td>\n",
       "      <td>-0.790800</td>\n",
       "      <td>0.814343</td>\n",
       "      <td>-0.446699</td>\n",
       "      <td>1</td>\n",
       "    </tr>\n",
       "    <tr>\n",
       "      <th>1</th>\n",
       "      <td>-0.611756</td>\n",
       "      <td>1.224508</td>\n",
       "      <td>0.824006</td>\n",
       "      <td>-1.471157</td>\n",
       "      <td>0.076380</td>\n",
       "      <td>0.057121</td>\n",
       "      <td>0.495159</td>\n",
       "      <td>1.223722</td>\n",
       "      <td>0.780470</td>\n",
       "      <td>0.204377</td>\n",
       "      <td>1</td>\n",
       "    </tr>\n",
       "    <tr>\n",
       "      <th>2</th>\n",
       "      <td>-0.528172</td>\n",
       "      <td>0.403492</td>\n",
       "      <td>-0.562305</td>\n",
       "      <td>-0.830172</td>\n",
       "      <td>0.367232</td>\n",
       "      <td>-0.799547</td>\n",
       "      <td>-0.952062</td>\n",
       "      <td>-0.059368</td>\n",
       "      <td>-1.464054</td>\n",
       "      <td>0.612233</td>\n",
       "      <td>1</td>\n",
       "    </tr>\n",
       "    <tr>\n",
       "      <th>3</th>\n",
       "      <td>-1.072969</td>\n",
       "      <td>0.593579</td>\n",
       "      <td>1.954878</td>\n",
       "      <td>-0.880578</td>\n",
       "      <td>1.232899</td>\n",
       "      <td>-0.291595</td>\n",
       "      <td>-0.518146</td>\n",
       "      <td>1.448989</td>\n",
       "      <td>-0.154491</td>\n",
       "      <td>0.744885</td>\n",
       "      <td>1</td>\n",
       "    </tr>\n",
       "    <tr>\n",
       "      <th>4</th>\n",
       "      <td>0.865408</td>\n",
       "      <td>-1.094912</td>\n",
       "      <td>-1.331952</td>\n",
       "      <td>-0.279098</td>\n",
       "      <td>-0.422857</td>\n",
       "      <td>-0.258983</td>\n",
       "      <td>-1.461404</td>\n",
       "      <td>-0.477581</td>\n",
       "      <td>-0.092432</td>\n",
       "      <td>-0.036281</td>\n",
       "      <td>1</td>\n",
       "    </tr>\n",
       "    <tr>\n",
       "      <th>...</th>\n",
       "      <td>...</td>\n",
       "      <td>...</td>\n",
       "      <td>...</td>\n",
       "      <td>...</td>\n",
       "      <td>...</td>\n",
       "      <td>...</td>\n",
       "      <td>...</td>\n",
       "      <td>...</td>\n",
       "      <td>...</td>\n",
       "      <td>...</td>\n",
       "      <td>...</td>\n",
       "    </tr>\n",
       "    <tr>\n",
       "      <th>95</th>\n",
       "      <td>0.077340</td>\n",
       "      <td>-1.627438</td>\n",
       "      <td>-0.297362</td>\n",
       "      <td>0.794528</td>\n",
       "      <td>-0.828628</td>\n",
       "      <td>1.453918</td>\n",
       "      <td>-0.131676</td>\n",
       "      <td>-1.229574</td>\n",
       "      <td>0.578464</td>\n",
       "      <td>-0.116444</td>\n",
       "      <td>1</td>\n",
       "    </tr>\n",
       "    <tr>\n",
       "      <th>96</th>\n",
       "      <td>-0.343854</td>\n",
       "      <td>0.602319</td>\n",
       "      <td>0.417302</td>\n",
       "      <td>-1.873161</td>\n",
       "      <td>0.528880</td>\n",
       "      <td>0.661681</td>\n",
       "      <td>1.018552</td>\n",
       "      <td>1.108617</td>\n",
       "      <td>-0.961264</td>\n",
       "      <td>-2.277298</td>\n",
       "      <td>1</td>\n",
       "    </tr>\n",
       "    <tr>\n",
       "      <th>97</th>\n",
       "      <td>0.043597</td>\n",
       "      <td>0.420282</td>\n",
       "      <td>0.784771</td>\n",
       "      <td>0.920615</td>\n",
       "      <td>-2.237087</td>\n",
       "      <td>0.986352</td>\n",
       "      <td>1.230558</td>\n",
       "      <td>-0.702920</td>\n",
       "      <td>-1.458324</td>\n",
       "      <td>-0.069625</td>\n",
       "      <td>1</td>\n",
       "    </tr>\n",
       "    <tr>\n",
       "      <th>98</th>\n",
       "      <td>-0.620001</td>\n",
       "      <td>0.810952</td>\n",
       "      <td>-0.955425</td>\n",
       "      <td>-0.035368</td>\n",
       "      <td>-1.107713</td>\n",
       "      <td>-0.466155</td>\n",
       "      <td>-1.181103</td>\n",
       "      <td>0.725551</td>\n",
       "      <td>0.494342</td>\n",
       "      <td>0.353870</td>\n",
       "      <td>1</td>\n",
       "    </tr>\n",
       "    <tr>\n",
       "      <th>99</th>\n",
       "      <td>0.698032</td>\n",
       "      <td>1.044442</td>\n",
       "      <td>0.585910</td>\n",
       "      <td>2.110605</td>\n",
       "      <td>-0.017718</td>\n",
       "      <td>1.384991</td>\n",
       "      <td>-0.459930</td>\n",
       "      <td>-0.324204</td>\n",
       "      <td>-1.494194</td>\n",
       "      <td>-0.186955</td>\n",
       "      <td>1</td>\n",
       "    </tr>\n",
       "  </tbody>\n",
       "</table>\n",
       "<p>100 rows × 11 columns</p>\n",
       "</div>"
      ],
      "text/plain": [
       "          x1        x2        x3        x4        x5        x6        x7  \\\n",
       "0   1.624345 -0.447129 -0.400878  2.065783 -1.306534 -1.719394 -1.072964   \n",
       "1  -0.611756  1.224508  0.824006 -1.471157  0.076380  0.057121  0.495159   \n",
       "2  -0.528172  0.403492 -0.562305 -0.830172  0.367232 -0.799547 -0.952062   \n",
       "3  -1.072969  0.593579  1.954878 -0.880578  1.232899 -0.291595 -0.518146   \n",
       "4   0.865408 -1.094912 -1.331952 -0.279098 -0.422857 -0.258983 -1.461404   \n",
       "..       ...       ...       ...       ...       ...       ...       ...   \n",
       "95  0.077340 -1.627438 -0.297362  0.794528 -0.828628  1.453918 -0.131676   \n",
       "96 -0.343854  0.602319  0.417302 -1.873161  0.528880  0.661681  1.018552   \n",
       "97  0.043597  0.420282  0.784771  0.920615 -2.237087  0.986352  1.230558   \n",
       "98 -0.620001  0.810952 -0.955425 -0.035368 -1.107713 -0.466155 -1.181103   \n",
       "99  0.698032  1.044442  0.585910  2.110605 -0.017718  1.384991 -0.459930   \n",
       "\n",
       "          x8        x9       x10  y  \n",
       "0  -0.790800  0.814343 -0.446699  1  \n",
       "1   1.223722  0.780470  0.204377  1  \n",
       "2  -0.059368 -1.464054  0.612233  1  \n",
       "3   1.448989 -0.154491  0.744885  1  \n",
       "4  -0.477581 -0.092432 -0.036281  1  \n",
       "..       ...       ...       ... ..  \n",
       "95 -1.229574  0.578464 -0.116444  1  \n",
       "96  1.108617 -0.961264 -2.277298  1  \n",
       "97 -0.702920 -1.458324 -0.069625  1  \n",
       "98  0.725551  0.494342  0.353870  1  \n",
       "99 -0.324204 -1.494194 -0.186955  1  \n",
       "\n",
       "[100 rows x 11 columns]"
      ]
     },
     "execution_count": 39,
     "metadata": {},
     "output_type": "execute_result"
    }
   ],
   "source": [
    "data1000_1"
   ]
  },
  {
   "cell_type": "markdown",
   "id": "65a07c2c",
   "metadata": {},
   "source": [
    "## GMT"
   ]
  },
  {
   "cell_type": "markdown",
   "id": "a83ded24",
   "metadata": {},
   "source": [
    "### 參數挑選"
   ]
  },
  {
   "cell_type": "markdown",
   "id": "0a8bc96c",
   "metadata": {},
   "source": [
    "#### 原始"
   ]
  },
  {
   "cell_type": "code",
   "execution_count": 40,
   "id": "24d1f121",
   "metadata": {},
   "outputs": [
    {
     "data": {
      "text/plain": [
       "{'partition_prior': 0.1105128205128205, 'delta': 0.8205128205128205}"
      ]
     },
     "execution_count": 40,
     "metadata": {},
     "output_type": "execute_result"
    }
   ],
   "source": [
    "# model\n",
    "gmt = PerpendicularClassificationTree(\n",
    "    #partition_prior=0.9,\n",
    "    prior=prior,\n",
    "    #delta=0, \n",
    "    prune=False) #分類\n",
    "\n",
    "param_distribs = {\n",
    "    'partition_prior': np.linspace(0.01,0.99,40),\n",
    "    'delta': np.linspace(0,1,40)\n",
    "}\n",
    "\n",
    "gmt_search = RandomizedSearchCV(gmt, \n",
    "    param_distributions=param_distribs, n_iter=100, cv=50, \n",
    "    scoring='f1', random_state=1)\n",
    "\n",
    "gmt_search.fit(x1000o_train, y1000o_train)\n",
    "g2o_model = gmt_search.best_estimator_\n",
    "gmt_search.best_params_"
   ]
  },
  {
   "cell_type": "markdown",
   "id": "95f2b3f7",
   "metadata": {},
   "source": [
    "#### smote"
   ]
  },
  {
   "cell_type": "code",
   "execution_count": 41,
   "id": "98e40766",
   "metadata": {},
   "outputs": [
    {
     "data": {
      "text/plain": [
       "{'partition_prior': 0.21102564102564103, 'delta': 0.0}"
      ]
     },
     "execution_count": 41,
     "metadata": {},
     "output_type": "execute_result"
    }
   ],
   "source": [
    "# model\n",
    "gmt = PerpendicularClassificationTree(\n",
    "    #partition_prior=0.9,\n",
    "    prior=prior,\n",
    "    #delta=0, \n",
    "    prune=False) #分類\n",
    "\n",
    "param_distribs = {\n",
    "    'partition_prior': np.linspace(0.01,0.99,40),\n",
    "    'delta': np.linspace(0,1,40)\n",
    "}\n",
    "\n",
    "gmt_search = RandomizedSearchCV(gmt, \n",
    "    param_distributions=param_distribs, n_iter=100, cv=50, \n",
    "    scoring='f1', random_state=1)\n",
    "\n",
    "gmt_search.fit(x1000_train, y1000_train)\n",
    "g2_model = gmt_search.best_estimator_\n",
    "gmt_search.best_params_"
   ]
  },
  {
   "cell_type": "markdown",
   "id": "3941411e",
   "metadata": {},
   "source": [
    "### 訓練"
   ]
  },
  {
   "cell_type": "markdown",
   "id": "61b734a5",
   "metadata": {},
   "source": [
    "#### 原始"
   ]
  },
  {
   "cell_type": "code",
   "execution_count": 42,
   "id": "b242aa16",
   "metadata": {},
   "outputs": [
    {
     "name": "stdout",
     "output_type": "stream",
     "text": [
      "Train F1 Score: 0.8725 %\n",
      "Test F1 Score:  0.1086 %\n"
     ]
    }
   ],
   "source": [
    "f1_train = cross_val_score(g2o_model, x1000o_train, y1000o_train, scoring='f1', cv=10)\n",
    "f1_test  = cross_val_score(g2o_model, x1000o_test, y1000o_test, scoring='f1', cv=10)\n",
    "info_train = 'Train F1 Score: {:.4f} %'.format(f1_train.mean())\n",
    "info_test  = 'Test F1 Score:  {:.4f} %'.format(f1_test.mean())\n",
    "\n",
    "print(info_train)\n",
    "print(info_test)"
   ]
  },
  {
   "cell_type": "code",
   "execution_count": 43,
   "id": "e276c2d9",
   "metadata": {},
   "outputs": [
    {
     "name": "stdout",
     "output_type": "stream",
     "text": [
      "Tree depth and number of leaves: 1, 2\n"
     ]
    },
    {
     "data": {
      "image/png": "[encoded data removed]",
      "text/plain": [
       "<Figure size 432x288 with 1 Axes>"
      ]
     },
     "metadata": {
      "needs_background": "light"
     },
     "output_type": "display_data"
    }
   ],
   "source": [
    "print('Tree depth and number of leaves: {}, {}'.format(g2o_model.get_depth(), g2o_model.get_n_leaves()))\n",
    "\n",
    "imp = g2o_model.feature_importance()\n",
    "features = list(data100_1)[0:-1]\n",
    "sorted(zip(imp, features), reverse=True)\n",
    "ind = np.argsort(imp)\n",
    "plt.title('Feature Importances')\n",
    "plt.barh(range(len(ind)), imp[ind], color='g', align='center')\n",
    "plt.yticks(range(len(ind)), [features[i] for i in ind])\n",
    "plt.xlabel('Relative Importance')\n",
    "plt.show()"
   ]
  },
  {
   "cell_type": "markdown",
   "id": "84b0b68f",
   "metadata": {},
   "source": [
    "#### smote"
   ]
  },
  {
   "cell_type": "code",
   "execution_count": 44,
   "id": "4582c71a",
   "metadata": {},
   "outputs": [
    {
     "name": "stdout",
     "output_type": "stream",
     "text": [
      "Train F1 Score: 0.9752 %\n",
      "Test F1 Score:  0.9575 %\n"
     ]
    }
   ],
   "source": [
    "f1_train = cross_val_score(g2_model, x1000_train, y1000_train, scoring='f1', cv=50)\n",
    "f1_test  = cross_val_score(g2_model, x1000_test, y1000_test, scoring='f1', cv=50)\n",
    "info_train = 'Train F1 Score: {:.4f} %'.format(f1_train.mean())\n",
    "info_test  = 'Test F1 Score:  {:.4f} %'.format(f1_test.mean())\n",
    "\n",
    "print(info_train)\n",
    "print(info_test)"
   ]
  },
  {
   "cell_type": "code",
   "execution_count": 45,
   "id": "a7146af6",
   "metadata": {
    "scrolled": true
   },
   "outputs": [
    {
     "name": "stdout",
     "output_type": "stream",
     "text": [
      "Tree depth and number of leaves: 4, 7\n"
     ]
    },
    {
     "data": {
      "image/png": "[encoded data removed]",
      "text/plain": [
       "<Figure size 432x288 with 1 Axes>"
      ]
     },
     "metadata": {
      "needs_background": "light"
     },
     "output_type": "display_data"
    }
   ],
   "source": [
    "print('Tree depth and number of leaves: {}, {}'.format(g2_model.get_depth(), g2_model.get_n_leaves()))\n",
    "\n",
    "imp = g2_model.feature_importance()\n",
    "features = list(data100_1)[0:-1]\n",
    "sorted(zip(imp, features), reverse=True)\n",
    "ind = np.argsort(imp)\n",
    "plt.title('Feature Importances')\n",
    "plt.barh(range(len(ind)), imp[ind], color='g', align='center')\n",
    "plt.yticks(range(len(ind)), [features[i] for i in ind])\n",
    "plt.xlabel('Relative Importance')\n",
    "plt.show()"
   ]
  },
  {
   "cell_type": "markdown",
   "id": "38e2af99",
   "metadata": {},
   "source": [
    "### 重複訓練100次"
   ]
  },
  {
   "cell_type": "markdown",
   "id": "21df4333",
   "metadata": {},
   "source": [
    "#### 原始"
   ]
  },
  {
   "cell_type": "code",
   "execution_count": 46,
   "id": "d119fe61",
   "metadata": {},
   "outputs": [
    {
     "name": "stdout",
     "output_type": "stream",
     "text": [
      "Train matrix: \n",
      "(788.54, 12.01, 10.92, 68.53)\n",
      "Test matrix: \n",
      "(197.56, 3.22, 2.98, 16.24)\n",
      "\n",
      "       Score    y=0(多)    y=1(少)\n",
      "0  precision  0.983963  0.844953\n",
      "1     recall  0.985140  0.834532\n",
      "2   f1-score  0.984551  0.839710\n",
      "Wall time: 693 ms\n"
     ]
    }
   ],
   "source": [
    "%%time\n",
    "tn_train, fp_train, fn_train, tp_train = 0, 0, 0, 0\n",
    "tn_test, fp_test, fn_test, tp_test = 0, 0, 0, 0\n",
    "imp = 0\n",
    "\n",
    "for i in range(0,100):\n",
    "    x1000o_train2, x1000o_test2, y1000o_train2, y1000o_test2 = train_test_split(x1000, y1000, test_size=0.2)  \n",
    "    g2o_model.fit(x1000o_train2, y1000o_train2)\n",
    "    y1000_pred_train = g2o_model.predict(x1000o_train2)\n",
    "    y1000_pred_test = g2o_model.predict(x1000o_test2)\n",
    "          \n",
    "    tp1, fn1, fp1, tn1 = confusion_matrix(y1000o_train2, y1000_pred_train).ravel()\n",
    "    tp2, fn2, fp2, tn2 = confusion_matrix(y1000o_test2, y1000_pred_test).ravel() \n",
    "    \n",
    "    tn_train = tn1 + tn_train\n",
    "    fp_train = fp1 + fp_train\n",
    "    fn_train = fn1 + fn_train\n",
    "    tp_train = tp1 + tp_train\n",
    "    \n",
    "    tn_test = tn2 + tn_test\n",
    "    fp_test = fp2 + fp_test\n",
    "    fn_test = fn2 + fn_test\n",
    "    tp_test = tp2 + tp_test\n",
    "    \n",
    "    imp2 = g2o_model.feature_importance()\n",
    "    imp = imp + imp2\n",
    "\n",
    "print('Train matrix: \\n{}'.format((tp_train/100, fp_train/100, fn_train/100, tn_train/100)))\n",
    "print('Test matrix: \\n{}\\n'.format((tp_test/100, fp_test/100, fn_test/100, tn_test/100)))\n",
    "\n",
    "recall_0 = tp_test/(tp_test+fn_test)\n",
    "precision_0 = tp_test/(tp_test+fp_test)\n",
    "recall_1 = tn_test/(tn_test+fp_test)\n",
    "precision_1 = tn_test/(tn_test+fn_test)\n",
    "\n",
    "score = {\n",
    "    \"Score\" : [\"precision\", \"recall\",  \"f1-score\"],\n",
    "    \"y=0(多)\" : [precision_0, recall_0, 2*((precision_0*recall_0)/(precision_0 + recall_0))],\n",
    "    \"y=1(少)\" : [precision_1, recall_1, 2*((precision_1*recall_1)/(precision_1 + recall_1))]\n",
    "}\n",
    "sc = pd.DataFrame(score)\n",
    "print(sc)"
   ]
  },
  {
   "cell_type": "code",
   "execution_count": 47,
   "id": "ec777aa9",
   "metadata": {},
   "outputs": [
    {
     "data": {
      "image/png": "[encoded data removed]",
      "text/plain": [
       "<Figure size 432x288 with 1 Axes>"
      ]
     },
     "metadata": {
      "needs_background": "light"
     },
     "output_type": "display_data"
    }
   ],
   "source": [
    "features = list(data100_1)[0:-1]\n",
    "sorted(zip(imp/100, features), reverse=True)\n",
    "ind = np.argsort(imp/100)\n",
    "\n",
    "plt.title('Feature Importances')\n",
    "plt.barh(range(len(ind)), (imp/100)[ind], color='g', align='center')\n",
    "plt.yticks(range(len(ind)), [features[i] for i in ind])\n",
    "plt.xlabel('Relative Importance')\n",
    "plt.show()"
   ]
  },
  {
   "cell_type": "markdown",
   "id": "e6b33f52",
   "metadata": {},
   "source": [
    "#### SMOTE"
   ]
  },
  {
   "cell_type": "code",
   "execution_count": 48,
   "id": "7408e545",
   "metadata": {},
   "outputs": [
    {
     "name": "stdout",
     "output_type": "stream",
     "text": [
      "Train matrix: \n",
      "(780.15, 20.0, 20.64, 779.21)\n",
      "Test matrix: \n",
      "(193.25, 5.91, 5.96, 194.88)\n",
      "\n",
      "       Score    y=0(多)    y=1(少)\n",
      "0  precision  0.970325  0.970325\n",
      "1     recall  0.970082  0.970566\n",
      "2   f1-score  0.970204  0.970445\n",
      "Wall time: 2.03 s\n"
     ]
    }
   ],
   "source": [
    "%%time\n",
    "tn_train, fp_train, fn_train, tp_train = 0, 0, 0, 0\n",
    "tn_test, fp_test, fn_test, tp_test = 0, 0, 0, 0\n",
    "imp = 0\n",
    "\n",
    "for i in range(0,100):\n",
    "    x1000_train2, x1000_test2, y1000_train2, y1000_test2 = train_test_split(x1000_sm, y1000_sm, test_size=0.2)  \n",
    "    g2_model.fit(x1000_train2, y1000_train2)\n",
    "    y1000_pred_train = g2_model.predict(x1000_train2)\n",
    "    y1000_pred_test = g2_model.predict(x1000_test2)\n",
    "    \n",
    "    tp1, fn1, fp1, tn1 = confusion_matrix(y1000_train2, y1000_pred_train).ravel()\n",
    "    tp2, fn2, fp2, tn2 = confusion_matrix(y1000_test2, y1000_pred_test).ravel()\n",
    "    \n",
    "    tn_train = tn1 + tn_train\n",
    "    fp_train = fp1 + fp_train\n",
    "    fn_train = fn1 + fn_train\n",
    "    tp_train = tp1 + tp_train\n",
    "    \n",
    "    tn_test = tn2 + tn_test\n",
    "    fp_test = fp2 + fp_test\n",
    "    fn_test = fn2 + fn_test\n",
    "    tp_test = tp2 + tp_test\n",
    "    \n",
    "    imp2 = g2_model.feature_importance()\n",
    "    imp = imp + imp2\n",
    "\n",
    "print('Train matrix: \\n{}'.format((tp_train/100, fp_train/100, fn_train/100, tn_train/100)))\n",
    "print('Test matrix: \\n{}\\n'.format((tp_test/100, fp_test/100, fn_test/100, tn_test/100)))\n",
    "\n",
    "recall_0 = tp_test/(tp_test+fn_test)\n",
    "precision_0 = tp_test/(tp_test+fp_test)\n",
    "recall_1 = tn_test/(tn_test+fp_test)\n",
    "precision_1 = tn_test/(tn_test+fn_test)\n",
    "\n",
    "score = {\n",
    "    \"Score\" : [\"precision\", \"recall\",  \"f1-score\"],\n",
    "    \"y=0(多)\" : [precision_0, recall_0, 2*((precision_0*recall_0)/(precision_0 + recall_0))],\n",
    "    \"y=1(少)\" : [precision_1, recall_1, 2*((precision_1*recall_1)/(precision_1 + recall_1))]\n",
    "}\n",
    "sc = pd.DataFrame(score)\n",
    "print(sc)"
   ]
  },
  {
   "cell_type": "code",
   "execution_count": 49,
   "id": "05121e17",
   "metadata": {},
   "outputs": [
    {
     "data": {
      "image/png": "[encoded data removed]",
      "text/plain": [
       "<Figure size 432x288 with 1 Axes>"
      ]
     },
     "metadata": {
      "needs_background": "light"
     },
     "output_type": "display_data"
    }
   ],
   "source": [
    "features = list(data100_1)[0:-1]\n",
    "sorted(zip(imp/100, features), reverse=True)\n",
    "ind = np.argsort(imp/100)\n",
    "\n",
    "plt.title('Feature Importances')\n",
    "plt.barh(range(len(ind)), (imp/100)[ind], color='g', align='center')\n",
    "plt.yticks(range(len(ind)), [features[i] for i in ind])\n",
    "plt.xlabel('Relative Importance')\n",
    "plt.show()"
   ]
  },
  {
   "cell_type": "markdown",
   "id": "88ad701a",
   "metadata": {},
   "source": [
    "### 單次參考訓練數值"
   ]
  },
  {
   "cell_type": "markdown",
   "id": "ed4e0c05",
   "metadata": {},
   "source": [
    "#### SMOTE"
   ]
  },
  {
   "cell_type": "code",
   "execution_count": 50,
   "id": "40cc48e8",
   "metadata": {},
   "outputs": [
    {
     "name": "stdout",
     "output_type": "stream",
     "text": [
      "Wall time: 17 ms\n",
      "Train matrix: \n",
      "[[784  21]\n",
      " [ 13 782]]\n",
      "Test matrix: \n",
      "[[182  13]\n",
      " [  5 200]]\n"
     ]
    }
   ],
   "source": [
    "%time g2_model.fit(x1000_train, y1000_train)\n",
    "y1000_pred_train = g2_model.predict(x1000_train)\n",
    "y1000_pred_test = g2_model.predict(x1000_test)\n",
    "\n",
    "print('Train matrix: \\n{}'.format(confusion_matrix(y1000_train, y1000_pred_train)))\n",
    "print('Test matrix: \\n{}'.format(confusion_matrix(y1000_test, y1000_pred_test)))"
   ]
  },
  {
   "cell_type": "code",
   "execution_count": 51,
   "id": "4f6f2852",
   "metadata": {},
   "outputs": [
    {
     "name": "stdout",
     "output_type": "stream",
     "text": [
      "              precision    recall  f1-score   support\n",
      "\n",
      "      y=0(多)       0.97      0.93      0.95       195\n",
      "      y=1(少)       0.94      0.98      0.96       205\n",
      "\n",
      "    accuracy                           0.95       400\n",
      "   macro avg       0.96      0.95      0.95       400\n",
      "weighted avg       0.96      0.95      0.95       400\n",
      "\n"
     ]
    }
   ],
   "source": [
    "class_name = ['y=0(多)','y=1(少)']\n",
    "print(classification_report(y1000_test, y1000_pred_test, target_names = class_name))"
   ]
  },
  {
   "cell_type": "markdown",
   "id": "099c21bd",
   "metadata": {},
   "source": [
    "#### 原始"
   ]
  },
  {
   "cell_type": "code",
   "execution_count": 53,
   "id": "e9452eca",
   "metadata": {},
   "outputs": [
    {
     "name": "stdout",
     "output_type": "stream",
     "text": [
      "Wall time: 6 ms\n",
      "Train matrix: \n",
      "[[791   9]\n",
      " [ 10  70]]\n",
      "Test matrix: \n",
      "[[195   5]\n",
      " [  5  15]]\n"
     ]
    }
   ],
   "source": [
    "%time g2o_model.fit(x1000o_train, y1000o_train)\n",
    "y1000_pred_train = g2o_model.predict(x1000o_train)\n",
    "y1000_pred_test = g2o_model.predict(x1000o_test)\n",
    "\n",
    "print('Train matrix: \\n{}'.format(confusion_matrix(y1000o_train, y1000_pred_train)))\n",
    "print('Test matrix: \\n{}'.format(confusion_matrix(y1000o_test, y1000_pred_test)))"
   ]
  },
  {
   "cell_type": "code",
   "execution_count": 54,
   "id": "dadb7aff",
   "metadata": {},
   "outputs": [
    {
     "name": "stdout",
     "output_type": "stream",
     "text": [
      "              precision    recall  f1-score   support\n",
      "\n",
      "      y=0(多)       0.97      0.97      0.97       200\n",
      "      y=1(少)       0.75      0.75      0.75        20\n",
      "\n",
      "    accuracy                           0.95       220\n",
      "   macro avg       0.86      0.86      0.86       220\n",
      "weighted avg       0.95      0.95      0.95       220\n",
      "\n"
     ]
    }
   ],
   "source": [
    "class_name = ['y=0(多)','y=1(少)']\n",
    "print(classification_report(y1000o_test, y1000_pred_test, target_names = class_name))"
   ]
  },
  {
   "cell_type": "markdown",
   "id": "73180cc3",
   "metadata": {},
   "source": [
    "## DT"
   ]
  },
  {
   "cell_type": "markdown",
   "id": "acfb801a",
   "metadata": {},
   "source": [
    "### 找參數"
   ]
  },
  {
   "cell_type": "markdown",
   "id": "71e3f410",
   "metadata": {},
   "source": [
    "#### 原始"
   ]
  },
  {
   "cell_type": "code",
   "execution_count": 55,
   "id": "7917d63b",
   "metadata": {},
   "outputs": [
    {
     "data": {
      "text/plain": [
       "{'criterion': 'entropy', 'max_depth': 3}"
      ]
     },
     "execution_count": 55,
     "metadata": {},
     "output_type": "execute_result"
    }
   ],
   "source": [
    "param_distribs = {\n",
    "    'criterion': ['gini', 'entropy'],\n",
    "    'max_depth': randint(low=2, high=15)\n",
    "}\n",
    "\n",
    "dt_cf = DecisionTreeClassifier(random_state=1)\n",
    "dt_search = RandomizedSearchCV(dt_cf, param_distributions=param_distribs, \n",
    "                                n_iter=100, cv=50, scoring='f1', random_state=1)\n",
    "dt_search.fit(x1000o_train, y1000o_train)\n",
    "\n",
    "d2o_model = dt_search.best_estimator_\n",
    "dt_search.best_params_"
   ]
  },
  {
   "cell_type": "markdown",
   "id": "042f0441",
   "metadata": {},
   "source": [
    "#### SMOTE"
   ]
  },
  {
   "cell_type": "code",
   "execution_count": 56,
   "id": "cded5b06",
   "metadata": {},
   "outputs": [
    {
     "data": {
      "text/plain": [
       "{'criterion': 'entropy', 'max_depth': 6}"
      ]
     },
     "execution_count": 56,
     "metadata": {},
     "output_type": "execute_result"
    }
   ],
   "source": [
    "param_distribs = {\n",
    "    'criterion': ['gini', 'entropy'],\n",
    "    'max_depth': randint(low=2, high=15)\n",
    "}\n",
    "\n",
    "dt_cf = DecisionTreeClassifier(random_state=1)\n",
    "dt_search = RandomizedSearchCV(dt_cf, param_distributions=param_distribs, \n",
    "                                n_iter=100, cv=50, scoring='f1', random_state=1)\n",
    "dt_search.fit(x1000_train, y1000_train)\n",
    "\n",
    "d2_model = dt_search.best_estimator_\n",
    "dt_search.best_params_"
   ]
  },
  {
   "cell_type": "markdown",
   "id": "edc326dd",
   "metadata": {},
   "source": [
    "### 訓練"
   ]
  },
  {
   "cell_type": "markdown",
   "id": "0079c30d",
   "metadata": {},
   "source": [
    "#### 原始"
   ]
  },
  {
   "cell_type": "code",
   "execution_count": 57,
   "id": "89d29cad",
   "metadata": {},
   "outputs": [
    {
     "name": "stdout",
     "output_type": "stream",
     "text": [
      "Train F1 Score: 0.8631 %\n",
      "Test F1 Score:  0.5667 %\n"
     ]
    }
   ],
   "source": [
    "f1_train = cross_val_score(d2o_model, x1000o_train, y1000o_train, scoring='f1', cv=10)\n",
    "f1_test  = cross_val_score(d2o_model, x1000o_test, y1000o_test, scoring='f1', cv=10)\n",
    "info_train = 'Train F1 Score: {:.4f} %'.format(f1_train.mean())\n",
    "info_test  = 'Test F1 Score:  {:.4f} %'.format(f1_test.mean())\n",
    "\n",
    "print(info_train)\n",
    "print(info_test)"
   ]
  },
  {
   "cell_type": "code",
   "execution_count": 58,
   "id": "4313f032",
   "metadata": {},
   "outputs": [
    {
     "name": "stdout",
     "output_type": "stream",
     "text": [
      "Tree depth and number of leaves: 3, 8\n"
     ]
    },
    {
     "data": {
      "image/png": "[encoded data removed]",
      "text/plain": [
       "<Figure size 432x288 with 1 Axes>"
      ]
     },
     "metadata": {
      "needs_background": "light"
     },
     "output_type": "display_data"
    }
   ],
   "source": [
    "print('Tree depth and number of leaves: {}, {}'.format(d2o_model.get_depth(), d2o_model.get_n_leaves()))\n",
    "\n",
    "imp = d2o_model.feature_importances_\n",
    "features = list(data1000_0)[0:-1]\n",
    "sorted(zip(imp, features), reverse=True)\n",
    "ind = np.argsort(imp)\n",
    "plt.title('Feature Importances')\n",
    "plt.barh(range(len(ind)), imp[ind], color='g', align='center')\n",
    "plt.yticks(range(len(ind)), [features[i] for i in ind])\n",
    "plt.xlabel('Relative Importance')\n",
    "plt.show()"
   ]
  },
  {
   "cell_type": "markdown",
   "id": "09cce054",
   "metadata": {},
   "source": [
    "#### SMOTE"
   ]
  },
  {
   "cell_type": "code",
   "execution_count": 60,
   "id": "0125543c",
   "metadata": {},
   "outputs": [
    {
     "name": "stdout",
     "output_type": "stream",
     "text": [
      "Train F1 Score: 0.9766 %\n",
      "Test F1 Score:  0.9463 %\n"
     ]
    }
   ],
   "source": [
    "f1_train = cross_val_score(d2_model, x1000_train, y1000_train, scoring='f1', cv=50)\n",
    "f1_test  = cross_val_score(d2_model, x1000_test, y1000_test, scoring='f1', cv=50)\n",
    "info_train = 'Train F1 Score: {:.4f} %'.format(f1_train.mean())\n",
    "info_test  = 'Test F1 Score:  {:.4f} %'.format(f1_test.mean())\n",
    "\n",
    "print(info_train)\n",
    "print(info_test)"
   ]
  },
  {
   "cell_type": "code",
   "execution_count": 61,
   "id": "a1c06806",
   "metadata": {},
   "outputs": [
    {
     "name": "stdout",
     "output_type": "stream",
     "text": [
      "Tree depth and number of leaves: 6, 22\n"
     ]
    },
    {
     "data": {
      "image/png": "[encoded data removed]",
      "text/plain": [
       "<Figure size 432x288 with 1 Axes>"
      ]
     },
     "metadata": {
      "needs_background": "light"
     },
     "output_type": "display_data"
    }
   ],
   "source": [
    "print('Tree depth and number of leaves: {}, {}'.format(d2_model.get_depth(), d2_model.get_n_leaves()))\n",
    "\n",
    "imp = d2_model.feature_importances_\n",
    "features = list(data1000_0)[0:-1]\n",
    "sorted(zip(imp, features), reverse=True)\n",
    "ind = np.argsort(imp)\n",
    "plt.title('Feature Importances')\n",
    "plt.barh(range(len(ind)), imp[ind], color='g', align='center')\n",
    "plt.yticks(range(len(ind)), [features[i] for i in ind])\n",
    "plt.xlabel('Relative Importance')\n",
    "plt.show()"
   ]
  },
  {
   "cell_type": "markdown",
   "id": "4727007b",
   "metadata": {},
   "source": [
    "### 重複訓練100次，進行平均"
   ]
  },
  {
   "cell_type": "markdown",
   "id": "b9aeea02",
   "metadata": {},
   "source": [
    "#### 原始"
   ]
  },
  {
   "cell_type": "code",
   "execution_count": 64,
   "id": "391b5547",
   "metadata": {},
   "outputs": [
    {
     "name": "stdout",
     "output_type": "stream",
     "text": [
      "Train matrix: \n",
      "(796.22, 13.12, 3.3, 67.36)\n",
      "Test matrix: \n",
      "(198.72, 4.25, 1.76, 15.27)\n",
      "\n",
      "       Score    y=0(多)    y=1(少)\n",
      "0  precision  0.979061  0.896653\n",
      "1     recall  0.991221  0.782275\n",
      "2   f1-score  0.985103  0.835568\n",
      "Wall time: 428 ms\n"
     ]
    }
   ],
   "source": [
    "%%time\n",
    "tn_train, fp_train, fn_train, tp_train = 0, 0, 0, 0\n",
    "tn_test, fp_test, fn_test, tp_test = 0, 0, 0, 0\n",
    "imp = 0\n",
    "\n",
    "for i in range(0,100):\n",
    "    x1000o_train2, x1000o_test2, y1000o_train2, y1000o_test2 = train_test_split(x1000, y1000, test_size=0.2)\n",
    "    d2o_model.fit(x1000o_train2, y1000o_train2)\n",
    "    y1000_pred_train = d2o_model.predict(x1000o_train2)\n",
    "    y1000_pred_test = d2o_model.predict(x1000o_test2)\n",
    "    \n",
    "    tp1, fn1, fp1, tn1 = confusion_matrix(y1000o_train2, y1000_pred_train).ravel()\n",
    "    tp2, fn2, fp2, tn2 = confusion_matrix(y1000o_test2, y1000_pred_test).ravel()\n",
    "    \n",
    "    tn_train = tn1 + tn_train\n",
    "    fp_train = fp1 + fp_train\n",
    "    fn_train = fn1 + fn_train\n",
    "    tp_train = tp1 + tp_train\n",
    "    \n",
    "    tn_test = tn2 + tn_test\n",
    "    fp_test = fp2 + fp_test\n",
    "    fn_test = fn2 + fn_test\n",
    "    tp_test = tp2 + tp_test\n",
    "    \n",
    "    imp2 = d2o_model.feature_importances_\n",
    "    imp = imp + imp2\n",
    "\n",
    "print('Train matrix: \\n{}'.format((tp_train/100, fp_train/100, fn_train/100, tn_train/100)))\n",
    "print('Test matrix: \\n{}\\n'.format((tp_test/100, fp_test/100, fn_test/100, tn_test/100)))\n",
    "\n",
    "recall_0 = tp_test/(tp_test+fn_test)\n",
    "precision_0 = tp_test/(tp_test+fp_test)\n",
    "recall_1 = tn_test/(tn_test+fp_test)\n",
    "precision_1 = tn_test/(tn_test+fn_test)\n",
    "\n",
    "score = {\n",
    "    \"Score\" : [\"precision\", \"recall\",  \"f1-score\"],\n",
    "    \"y=0(多)\" : [precision_0, recall_0, 2*((precision_0*recall_0)/(precision_0 + recall_0))],\n",
    "    \"y=1(少)\" : [precision_1, recall_1, 2*((precision_1*recall_1)/(precision_1 + recall_1))]\n",
    "}\n",
    "sc = pd.DataFrame(score)\n",
    "print(sc)"
   ]
  },
  {
   "cell_type": "code",
   "execution_count": 65,
   "id": "0d9312f5",
   "metadata": {},
   "outputs": [
    {
     "data": {
      "image/png": "[encoded data removed]",
      "text/plain": [
       "<Figure size 432x288 with 1 Axes>"
      ]
     },
     "metadata": {
      "needs_background": "light"
     },
     "output_type": "display_data"
    }
   ],
   "source": [
    "features = list(data100_1)[0:-1]\n",
    "sorted(zip(imp/100, features), reverse=True)\n",
    "ind = np.argsort(imp/100)\n",
    "\n",
    "plt.title('Feature Importances')\n",
    "plt.barh(range(len(ind)), (imp/100)[ind], color='g', align='center')\n",
    "plt.yticks(range(len(ind)), [features[i] for i in ind])\n",
    "plt.xlabel('Relative Importance')\n",
    "plt.show()"
   ]
  },
  {
   "cell_type": "markdown",
   "id": "5447a38f",
   "metadata": {},
   "source": [
    "#### smote"
   ]
  },
  {
   "cell_type": "code",
   "execution_count": 66,
   "id": "ba8a8426",
   "metadata": {},
   "outputs": [
    {
     "name": "stdout",
     "output_type": "stream",
     "text": [
      "Train matrix: \n",
      "(793.47, 2.58, 6.48, 797.47)\n",
      "Test matrix: \n",
      "(193.39, 4.34, 6.66, 195.61)\n",
      "\n",
      "       Score    y=0(多)    y=1(少)\n",
      "0  precision  0.978051  0.967074\n",
      "1     recall  0.966708  0.978295\n",
      "2   f1-score  0.972347  0.972652\n",
      "Wall time: 898 ms\n"
     ]
    }
   ],
   "source": [
    "%%time\n",
    "tn_train, fp_train, fn_train, tp_train = 0, 0, 0, 0\n",
    "tn_test, fp_test, fn_test, tp_test = 0, 0, 0, 0\n",
    "imp = 0\n",
    "\n",
    "for i in range(0,100):\n",
    "    x1000_train2, x1000_test2, y1000_train2, y1000_test2 = train_test_split(x1000_sm, y1000_sm, test_size=0.2)\n",
    "    d2_model.fit(x1000_train2, y1000_train2)\n",
    "    y1000_pred_train = d2_model.predict(x1000_train2)\n",
    "    y1000_pred_test = d2_model.predict(x1000_test2)\n",
    "    \n",
    "    tp1, fn1, fp1, tn1 = confusion_matrix(y1000_train2, y1000_pred_train).ravel()\n",
    "    tp2, fn2, fp2, tn2 = confusion_matrix(y1000_test2, y1000_pred_test).ravel()\n",
    "    \n",
    "    tn_train = tn1 + tn_train\n",
    "    fp_train = fp1 + fp_train\n",
    "    fn_train = fn1 + fn_train\n",
    "    tp_train = tp1 + tp_train\n",
    "    \n",
    "    tn_test = tn2 + tn_test\n",
    "    fp_test = fp2 + fp_test\n",
    "    fn_test = fn2 + fn_test\n",
    "    tp_test = tp2 + tp_test\n",
    "    \n",
    "    imp2 = d2_model.feature_importances_\n",
    "    imp = imp + imp2\n",
    "\n",
    "print('Train matrix: \\n{}'.format((tp_train/100, fp_train/100, fn_train/100, tn_train/100)))\n",
    "print('Test matrix: \\n{}\\n'.format((tp_test/100, fp_test/100, fn_test/100, tn_test/100)))\n",
    "\n",
    "recall_0 = tp_test/(tp_test+fn_test)\n",
    "precision_0 = tp_test/(tp_test+fp_test)\n",
    "recall_1 = tn_test/(tn_test+fp_test)\n",
    "precision_1 = tn_test/(tn_test+fn_test)\n",
    "\n",
    "score = {\n",
    "    \"Score\" : [\"precision\", \"recall\",  \"f1-score\"],\n",
    "    \"y=0(多)\" : [precision_0, recall_0, 2*((precision_0*recall_0)/(precision_0 + recall_0))],\n",
    "    \"y=1(少)\" : [precision_1, recall_1, 2*((precision_1*recall_1)/(precision_1 + recall_1))]\n",
    "}\n",
    "sc = pd.DataFrame(score)\n",
    "print(sc)"
   ]
  },
  {
   "cell_type": "code",
   "execution_count": 67,
   "id": "b232078a",
   "metadata": {},
   "outputs": [
    {
     "data": {
      "image/png": "[encoded data removed]",
      "text/plain": [
       "<Figure size 432x288 with 1 Axes>"
      ]
     },
     "metadata": {
      "needs_background": "light"
     },
     "output_type": "display_data"
    }
   ],
   "source": [
    "features = list(data100_1)[0:-1]\n",
    "sorted(zip(imp/100, features), reverse=True)\n",
    "ind = np.argsort(imp/100)\n",
    "\n",
    "plt.title('Feature Importances')\n",
    "plt.barh(range(len(ind)), (imp/100)[ind], color='g', align='center')\n",
    "plt.yticks(range(len(ind)), [features[i] for i in ind])\n",
    "plt.xlabel('Relative Importance')\n",
    "plt.show()"
   ]
  },
  {
   "cell_type": "markdown",
   "id": "2f8ffaed",
   "metadata": {},
   "source": [
    "### 單次訓練參考"
   ]
  },
  {
   "cell_type": "markdown",
   "id": "8bd7fc0f",
   "metadata": {},
   "source": [
    "#### SMOTE"
   ]
  },
  {
   "cell_type": "code",
   "execution_count": 68,
   "id": "4c9c91c2",
   "metadata": {},
   "outputs": [
    {
     "name": "stdout",
     "output_type": "stream",
     "text": [
      "Wall time: 7 ms\n",
      "Train matrix: \n",
      "[[792  13]\n",
      " [  0 795]]\n",
      "Test matrix: \n",
      "[[185  10]\n",
      " [  1 204]]\n"
     ]
    }
   ],
   "source": [
    "%time d2_model.fit(x1000_train, y1000_train)\n",
    "y1000_pred_train = d2_model.predict(x1000_train)\n",
    "y1000_pred_test = d2_model.predict(x1000_test)\n",
    "\n",
    "print('Train matrix: \\n{}'.format(confusion_matrix(y1000_train, y1000_pred_train)))\n",
    "print('Test matrix: \\n{}'.format(confusion_matrix(y1000_test, y1000_pred_test)))"
   ]
  },
  {
   "cell_type": "code",
   "execution_count": 69,
   "id": "3be751e4",
   "metadata": {},
   "outputs": [
    {
     "name": "stdout",
     "output_type": "stream",
     "text": [
      "              precision    recall  f1-score   support\n",
      "\n",
      "      y=0(多)       0.99      0.95      0.97       195\n",
      "      y=1(少)       0.95      1.00      0.97       205\n",
      "\n",
      "    accuracy                           0.97       400\n",
      "   macro avg       0.97      0.97      0.97       400\n",
      "weighted avg       0.97      0.97      0.97       400\n",
      "\n"
     ]
    }
   ],
   "source": [
    "class_name = ['y=0(多)','y=1(少)']\n",
    "print(classification_report(y1000_test, y1000_pred_test, target_names = class_name))"
   ]
  },
  {
   "cell_type": "markdown",
   "id": "9a6f0c60",
   "metadata": {},
   "source": [
    "#### 原始"
   ]
  },
  {
   "cell_type": "code",
   "execution_count": 70,
   "id": "982bda4f",
   "metadata": {},
   "outputs": [
    {
     "name": "stdout",
     "output_type": "stream",
     "text": [
      "Wall time: 3 ms\n",
      "Train matrix: \n",
      "[[799   1]\n",
      " [ 15  65]]\n",
      "Test matrix: \n",
      "[[199   1]\n",
      " [  7  13]]\n"
     ]
    }
   ],
   "source": [
    "%time d2_model.fit(x1000o_train, y1000o_train)\n",
    "y1000_pred_train = d2o_model.predict(x1000o_train)\n",
    "y1000_pred_test = d2o_model.predict(x1000o_test)\n",
    "\n",
    "print('Train matrix: \\n{}'.format(confusion_matrix(y1000o_train, y1000_pred_train)))\n",
    "print('Test matrix: \\n{}'.format(confusion_matrix(y1000o_test, y1000_pred_test)))"
   ]
  },
  {
   "cell_type": "code",
   "execution_count": 71,
   "id": "277efc69",
   "metadata": {},
   "outputs": [
    {
     "name": "stdout",
     "output_type": "stream",
     "text": [
      "              precision    recall  f1-score   support\n",
      "\n",
      "      y=0(多)       0.97      0.99      0.98       200\n",
      "      y=1(少)       0.93      0.65      0.76        20\n",
      "\n",
      "    accuracy                           0.96       220\n",
      "   macro avg       0.95      0.82      0.87       220\n",
      "weighted avg       0.96      0.96      0.96       220\n",
      "\n"
     ]
    }
   ],
   "source": [
    "class_name = ['y=0(多)','y=1(少)']\n",
    "print(classification_report(y1000o_test, y1000_pred_test, target_names = class_name))"
   ]
  },
  {
   "cell_type": "markdown",
   "id": "ed10d4ab",
   "metadata": {},
   "source": [
    "## RF"
   ]
  },
  {
   "cell_type": "markdown",
   "id": "8014aa57",
   "metadata": {},
   "source": [
    "### 挑參數"
   ]
  },
  {
   "cell_type": "markdown",
   "id": "bae703da",
   "metadata": {},
   "source": [
    "#### 原始"
   ]
  },
  {
   "cell_type": "code",
   "execution_count": 72,
   "id": "b0fd65e1",
   "metadata": {},
   "outputs": [
    {
     "data": {
      "text/plain": [
       "{'criterion': 'gini', 'n_estimators': 72}"
      ]
     },
     "execution_count": 72,
     "metadata": {},
     "output_type": "execute_result"
    }
   ],
   "source": [
    "param_distribs = {\n",
    "    'n_estimators': randint(low=1, high=200),\n",
    "    'criterion': ['gini', 'entropy']\n",
    "}\n",
    "\n",
    "rnd_cf = RandomForestClassifier(random_state=1)\n",
    "rnd_search = RandomizedSearchCV(rnd_cf, param_distributions=param_distribs, \n",
    "                                n_iter=100, cv=50, scoring='f1', random_state=1)\n",
    "rnd_search.fit(x1000o_train, y1000o_train)\n",
    "\n",
    "rf2o_model = rnd_search.best_estimator_\n",
    "rnd_search.best_params_"
   ]
  },
  {
   "cell_type": "markdown",
   "id": "7775d2ad",
   "metadata": {},
   "source": [
    "#### SMOTE"
   ]
  },
  {
   "cell_type": "code",
   "execution_count": 73,
   "id": "56b7fc5e",
   "metadata": {},
   "outputs": [
    {
     "data": {
      "text/plain": [
       "{'criterion': 'gini', 'n_estimators': 44}"
      ]
     },
     "execution_count": 73,
     "metadata": {},
     "output_type": "execute_result"
    }
   ],
   "source": [
    "param_distribs = {\n",
    "    'n_estimators': randint(low=1, high=200),\n",
    "    'criterion': ['gini', 'entropy']\n",
    "}\n",
    "\n",
    "rnd_cf = RandomForestClassifier(random_state=1)\n",
    "rnd_search = RandomizedSearchCV(rnd_cf, param_distributions=param_distribs, \n",
    "                                n_iter=100, cv=50, scoring='f1', random_state=1)\n",
    "rnd_search.fit(x1000_train, y1000_train)\n",
    "\n",
    "rf2_model = rnd_search.best_estimator_\n",
    "rnd_search.best_params_"
   ]
  },
  {
   "cell_type": "markdown",
   "id": "33ad7ab9",
   "metadata": {},
   "source": [
    "### 訓練"
   ]
  },
  {
   "cell_type": "markdown",
   "id": "32281ac2",
   "metadata": {},
   "source": [
    "#### 原始"
   ]
  },
  {
   "cell_type": "code",
   "execution_count": 74,
   "id": "06e8d16d",
   "metadata": {},
   "outputs": [
    {
     "name": "stdout",
     "output_type": "stream",
     "text": [
      "Train F1 Score: 0.8887 %\n",
      "Test F1 Score:  0.7400 %\n"
     ]
    }
   ],
   "source": [
    "f1_train = cross_val_score(rf2o_model, x1000o_train, y1000o_train, scoring='f1', cv=10)\n",
    "f1_test  = cross_val_score(rf2o_model, x1000o_test, y1000o_test, scoring='f1', cv=10)\n",
    "info_train = 'Train F1 Score: {:.4f} %'.format(f1_train.mean())\n",
    "info_test  = 'Test F1 Score:  {:.4f} %'.format(f1_test.mean())\n",
    "\n",
    "print(info_train)\n",
    "print(info_test)"
   ]
  },
  {
   "cell_type": "code",
   "execution_count": 75,
   "id": "d31ba026",
   "metadata": {},
   "outputs": [
    {
     "data": {
      "image/png": "[encoded data removed]",
      "text/plain": [
       "<Figure size 432x288 with 1 Axes>"
      ]
     },
     "metadata": {
      "needs_background": "light"
     },
     "output_type": "display_data"
    }
   ],
   "source": [
    "imp = rf2o_model.feature_importances_\n",
    "features = list(data100_0)[0:-1]\n",
    "sorted(zip(imp, features), reverse=True)\n",
    "ind = np.argsort(imp)\n",
    "plt.title('Feature Importances')\n",
    "plt.barh(range(len(ind)), imp[ind], color='g', align='center')\n",
    "plt.yticks(range(len(ind)), [features[i] for i in ind])\n",
    "plt.xlabel('Relative Importance')\n",
    "plt.show()"
   ]
  },
  {
   "cell_type": "markdown",
   "id": "9aa09b6a",
   "metadata": {},
   "source": [
    "#### SMOTE"
   ]
  },
  {
   "cell_type": "code",
   "execution_count": 76,
   "id": "986e0205",
   "metadata": {},
   "outputs": [
    {
     "name": "stdout",
     "output_type": "stream",
     "text": [
      "Train F1 Score: 0.9882 %\n",
      "Test F1 Score:  0.9635 %\n"
     ]
    }
   ],
   "source": [
    "f1_train = cross_val_score(rf2_model, x1000_train, y1000_train, scoring='f1', cv=50)\n",
    "f1_test  = cross_val_score(rf2_model, x1000_test, y1000_test, scoring='f1', cv=50)\n",
    "info_train = 'Train F1 Score: {:.4f} %'.format(f1_train.mean())\n",
    "info_test  = 'Test F1 Score:  {:.4f} %'.format(f1_test.mean())\n",
    "\n",
    "print(info_train)\n",
    "print(info_test)"
   ]
  },
  {
   "cell_type": "code",
   "execution_count": 77,
   "id": "1a7bc596",
   "metadata": {},
   "outputs": [
    {
     "data": {
      "image/png": "[encoded data removed]",
      "text/plain": [
       "<Figure size 432x288 with 1 Axes>"
      ]
     },
     "metadata": {
      "needs_background": "light"
     },
     "output_type": "display_data"
    }
   ],
   "source": [
    "imp = rf2_model.feature_importances_\n",
    "features = list(data100_0)[0:-1]\n",
    "sorted(zip(imp, features), reverse=True)\n",
    "ind = np.argsort(imp)\n",
    "plt.title('Feature Importances')\n",
    "plt.barh(range(len(ind)), imp[ind], color='g', align='center')\n",
    "plt.yticks(range(len(ind)), [features[i] for i in ind])\n",
    "plt.xlabel('Relative Importance')\n",
    "plt.show()"
   ]
  },
  {
   "cell_type": "markdown",
   "id": "8bfb22e5",
   "metadata": {},
   "source": [
    "### 重複訓練100次，進行平均"
   ]
  },
  {
   "cell_type": "markdown",
   "id": "89d62900",
   "metadata": {},
   "source": [
    "#### 原始"
   ]
  },
  {
   "cell_type": "code",
   "execution_count": 78,
   "id": "a0ce362d",
   "metadata": {},
   "outputs": [
    {
     "name": "stdout",
     "output_type": "stream",
     "text": [
      "Train matrix: \n",
      "(800.07, 0.05, 0.0, 79.88)\n",
      "Test matrix: \n",
      "(198.69, 3.7, 1.24, 16.37)\n",
      "\n",
      "       Score    y=0(多)    y=1(少)\n",
      "0  precision  0.981718  0.929585\n",
      "1     recall  0.993798  0.815645\n",
      "2   f1-score  0.987721  0.868896\n",
      "Wall time: 10.7 s\n"
     ]
    }
   ],
   "source": [
    "%%time\n",
    "tn_train, fp_train, fn_train, tp_train = 0, 0, 0, 0\n",
    "tn_test, fp_test, fn_test, tp_test = 0, 0, 0, 0\n",
    "imp = 0\n",
    "\n",
    "for i in range(0,100):\n",
    "    x1000o_train2, x1000o_test2, y1000o_train2, y1000o_test2 = train_test_split(x1000, y1000, test_size=0.2)\n",
    "    rf2o_model.fit(x1000o_train2, y1000o_train2)\n",
    "    y1000_pred_train = rf2o_model.predict(x1000o_train2)\n",
    "    y1000_pred_test = rf2o_model.predict(x1000o_test2)\n",
    "    \n",
    "    tp1, fn1, fp1, tn1 = confusion_matrix(y1000o_train2, y1000_pred_train).ravel()\n",
    "    tp2, fn2, fp2, tn2 = confusion_matrix(y1000o_test2, y1000_pred_test).ravel()\n",
    "    \n",
    "    tn_train = tn1 + tn_train\n",
    "    fp_train = fp1 + fp_train\n",
    "    fn_train = fn1 + fn_train\n",
    "    tp_train = tp1 + tp_train\n",
    "    \n",
    "    tn_test = tn2 + tn_test\n",
    "    fp_test = fp2 + fp_test\n",
    "    fn_test = fn2 + fn_test\n",
    "    tp_test = tp2 + tp_test\n",
    "    \n",
    "    imp2 = rf2o_model.feature_importances_\n",
    "    imp = imp + imp2\n",
    "\n",
    "print('Train matrix: \\n{}'.format((tp_train/100, fp_train/100, fn_train/100, tn_train/100)))\n",
    "print('Test matrix: \\n{}\\n'.format((tp_test/100, fp_test/100, fn_test/100, tn_test/100)))\n",
    "\n",
    "recall_0 = tp_test/(tp_test+fn_test)\n",
    "precision_0 = tp_test/(tp_test+fp_test)\n",
    "recall_1 = tn_test/(tn_test+fp_test)\n",
    "precision_1 = tn_test/(tn_test+fn_test)\n",
    "\n",
    "score = {\n",
    "    \"Score\" : [\"precision\", \"recall\",  \"f1-score\"],\n",
    "    \"y=0(多)\" : [precision_0, recall_0, 2*((precision_0*recall_0)/(precision_0 + recall_0))],\n",
    "    \"y=1(少)\" : [precision_1, recall_1, 2*((precision_1*recall_1)/(precision_1 + recall_1))]\n",
    "}\n",
    "sc = pd.DataFrame(score)\n",
    "print(sc)"
   ]
  },
  {
   "cell_type": "code",
   "execution_count": 79,
   "id": "e09c33f7",
   "metadata": {},
   "outputs": [
    {
     "data": {
      "image/png": "[encoded data removed]",
      "text/plain": [
       "<Figure size 432x288 with 1 Axes>"
      ]
     },
     "metadata": {
      "needs_background": "light"
     },
     "output_type": "display_data"
    }
   ],
   "source": [
    "features = list(data100_1)[0:-1]\n",
    "sorted(zip(imp/100, features), reverse=True)\n",
    "ind = np.argsort(imp/100)\n",
    "\n",
    "plt.title('Feature Importances')\n",
    "plt.barh(range(len(ind)), (imp/100)[ind], color='g', align='center')\n",
    "plt.yticks(range(len(ind)), [features[i] for i in ind])\n",
    "plt.xlabel('Relative Importance')\n",
    "plt.show()"
   ]
  },
  {
   "cell_type": "markdown",
   "id": "a37cfaa1",
   "metadata": {},
   "source": [
    "#### SMOTE"
   ]
  },
  {
   "cell_type": "code",
   "execution_count": 80,
   "id": "0411e413",
   "metadata": {},
   "outputs": [
    {
     "name": "stdout",
     "output_type": "stream",
     "text": [
      "Train matrix: \n",
      "(799.87, 0.02, 0.01, 800.1)\n",
      "Test matrix: \n",
      "(196.41, 2.15, 3.71, 197.73)\n",
      "\n",
      "       Score    y=0(多)    y=1(少)\n",
      "0  precision  0.989172  0.981583\n",
      "1     recall  0.981461  0.989244\n",
      "2   f1-score  0.985301  0.985398\n",
      "Wall time: 9.98 s\n"
     ]
    }
   ],
   "source": [
    "%%time\n",
    "tn_train, fp_train, fn_train, tp_train = 0, 0, 0, 0\n",
    "tn_test, fp_test, fn_test, tp_test = 0, 0, 0, 0\n",
    "imp = 0\n",
    "\n",
    "for i in range(0,100):\n",
    "    x1000_train2, x1000_test2, y1000_train2, y1000_test2 = train_test_split(x1000_sm, y1000_sm, test_size=0.2)  \n",
    "    rf2_model.fit(x1000_train2, y1000_train2)\n",
    "    y1000_pred_train = rf2_model.predict(x1000_train2)\n",
    "    y1000_pred_test = rf2_model.predict(x1000_test2)\n",
    "    \n",
    "    tp1, fn1, fp1, tn1 = confusion_matrix(y1000_train2, y1000_pred_train).ravel()\n",
    "    tp2, fn2, fp2, tn2 = confusion_matrix(y1000_test2, y1000_pred_test).ravel()\n",
    "    \n",
    "    tn_train = tn1 + tn_train\n",
    "    fp_train = fp1 + fp_train\n",
    "    fn_train = fn1 + fn_train\n",
    "    tp_train = tp1 + tp_train\n",
    "    \n",
    "    tn_test = tn2 + tn_test\n",
    "    fp_test = fp2 + fp_test\n",
    "    fn_test = fn2 + fn_test\n",
    "    tp_test = tp2 + tp_test\n",
    "    \n",
    "    imp2 = rf2_model.feature_importances_\n",
    "    imp = imp + imp2\n",
    "\n",
    "print('Train matrix: \\n{}'.format((tp_train/100, fp_train/100, fn_train/100, tn_train/100)))\n",
    "print('Test matrix: \\n{}\\n'.format((tp_test/100, fp_test/100, fn_test/100, tn_test/100)))\n",
    "\n",
    "recall_0 = tp_test/(tp_test+fn_test)\n",
    "precision_0 = tp_test/(tp_test+fp_test)\n",
    "recall_1 = tn_test/(tn_test+fp_test)\n",
    "precision_1 = tn_test/(tn_test+fn_test)\n",
    "\n",
    "score = {\n",
    "    \"Score\" : [\"precision\", \"recall\",  \"f1-score\"],\n",
    "    \"y=0(多)\" : [precision_0, recall_0, 2*((precision_0*recall_0)/(precision_0 + recall_0))],\n",
    "    \"y=1(少)\" : [precision_1, recall_1, 2*((precision_1*recall_1)/(precision_1 + recall_1))]\n",
    "}\n",
    "sc = pd.DataFrame(score)\n",
    "print(sc)"
   ]
  },
  {
   "cell_type": "code",
   "execution_count": 81,
   "id": "53585528",
   "metadata": {},
   "outputs": [
    {
     "data": {
      "image/png": "[encoded data removed]",
      "text/plain": [
       "<Figure size 432x288 with 1 Axes>"
      ]
     },
     "metadata": {
      "needs_background": "light"
     },
     "output_type": "display_data"
    }
   ],
   "source": [
    "features = list(data100_1)[0:-1]\n",
    "sorted(zip(imp/100, features), reverse=True)\n",
    "ind = np.argsort(imp/100)\n",
    "\n",
    "plt.title('Feature Importances')\n",
    "plt.barh(range(len(ind)), (imp/100)[ind], color='g', align='center')\n",
    "plt.yticks(range(len(ind)), [features[i] for i in ind])\n",
    "plt.xlabel('Relative Importance')\n",
    "plt.show()"
   ]
  },
  {
   "cell_type": "markdown",
   "id": "f4dcad92",
   "metadata": {},
   "source": [
    "### 單次參考訓練數值"
   ]
  },
  {
   "cell_type": "markdown",
   "id": "520bb644",
   "metadata": {},
   "source": [
    "#### 原始"
   ]
  },
  {
   "cell_type": "code",
   "execution_count": 82,
   "id": "9d1a8adc",
   "metadata": {},
   "outputs": [
    {
     "name": "stdout",
     "output_type": "stream",
     "text": [
      "Wall time: 94 ms\n",
      "Train matrix: \n",
      "[[800   0]\n",
      " [  0  80]]\n",
      "Train matrix: \n",
      "[[197   3]\n",
      " [  5  15]]\n"
     ]
    }
   ],
   "source": [
    "%time rf2o_model.fit(x1000o_train, y1000o_train)\n",
    "y1000_pred_train = rf2o_model.predict(x1000o_train)\n",
    "y1000_pred_test = rf2o_model.predict(x1000o_test)\n",
    "\n",
    "print('Train matrix: \\n{}'.format(confusion_matrix(y1000o_train, y1000_pred_train)))\n",
    "print('Train matrix: \\n{}'.format(confusion_matrix(y1000o_test, y1000_pred_test)))"
   ]
  },
  {
   "cell_type": "code",
   "execution_count": 84,
   "id": "36bdd80f",
   "metadata": {},
   "outputs": [
    {
     "name": "stdout",
     "output_type": "stream",
     "text": [
      "              precision    recall  f1-score   support\n",
      "\n",
      "      y=0(多)       0.98      0.98      0.98       200\n",
      "      y=1(少)       0.83      0.75      0.79        20\n",
      "\n",
      "    accuracy                           0.96       220\n",
      "   macro avg       0.90      0.87      0.88       220\n",
      "weighted avg       0.96      0.96      0.96       220\n",
      "\n"
     ]
    }
   ],
   "source": [
    "class_name = ['y=0(多)','y=1(少)']\n",
    "print(classification_report(y1000o_test, y1000_pred_test, target_names = class_name))"
   ]
  },
  {
   "cell_type": "markdown",
   "id": "1e108868",
   "metadata": {},
   "source": [
    "#### SMOTE"
   ]
  },
  {
   "cell_type": "code",
   "execution_count": 85,
   "id": "c07eac91",
   "metadata": {},
   "outputs": [
    {
     "name": "stdout",
     "output_type": "stream",
     "text": [
      "Wall time: 89 ms\n",
      "Train matrix: \n",
      "[[804   1]\n",
      " [  0 795]]\n",
      "Train matrix: \n",
      "[[190   5]\n",
      " [  1 204]]\n"
     ]
    }
   ],
   "source": [
    "%time rf2_model.fit(x1000_train, y1000_train)\n",
    "y1000_pred_train = rf2_model.predict(x1000_train)\n",
    "y1000_pred_test = rf2_model.predict(x1000_test)\n",
    "\n",
    "print('Train matrix: \\n{}'.format(confusion_matrix(y1000_train, y1000_pred_train)))\n",
    "print('Train matrix: \\n{}'.format(confusion_matrix(y1000_test, y1000_pred_test)))"
   ]
  },
  {
   "cell_type": "code",
   "execution_count": 86,
   "id": "2b7a9eb7",
   "metadata": {},
   "outputs": [
    {
     "name": "stdout",
     "output_type": "stream",
     "text": [
      "              precision    recall  f1-score   support\n",
      "\n",
      "      y=0(多)       0.99      0.97      0.98       195\n",
      "      y=1(少)       0.98      1.00      0.99       205\n",
      "\n",
      "    accuracy                           0.98       400\n",
      "   macro avg       0.99      0.98      0.98       400\n",
      "weighted avg       0.99      0.98      0.98       400\n",
      "\n"
     ]
    }
   ],
   "source": [
    "class_name = ['y=0(多)','y=1(少)']\n",
    "print(classification_report(y1000_test, y1000_pred_test, target_names = class_name))"
   ]
  },
  {
   "cell_type": "markdown",
   "id": "693690f9",
   "metadata": {},
   "source": [
    "## 各指標長條圖"
   ]
  },
  {
   "cell_type": "code",
   "execution_count": 140,
   "id": "16f803e9",
   "metadata": {},
   "outputs": [
    {
     "data": {
      "image/png": "[encoded data removed]",
      "text/plain": [
       "<Figure size 864x864 with 1 Axes>"
      ]
     },
     "metadata": {
      "needs_background": "light"
     },
     "output_type": "display_data"
    }
   ],
   "source": [
    "method_count = 6 #列出三個方法的SMOTE前與後\n",
    "bar_width = 0.3 #長條寬度\n",
    "index = 3*np.arange(method_count)\n",
    "\n",
    "#擷取三個評估值的數字\n",
    "y_0_precision = [0.983963, 0.979061, 0.981718, 0.970325, 0.978051, 0.989172]\n",
    "y_1_precision = [0.844953, 0.896653, 0.929585, 0.970325, 0.967074, 0.981583]\n",
    "y_0_recall    = [0.985140, 0.991221, 0.993798, 0.970082, 0.966708, 0.981461]\n",
    "y_1_recall    = [0.834532, 0.782275, 0.815645, 0.970566, 0.978295, 0.989244]\n",
    "y_0_f1score   = [0.984551, 0.985103, 0.987721, 0.970204, 0.972347, 0.985301]\n",
    "y_1_f1score   = [0.839710, 0.835568, 0.868896, 0.970445, 0.972652, 0.985398]\n",
    "\n",
    "plt.figure(figsize=(12,12))\n",
    "\n",
    "y_0_precision = plt.bar(index,         #長條圖位置\n",
    "                       y_0_precision,  #資料\n",
    "                       bar_width,      #長條圖寬度\n",
    "                       alpha = 0.8,    #透明度\n",
    "                       color = 'cornflowerblue',    \n",
    "                       label = \"y0_precision\")\n",
    "y_1_precision = plt.bar(index+0.4,     #長條圖位置\n",
    "                       y_1_precision,  #資料\n",
    "                       bar_width,      #長條圖寬度\n",
    "                       alpha = 0.8,    #透明度\n",
    "                       color = 'lightsteelblue',   \n",
    "                       label = \"y1_precision\")\n",
    "y_0_recall    = plt.bar(index+0.8,     #長條圖位置\n",
    "                       y_0_recall,     #資料\n",
    "                       bar_width,      #長條圖寬度\n",
    "                       alpha = 0.8,    #透明度\n",
    "                       color = 'firebrick',   \n",
    "                       label = \"y0_recall\")\n",
    "y_1_recall    = plt.bar(index+1.2,     #長條圖位置\n",
    "                       y_1_recall,     #資料\n",
    "                       bar_width,      #長條圖寬度\n",
    "                       alpha = 0.8,    #透明度\n",
    "                       color = 'lightcoral',   \n",
    "                       label = \"y1_recall\")\n",
    "y_0_f1score   = plt.bar(index+1.6,     #長條圖位置\n",
    "                       y_0_f1score,    #資料\n",
    "                       bar_width,      #長條圖寬度\n",
    "                       alpha = 0.8,    #透明度\n",
    "                       color = 'olivedrab',   \n",
    "                       label = \"y0_f1-score\")\n",
    "y_1_f1score   = plt.bar(index+2,     #長條圖位置\n",
    "                       y_1_f1score,    #資料\n",
    "                       bar_width,      #長條圖寬度\n",
    "                       alpha = 0.8,    #透明度\n",
    "                       color = 'lightgreen',   \n",
    "                       label = \"y1_f1-score\")\n",
    "\n",
    "# 長條圖左上的標籤\n",
    "def createLabels(data):                   # 自定義函數，為引用plusone團隊\n",
    "    for item in data:\n",
    "        height = item.get_height()\n",
    "        #plt.text(                        # 數值顯示\n",
    "        #    item.get_x()+item.get_width()/2., \n",
    "        #    height*1.05, \n",
    "        #    '%d' % int(height),\n",
    "        #    ha = \"center\",\n",
    "        #    va = \"bottom\",\n",
    "        #)\n",
    "createLabels(y_0_precision)\n",
    "createLabels(y_1_precision)\n",
    "createLabels(y_0_recall)\n",
    "createLabels(y_1_recall)\n",
    "createLabels(y_0_f1score)\n",
    "createLabels(y_1_f1score)\n",
    "\n",
    "plt.ylabel(\"Score\")          # 設定y軸標題 \n",
    "plt.xlabel(\"Method\")            # 設定x軸標題\n",
    "plt.title(\"Score for Each Method\", {'fontsize' : 15})  # 設定標題、文字大小\n",
    "plt.xticks(index+3*bar_width ,(\"No SMOTE - GMT\", \"No SMOTE - DT\", \"No SMOTE - RF\", \"SMOTE - GMT\", \"SMOTE - DT\", \"SMOTE - RF\"))  #.xticks為x軸文字(為了置中所以+0.3/2)\n",
    "plt.ylim(0, 1.3)                 # 設定y軸範圍\n",
    "plt.legend(prop = {'size':12})    # 設定圖例及其大小\n",
    "plt.grid(True)                   # 顯示格線"
   ]
  },
  {
   "cell_type": "markdown",
   "id": "79d3c460",
   "metadata": {},
   "source": [
    "# 100:10000"
   ]
  },
  {
   "cell_type": "markdown",
   "id": "b3ec936e",
   "metadata": {},
   "source": [
    "## DATA"
   ]
  },
  {
   "cell_type": "code",
   "execution_count": 87,
   "id": "e403b8e7",
   "metadata": {},
   "outputs": [],
   "source": [
    "np.random.seed(1)\n",
    "\n",
    "m = 100\n",
    "\n",
    "data10000_1 = {\n",
    "    \"x1\": np.random.normal(0, 1, m),\n",
    "    \"x2\": np.random.normal(0, 1, m),\n",
    "    \"x3\": np.random.normal(0, 1, m),\n",
    "    \"x4\": np.random.normal(0, 1, m),\n",
    "    \"x5\": np.random.normal(0, 1, m),\n",
    "    \"x6\": np.random.normal(0, 1, m),\n",
    "    \"x7\": np.random.normal(0, 1, m),\n",
    "    \"x8\": np.random.normal(0, 1, m),\n",
    "    \"x9\": np.random.normal(0, 1, m),\n",
    "    \"x10\": np.random.normal(0, 1, m),\n",
    "    \"y\": [1]*m\n",
    "}\n",
    "\n",
    "data10000_1 = pd.DataFrame(data10000_1)\n",
    "\n",
    "data10000_0 = {\n",
    "    \"x1\": np.random.normal(1, 1, m*100),\n",
    "    \"x2\": np.random.normal(2, 1, m*100),\n",
    "    \"x3\": np.random.normal(3, 1, m*100),\n",
    "    \"x4\": np.random.normal(0, 1, m*100),\n",
    "    \"x5\": np.random.normal(0, 1, m*100),\n",
    "    \"x6\": np.random.normal(0, 1, m*100),\n",
    "    \"x7\": np.random.normal(0, 1, m*100),\n",
    "    \"x8\": np.random.normal(0, 1, m*100),\n",
    "    \"x9\": np.random.normal(0, 1, m*100),\n",
    "    \"x10\": np.random.normal(0, 1, m*100),\n",
    "    \"y\": [0]*m*100\n",
    "}\n",
    "\n",
    "data10000_0 = pd.DataFrame(data10000_0)"
   ]
  },
  {
   "cell_type": "code",
   "execution_count": 88,
   "id": "2b3d9170",
   "metadata": {},
   "outputs": [],
   "source": [
    "x10000 = np.append(np.array(data10000_0)[:, 0:10],np.array(data10000_1)[:, 0:10], axis = 0)\n",
    "y10000 = np.append(np.array(data10000_0)[:, 10],np.array(data10000_1)[:, 10])\n",
    "\n",
    "sm = SMOTE(random_state=1)\n",
    "x10000_sm, y10000_sm = sm.fit_resample(x10000, y10000)  \n",
    "\n",
    "x10000_train, x10000_test, y10000_train, y10000_test = train_test_split(x10000_sm, y10000_sm, test_size=0.2,  random_state=1) \n",
    "x10000o_train, x10000o_test, y10000o_train, y10000o_test = train_test_split(x10000, y10000, test_size=0.2,  random_state=1) "
   ]
  },
  {
   "cell_type": "code",
   "execution_count": 89,
   "id": "941ad9a9",
   "metadata": {},
   "outputs": [
    {
     "data": {
      "text/html": [
       "<div>\n",
       "<style scoped>\n",
       "    .dataframe tbody tr th:only-of-type {\n",
       "        vertical-align: middle;\n",
       "    }\n",
       "\n",
       "    .dataframe tbody tr th {\n",
       "        vertical-align: top;\n",
       "    }\n",
       "\n",
       "    .dataframe thead th {\n",
       "        text-align: right;\n",
       "    }\n",
       "</style>\n",
       "<table border=\"1\" class=\"dataframe\">\n",
       "  <thead>\n",
       "    <tr style=\"text-align: right;\">\n",
       "      <th></th>\n",
       "      <th>x1</th>\n",
       "      <th>x2</th>\n",
       "      <th>x3</th>\n",
       "      <th>x4</th>\n",
       "      <th>x5</th>\n",
       "      <th>x6</th>\n",
       "      <th>x7</th>\n",
       "      <th>x8</th>\n",
       "      <th>x9</th>\n",
       "      <th>x10</th>\n",
       "      <th>y</th>\n",
       "    </tr>\n",
       "  </thead>\n",
       "  <tbody>\n",
       "    <tr>\n",
       "      <th>0</th>\n",
       "      <td>0.846764</td>\n",
       "      <td>3.351321</td>\n",
       "      <td>3.536642</td>\n",
       "      <td>1.496272</td>\n",
       "      <td>0.651069</td>\n",
       "      <td>-0.770326</td>\n",
       "      <td>0.646652</td>\n",
       "      <td>-0.027238</td>\n",
       "      <td>0.423418</td>\n",
       "      <td>-0.793670</td>\n",
       "      <td>0</td>\n",
       "    </tr>\n",
       "    <tr>\n",
       "      <th>1</th>\n",
       "      <td>-1.432509</td>\n",
       "      <td>1.651650</td>\n",
       "      <td>3.153198</td>\n",
       "      <td>-1.252430</td>\n",
       "      <td>-0.258089</td>\n",
       "      <td>0.835948</td>\n",
       "      <td>-1.806468</td>\n",
       "      <td>0.773101</td>\n",
       "      <td>1.184459</td>\n",
       "      <td>-0.039941</td>\n",
       "      <td>0</td>\n",
       "    </tr>\n",
       "    <tr>\n",
       "      <th>2</th>\n",
       "      <td>1.507984</td>\n",
       "      <td>1.937799</td>\n",
       "      <td>0.421730</td>\n",
       "      <td>-1.625512</td>\n",
       "      <td>-0.858608</td>\n",
       "      <td>0.006584</td>\n",
       "      <td>0.524363</td>\n",
       "      <td>-0.195959</td>\n",
       "      <td>-1.832066</td>\n",
       "      <td>0.186855</td>\n",
       "      <td>0</td>\n",
       "    </tr>\n",
       "    <tr>\n",
       "      <th>3</th>\n",
       "      <td>0.675968</td>\n",
       "      <td>2.184909</td>\n",
       "      <td>2.787029</td>\n",
       "      <td>0.878851</td>\n",
       "      <td>0.085445</td>\n",
       "      <td>0.758635</td>\n",
       "      <td>-1.167497</td>\n",
       "      <td>0.344272</td>\n",
       "      <td>-0.988058</td>\n",
       "      <td>1.189095</td>\n",
       "      <td>0</td>\n",
       "    </tr>\n",
       "    <tr>\n",
       "      <th>4</th>\n",
       "      <td>-0.511077</td>\n",
       "      <td>1.614047</td>\n",
       "      <td>2.792005</td>\n",
       "      <td>-1.736564</td>\n",
       "      <td>0.393518</td>\n",
       "      <td>1.742306</td>\n",
       "      <td>-1.026182</td>\n",
       "      <td>-0.652866</td>\n",
       "      <td>-1.309615</td>\n",
       "      <td>0.207969</td>\n",
       "      <td>0</td>\n",
       "    </tr>\n",
       "    <tr>\n",
       "      <th>...</th>\n",
       "      <td>...</td>\n",
       "      <td>...</td>\n",
       "      <td>...</td>\n",
       "      <td>...</td>\n",
       "      <td>...</td>\n",
       "      <td>...</td>\n",
       "      <td>...</td>\n",
       "      <td>...</td>\n",
       "      <td>...</td>\n",
       "      <td>...</td>\n",
       "      <td>...</td>\n",
       "    </tr>\n",
       "    <tr>\n",
       "      <th>9995</th>\n",
       "      <td>0.444426</td>\n",
       "      <td>2.491078</td>\n",
       "      <td>4.000387</td>\n",
       "      <td>0.902224</td>\n",
       "      <td>2.056262</td>\n",
       "      <td>-0.296807</td>\n",
       "      <td>2.711644</td>\n",
       "      <td>-0.103027</td>\n",
       "      <td>-0.392232</td>\n",
       "      <td>-1.187391</td>\n",
       "      <td>0</td>\n",
       "    </tr>\n",
       "    <tr>\n",
       "      <th>9996</th>\n",
       "      <td>2.101262</td>\n",
       "      <td>0.227586</td>\n",
       "      <td>2.454653</td>\n",
       "      <td>-0.775980</td>\n",
       "      <td>0.802633</td>\n",
       "      <td>1.024270</td>\n",
       "      <td>0.992301</td>\n",
       "      <td>-0.619629</td>\n",
       "      <td>0.321456</td>\n",
       "      <td>1.125308</td>\n",
       "      <td>0</td>\n",
       "    </tr>\n",
       "    <tr>\n",
       "      <th>9997</th>\n",
       "      <td>-0.354035</td>\n",
       "      <td>0.902162</td>\n",
       "      <td>4.483542</td>\n",
       "      <td>-1.606281</td>\n",
       "      <td>-0.234529</td>\n",
       "      <td>0.198966</td>\n",
       "      <td>0.179169</td>\n",
       "      <td>-1.210005</td>\n",
       "      <td>-0.794164</td>\n",
       "      <td>0.465814</td>\n",
       "      <td>0</td>\n",
       "    </tr>\n",
       "    <tr>\n",
       "      <th>9998</th>\n",
       "      <td>1.698086</td>\n",
       "      <td>3.090739</td>\n",
       "      <td>4.233814</td>\n",
       "      <td>-1.564649</td>\n",
       "      <td>1.536377</td>\n",
       "      <td>-1.471925</td>\n",
       "      <td>1.228073</td>\n",
       "      <td>1.075987</td>\n",
       "      <td>1.127724</td>\n",
       "      <td>-1.130064</td>\n",
       "      <td>0</td>\n",
       "    </tr>\n",
       "    <tr>\n",
       "      <th>9999</th>\n",
       "      <td>-2.173462</td>\n",
       "      <td>2.645607</td>\n",
       "      <td>2.237355</td>\n",
       "      <td>0.199233</td>\n",
       "      <td>-1.854240</td>\n",
       "      <td>0.228543</td>\n",
       "      <td>-1.005339</td>\n",
       "      <td>0.337032</td>\n",
       "      <td>1.956157</td>\n",
       "      <td>0.848476</td>\n",
       "      <td>0</td>\n",
       "    </tr>\n",
       "  </tbody>\n",
       "</table>\n",
       "<p>10000 rows × 11 columns</p>\n",
       "</div>"
      ],
      "text/plain": [
       "            x1        x2        x3        x4        x5        x6        x7  \\\n",
       "0     0.846764  3.351321  3.536642  1.496272  0.651069 -0.770326  0.646652   \n",
       "1    -1.432509  1.651650  3.153198 -1.252430 -0.258089  0.835948 -1.806468   \n",
       "2     1.507984  1.937799  0.421730 -1.625512 -0.858608  0.006584  0.524363   \n",
       "3     0.675968  2.184909  2.787029  0.878851  0.085445  0.758635 -1.167497   \n",
       "4    -0.511077  1.614047  2.792005 -1.736564  0.393518  1.742306 -1.026182   \n",
       "...        ...       ...       ...       ...       ...       ...       ...   \n",
       "9995  0.444426  2.491078  4.000387  0.902224  2.056262 -0.296807  2.711644   \n",
       "9996  2.101262  0.227586  2.454653 -0.775980  0.802633  1.024270  0.992301   \n",
       "9997 -0.354035  0.902162  4.483542 -1.606281 -0.234529  0.198966  0.179169   \n",
       "9998  1.698086  3.090739  4.233814 -1.564649  1.536377 -1.471925  1.228073   \n",
       "9999 -2.173462  2.645607  2.237355  0.199233 -1.854240  0.228543 -1.005339   \n",
       "\n",
       "            x8        x9       x10  y  \n",
       "0    -0.027238  0.423418 -0.793670  0  \n",
       "1     0.773101  1.184459 -0.039941  0  \n",
       "2    -0.195959 -1.832066  0.186855  0  \n",
       "3     0.344272 -0.988058  1.189095  0  \n",
       "4    -0.652866 -1.309615  0.207969  0  \n",
       "...        ...       ...       ... ..  \n",
       "9995 -0.103027 -0.392232 -1.187391  0  \n",
       "9996 -0.619629  0.321456  1.125308  0  \n",
       "9997 -1.210005 -0.794164  0.465814  0  \n",
       "9998  1.075987  1.127724 -1.130064  0  \n",
       "9999  0.337032  1.956157  0.848476  0  \n",
       "\n",
       "[10000 rows x 11 columns]"
      ]
     },
     "execution_count": 89,
     "metadata": {},
     "output_type": "execute_result"
    }
   ],
   "source": [
    "data10000_0"
   ]
  },
  {
   "cell_type": "code",
   "execution_count": 90,
   "id": "0f0e7afa",
   "metadata": {},
   "outputs": [
    {
     "data": {
      "text/html": [
       "<div>\n",
       "<style scoped>\n",
       "    .dataframe tbody tr th:only-of-type {\n",
       "        vertical-align: middle;\n",
       "    }\n",
       "\n",
       "    .dataframe tbody tr th {\n",
       "        vertical-align: top;\n",
       "    }\n",
       "\n",
       "    .dataframe thead th {\n",
       "        text-align: right;\n",
       "    }\n",
       "</style>\n",
       "<table border=\"1\" class=\"dataframe\">\n",
       "  <thead>\n",
       "    <tr style=\"text-align: right;\">\n",
       "      <th></th>\n",
       "      <th>x1</th>\n",
       "      <th>x2</th>\n",
       "      <th>x3</th>\n",
       "      <th>x4</th>\n",
       "      <th>x5</th>\n",
       "      <th>x6</th>\n",
       "      <th>x7</th>\n",
       "      <th>x8</th>\n",
       "      <th>x9</th>\n",
       "      <th>x10</th>\n",
       "      <th>y</th>\n",
       "    </tr>\n",
       "  </thead>\n",
       "  <tbody>\n",
       "    <tr>\n",
       "      <th>0</th>\n",
       "      <td>1.624345</td>\n",
       "      <td>-0.447129</td>\n",
       "      <td>-0.400878</td>\n",
       "      <td>2.065783</td>\n",
       "      <td>-1.306534</td>\n",
       "      <td>-1.719394</td>\n",
       "      <td>-1.072964</td>\n",
       "      <td>-0.790800</td>\n",
       "      <td>0.814343</td>\n",
       "      <td>-0.446699</td>\n",
       "      <td>1</td>\n",
       "    </tr>\n",
       "    <tr>\n",
       "      <th>1</th>\n",
       "      <td>-0.611756</td>\n",
       "      <td>1.224508</td>\n",
       "      <td>0.824006</td>\n",
       "      <td>-1.471157</td>\n",
       "      <td>0.076380</td>\n",
       "      <td>0.057121</td>\n",
       "      <td>0.495159</td>\n",
       "      <td>1.223722</td>\n",
       "      <td>0.780470</td>\n",
       "      <td>0.204377</td>\n",
       "      <td>1</td>\n",
       "    </tr>\n",
       "    <tr>\n",
       "      <th>2</th>\n",
       "      <td>-0.528172</td>\n",
       "      <td>0.403492</td>\n",
       "      <td>-0.562305</td>\n",
       "      <td>-0.830172</td>\n",
       "      <td>0.367232</td>\n",
       "      <td>-0.799547</td>\n",
       "      <td>-0.952062</td>\n",
       "      <td>-0.059368</td>\n",
       "      <td>-1.464054</td>\n",
       "      <td>0.612233</td>\n",
       "      <td>1</td>\n",
       "    </tr>\n",
       "    <tr>\n",
       "      <th>3</th>\n",
       "      <td>-1.072969</td>\n",
       "      <td>0.593579</td>\n",
       "      <td>1.954878</td>\n",
       "      <td>-0.880578</td>\n",
       "      <td>1.232899</td>\n",
       "      <td>-0.291595</td>\n",
       "      <td>-0.518146</td>\n",
       "      <td>1.448989</td>\n",
       "      <td>-0.154491</td>\n",
       "      <td>0.744885</td>\n",
       "      <td>1</td>\n",
       "    </tr>\n",
       "    <tr>\n",
       "      <th>4</th>\n",
       "      <td>0.865408</td>\n",
       "      <td>-1.094912</td>\n",
       "      <td>-1.331952</td>\n",
       "      <td>-0.279098</td>\n",
       "      <td>-0.422857</td>\n",
       "      <td>-0.258983</td>\n",
       "      <td>-1.461404</td>\n",
       "      <td>-0.477581</td>\n",
       "      <td>-0.092432</td>\n",
       "      <td>-0.036281</td>\n",
       "      <td>1</td>\n",
       "    </tr>\n",
       "    <tr>\n",
       "      <th>...</th>\n",
       "      <td>...</td>\n",
       "      <td>...</td>\n",
       "      <td>...</td>\n",
       "      <td>...</td>\n",
       "      <td>...</td>\n",
       "      <td>...</td>\n",
       "      <td>...</td>\n",
       "      <td>...</td>\n",
       "      <td>...</td>\n",
       "      <td>...</td>\n",
       "      <td>...</td>\n",
       "    </tr>\n",
       "    <tr>\n",
       "      <th>95</th>\n",
       "      <td>0.077340</td>\n",
       "      <td>-1.627438</td>\n",
       "      <td>-0.297362</td>\n",
       "      <td>0.794528</td>\n",
       "      <td>-0.828628</td>\n",
       "      <td>1.453918</td>\n",
       "      <td>-0.131676</td>\n",
       "      <td>-1.229574</td>\n",
       "      <td>0.578464</td>\n",
       "      <td>-0.116444</td>\n",
       "      <td>1</td>\n",
       "    </tr>\n",
       "    <tr>\n",
       "      <th>96</th>\n",
       "      <td>-0.343854</td>\n",
       "      <td>0.602319</td>\n",
       "      <td>0.417302</td>\n",
       "      <td>-1.873161</td>\n",
       "      <td>0.528880</td>\n",
       "      <td>0.661681</td>\n",
       "      <td>1.018552</td>\n",
       "      <td>1.108617</td>\n",
       "      <td>-0.961264</td>\n",
       "      <td>-2.277298</td>\n",
       "      <td>1</td>\n",
       "    </tr>\n",
       "    <tr>\n",
       "      <th>97</th>\n",
       "      <td>0.043597</td>\n",
       "      <td>0.420282</td>\n",
       "      <td>0.784771</td>\n",
       "      <td>0.920615</td>\n",
       "      <td>-2.237087</td>\n",
       "      <td>0.986352</td>\n",
       "      <td>1.230558</td>\n",
       "      <td>-0.702920</td>\n",
       "      <td>-1.458324</td>\n",
       "      <td>-0.069625</td>\n",
       "      <td>1</td>\n",
       "    </tr>\n",
       "    <tr>\n",
       "      <th>98</th>\n",
       "      <td>-0.620001</td>\n",
       "      <td>0.810952</td>\n",
       "      <td>-0.955425</td>\n",
       "      <td>-0.035368</td>\n",
       "      <td>-1.107713</td>\n",
       "      <td>-0.466155</td>\n",
       "      <td>-1.181103</td>\n",
       "      <td>0.725551</td>\n",
       "      <td>0.494342</td>\n",
       "      <td>0.353870</td>\n",
       "      <td>1</td>\n",
       "    </tr>\n",
       "    <tr>\n",
       "      <th>99</th>\n",
       "      <td>0.698032</td>\n",
       "      <td>1.044442</td>\n",
       "      <td>0.585910</td>\n",
       "      <td>2.110605</td>\n",
       "      <td>-0.017718</td>\n",
       "      <td>1.384991</td>\n",
       "      <td>-0.459930</td>\n",
       "      <td>-0.324204</td>\n",
       "      <td>-1.494194</td>\n",
       "      <td>-0.186955</td>\n",
       "      <td>1</td>\n",
       "    </tr>\n",
       "  </tbody>\n",
       "</table>\n",
       "<p>100 rows × 11 columns</p>\n",
       "</div>"
      ],
      "text/plain": [
       "          x1        x2        x3        x4        x5        x6        x7  \\\n",
       "0   1.624345 -0.447129 -0.400878  2.065783 -1.306534 -1.719394 -1.072964   \n",
       "1  -0.611756  1.224508  0.824006 -1.471157  0.076380  0.057121  0.495159   \n",
       "2  -0.528172  0.403492 -0.562305 -0.830172  0.367232 -0.799547 -0.952062   \n",
       "3  -1.072969  0.593579  1.954878 -0.880578  1.232899 -0.291595 -0.518146   \n",
       "4   0.865408 -1.094912 -1.331952 -0.279098 -0.422857 -0.258983 -1.461404   \n",
       "..       ...       ...       ...       ...       ...       ...       ...   \n",
       "95  0.077340 -1.627438 -0.297362  0.794528 -0.828628  1.453918 -0.131676   \n",
       "96 -0.343854  0.602319  0.417302 -1.873161  0.528880  0.661681  1.018552   \n",
       "97  0.043597  0.420282  0.784771  0.920615 -2.237087  0.986352  1.230558   \n",
       "98 -0.620001  0.810952 -0.955425 -0.035368 -1.107713 -0.466155 -1.181103   \n",
       "99  0.698032  1.044442  0.585910  2.110605 -0.017718  1.384991 -0.459930   \n",
       "\n",
       "          x8        x9       x10  y  \n",
       "0  -0.790800  0.814343 -0.446699  1  \n",
       "1   1.223722  0.780470  0.204377  1  \n",
       "2  -0.059368 -1.464054  0.612233  1  \n",
       "3   1.448989 -0.154491  0.744885  1  \n",
       "4  -0.477581 -0.092432 -0.036281  1  \n",
       "..       ...       ...       ... ..  \n",
       "95 -1.229574  0.578464 -0.116444  1  \n",
       "96  1.108617 -0.961264 -2.277298  1  \n",
       "97 -0.702920 -1.458324 -0.069625  1  \n",
       "98  0.725551  0.494342  0.353870  1  \n",
       "99 -0.324204 -1.494194 -0.186955  1  \n",
       "\n",
       "[100 rows x 11 columns]"
      ]
     },
     "execution_count": 90,
     "metadata": {},
     "output_type": "execute_result"
    }
   ],
   "source": [
    "data10000_1"
   ]
  },
  {
   "cell_type": "markdown",
   "id": "0b0bfa63",
   "metadata": {},
   "source": [
    "## GMT"
   ]
  },
  {
   "cell_type": "markdown",
   "id": "fdb2badd",
   "metadata": {},
   "source": [
    "### 參數挑選"
   ]
  },
  {
   "cell_type": "markdown",
   "id": "76b76ce2",
   "metadata": {},
   "source": [
    "#### 原始"
   ]
  },
  {
   "cell_type": "code",
   "execution_count": 91,
   "id": "ac733e36",
   "metadata": {},
   "outputs": [
    {
     "data": {
      "text/plain": [
       "{'partition_prior': 0.8894871794871795, 'delta': 0.02564102564102564}"
      ]
     },
     "execution_count": 91,
     "metadata": {},
     "output_type": "execute_result"
    }
   ],
   "source": [
    "# model\n",
    "gmt = PerpendicularClassificationTree(\n",
    "    #partition_prior=0.9,\n",
    "    prior=prior,\n",
    "    #delta=0, \n",
    "    prune=False) #分類\n",
    "\n",
    "param_distribs = {\n",
    "    'partition_prior': np.linspace(0.01,0.99,40),\n",
    "    'delta': np.linspace(0,1,40)\n",
    "}\n",
    "\n",
    "gmt_search = RandomizedSearchCV(gmt, \n",
    "    param_distributions=param_distribs, n_iter=100, cv=50, \n",
    "    scoring='f1', random_state=1)\n",
    "\n",
    "gmt_search.fit(x10000o_train, y10000o_train)\n",
    "g3o_model = gmt_search.best_estimator_\n",
    "gmt_search.best_params_"
   ]
  },
  {
   "cell_type": "markdown",
   "id": "46011cae",
   "metadata": {},
   "source": [
    "#### SMOTE"
   ]
  },
  {
   "cell_type": "code",
   "execution_count": 92,
   "id": "afe34207",
   "metadata": {},
   "outputs": [
    {
     "data": {
      "text/plain": [
       "{'partition_prior': 0.21102564102564103, 'delta': 0.0}"
      ]
     },
     "execution_count": 92,
     "metadata": {},
     "output_type": "execute_result"
    }
   ],
   "source": [
    "# model\n",
    "gmt = PerpendicularClassificationTree(\n",
    "    #partition_prior=0.9,\n",
    "    prior=prior,\n",
    "    #delta=0, \n",
    "    prune=False) #分類\n",
    "\n",
    "param_distribs = {\n",
    "    'partition_prior': np.linspace(0.01,0.99,40),\n",
    "    'delta': np.linspace(0,1,40)\n",
    "}\n",
    "\n",
    "gmt_search = RandomizedSearchCV(gmt, \n",
    "    param_distributions=param_distribs, n_iter=100, cv=50, \n",
    "    scoring='f1', random_state=1)\n",
    "\n",
    "gmt_search.fit(x10000_train, y10000_train)\n",
    "g3_model = gmt_search.best_estimator_\n",
    "gmt_search.best_params_"
   ]
  },
  {
   "cell_type": "markdown",
   "id": "40683b42",
   "metadata": {},
   "source": [
    "### 訓練"
   ]
  },
  {
   "cell_type": "markdown",
   "id": "4c14003f",
   "metadata": {},
   "source": [
    "#### 原始"
   ]
  },
  {
   "cell_type": "code",
   "execution_count": 93,
   "id": "2acc64c9",
   "metadata": {},
   "outputs": [
    {
     "name": "stdout",
     "output_type": "stream",
     "text": [
      "Train F1 Score: 0.6041 %\n",
      "Test F1 Score:  0.6833 %\n"
     ]
    }
   ],
   "source": [
    "f1_train = cross_val_score(g3o_model, x10000o_train, y10000o_train, scoring='f1', cv=10)\n",
    "f1_test  = cross_val_score(g3o_model, x10000o_test, y10000o_test, scoring='f1', cv=10)\n",
    "info_train = 'Train F1 Score: {:.4f} %'.format(f1_train.mean())\n",
    "info_test  = 'Test F1 Score:  {:.4f} %'.format(f1_test.mean())\n",
    "\n",
    "print(info_train)\n",
    "print(info_test)"
   ]
  },
  {
   "cell_type": "code",
   "execution_count": 94,
   "id": "653a8ba7",
   "metadata": {},
   "outputs": [
    {
     "name": "stdout",
     "output_type": "stream",
     "text": [
      "Tree depth and number of leaves: 2, 4\n"
     ]
    },
    {
     "data": {
      "image/png": "[encoded data removed]",
      "text/plain": [
       "<Figure size 432x288 with 1 Axes>"
      ]
     },
     "metadata": {
      "needs_background": "light"
     },
     "output_type": "display_data"
    }
   ],
   "source": [
    "print('Tree depth and number of leaves: {}, {}'.format(g3o_model.get_depth(), g3o_model.get_n_leaves()))\n",
    "\n",
    "imp = g3o_model.feature_importance()\n",
    "features = list(data100_1)[0:-1]\n",
    "sorted(zip(imp, features), reverse=True)\n",
    "ind = np.argsort(imp)\n",
    "plt.title('Feature Importances')\n",
    "plt.barh(range(len(ind)), imp[ind], color='g', align='center')\n",
    "plt.yticks(range(len(ind)), [features[i] for i in ind])\n",
    "plt.xlabel('Relative Importance')\n",
    "plt.show()"
   ]
  },
  {
   "cell_type": "markdown",
   "id": "1199cf45",
   "metadata": {},
   "source": [
    "#### SMOTE"
   ]
  },
  {
   "cell_type": "code",
   "execution_count": 95,
   "id": "18c92e59",
   "metadata": {},
   "outputs": [
    {
     "name": "stdout",
     "output_type": "stream",
     "text": [
      "Train F1 Score: 0.9849 %\n",
      "Test F1 Score:  0.9743 %\n"
     ]
    }
   ],
   "source": [
    "f1_train = cross_val_score(g3_model, x10000_train, y10000_train, scoring='f1', cv=50)\n",
    "f1_test  = cross_val_score(g3_model, x10000_test, y10000_test, scoring='f1', cv=50)\n",
    "info_train = 'Train F1 Score: {:.4f} %'.format(f1_train.mean())\n",
    "info_test  = 'Test F1 Score:  {:.4f} %'.format(f1_test.mean())\n",
    "\n",
    "print(info_train)\n",
    "print(info_test)"
   ]
  },
  {
   "cell_type": "code",
   "execution_count": 96,
   "id": "cc5194b2",
   "metadata": {},
   "outputs": [
    {
     "name": "stdout",
     "output_type": "stream",
     "text": [
      "Tree depth and number of leaves: 8, 24\n"
     ]
    },
    {
     "data": {
      "image/png": "[encoded data removed]",
      "text/plain": [
       "<Figure size 432x288 with 1 Axes>"
      ]
     },
     "metadata": {
      "needs_background": "light"
     },
     "output_type": "display_data"
    }
   ],
   "source": [
    "print('Tree depth and number of leaves: {}, {}'.format(g3_model.get_depth(), g3_model.get_n_leaves()))\n",
    "\n",
    "imp = g3_model.feature_importance()\n",
    "features = list(data100_1)[0:-1]\n",
    "sorted(zip(imp, features), reverse=True)\n",
    "ind = np.argsort(imp)\n",
    "plt.title('Feature Importances')\n",
    "plt.barh(range(len(ind)), imp[ind], color='g', align='center')\n",
    "plt.yticks(range(len(ind)), [features[i] for i in ind])\n",
    "plt.xlabel('Relative Importance')\n",
    "plt.show()"
   ]
  },
  {
   "cell_type": "markdown",
   "id": "c610b2e9",
   "metadata": {},
   "source": [
    "### 重複訓練100次"
   ]
  },
  {
   "cell_type": "markdown",
   "id": "b23adaa0",
   "metadata": {},
   "source": [
    "#### 原始"
   ]
  },
  {
   "cell_type": "code",
   "execution_count": 97,
   "id": "59eb08e8",
   "metadata": {},
   "outputs": [
    {
     "name": "stdout",
     "output_type": "stream",
     "text": [
      "Train matrix: \n",
      "(7986.36, 23.6, 12.75, 57.29)\n",
      "Test matrix: \n",
      "(1996.7, 7.13, 4.19, 11.98)\n",
      "\n",
      "       Score    y=0(多)    y=1(少)\n",
      "0  precision  0.996442  0.740878\n",
      "1     recall  0.997906  0.626897\n",
      "2   f1-score  0.997173  0.679138\n",
      "Wall time: 5.96 s\n"
     ]
    }
   ],
   "source": [
    "%%time\n",
    "tn_train, fp_train, fn_train, tp_train = 0, 0, 0, 0\n",
    "tn_test, fp_test, fn_test, tp_test = 0, 0, 0, 0\n",
    "imp = 0\n",
    "\n",
    "for i in range(0,100):\n",
    "    x10000o_train2, x10000o_test2, y10000o_train2, y10000o_test2 = train_test_split(x10000, y10000, test_size=0.2)  \n",
    "    g3o_model.fit(x10000o_train2, y10000o_train2)\n",
    "    y10000_pred_train = g3o_model.predict(x10000o_train2)\n",
    "    y10000_pred_test = g3o_model.predict(x10000o_test2)\n",
    "          \n",
    "    tp1, fn1, fp1, tn1 = confusion_matrix(y10000o_train2, y10000_pred_train).ravel()\n",
    "    tp2, fn2, fp2, tn2 = confusion_matrix(y10000o_test2, y10000_pred_test).ravel() \n",
    "    \n",
    "    tn_train = tn1 + tn_train\n",
    "    fp_train = fp1 + fp_train\n",
    "    fn_train = fn1 + fn_train\n",
    "    tp_train = tp1 + tp_train\n",
    "    \n",
    "    tn_test = tn2 + tn_test\n",
    "    fp_test = fp2 + fp_test\n",
    "    fn_test = fn2 + fn_test\n",
    "    tp_test = tp2 + tp_test\n",
    "    \n",
    "    imp2 = g3o_model.feature_importance()\n",
    "    imp = imp + imp2\n",
    "\n",
    "print('Train matrix: \\n{}'.format((tp_train/100, fp_train/100, fn_train/100, tn_train/100)))\n",
    "print('Test matrix: \\n{}\\n'.format((tp_test/100, fp_test/100, fn_test/100, tn_test/100)))\n",
    "\n",
    "recall_0 = tp_test/(tp_test+fn_test)\n",
    "precision_0 = tp_test/(tp_test+fp_test)\n",
    "recall_1 = tn_test/(tn_test+fp_test)\n",
    "precision_1 = tn_test/(tn_test+fn_test)\n",
    "\n",
    "score = {\n",
    "    \"Score\" : [\"precision\", \"recall\",  \"f1-score\"],\n",
    "    \"y=0(多)\" : [precision_0, recall_0, 2*((precision_0*recall_0)/(precision_0 + recall_0))],\n",
    "    \"y=1(少)\" : [precision_1, recall_1, 2*((precision_1*recall_1)/(precision_1 + recall_1))]\n",
    "}\n",
    "sc = pd.DataFrame(score)\n",
    "print(sc)"
   ]
  },
  {
   "cell_type": "code",
   "execution_count": 98,
   "id": "e8f636c0",
   "metadata": {},
   "outputs": [
    {
     "data": {
      "image/png": "[encoded data removed]",
      "text/plain": [
       "<Figure size 432x288 with 1 Axes>"
      ]
     },
     "metadata": {
      "needs_background": "light"
     },
     "output_type": "display_data"
    }
   ],
   "source": [
    "features = list(data100_1)[0:-1]\n",
    "sorted(zip(imp/100, features), reverse=True)\n",
    "ind = np.argsort(imp/100)\n",
    "\n",
    "plt.title('Feature Importances')\n",
    "plt.barh(range(len(ind)), (imp/100)[ind], color='g', align='center')\n",
    "plt.yticks(range(len(ind)), [features[i] for i in ind])\n",
    "plt.xlabel('Relative Importance')\n",
    "plt.show()"
   ]
  },
  {
   "cell_type": "markdown",
   "id": "00d0efbc",
   "metadata": {},
   "source": [
    "#### SMOTE"
   ]
  },
  {
   "cell_type": "code",
   "execution_count": 99,
   "id": "ac06875f",
   "metadata": {},
   "outputs": [
    {
     "name": "stdout",
     "output_type": "stream",
     "text": [
      "Train matrix: \n",
      "(7799.61, 25.36, 202.23, 7972.8)\n",
      "Test matrix: \n",
      "(1938.63, 11.11, 59.53, 1990.73)\n",
      "\n",
      "       Score    y=0(多)    y=1(少)\n",
      "0  precision  0.994302  0.970965\n",
      "1     recall  0.970208  0.994450\n",
      "2   f1-score  0.982107  0.982567\n",
      "Wall time: 17.9 s\n"
     ]
    }
   ],
   "source": [
    "%%time\n",
    "tn_train, fp_train, fn_train, tp_train = 0, 0, 0, 0\n",
    "tn_test, fp_test, fn_test, tp_test = 0, 0, 0, 0\n",
    "imp = 0\n",
    "\n",
    "for i in range(0,100):\n",
    "    x10000_train2, x10000_test2, y10000_train2, y10000_test2 = train_test_split(x10000_sm, y10000_sm, test_size=0.2)  \n",
    "    g3_model.fit(x10000_train2, y10000_train2)\n",
    "    y10000_pred_train = g3_model.predict(x10000_train2)\n",
    "    y10000_pred_test = g3_model.predict(x10000_test2)\n",
    "          \n",
    "    tp1, fn1, fp1, tn1 = confusion_matrix(y10000_train2, y10000_pred_train).ravel()\n",
    "    tp2, fn2, fp2, tn2 = confusion_matrix(y10000_test2, y10000_pred_test).ravel() \n",
    "    \n",
    "    tn_train = tn1 + tn_train\n",
    "    fp_train = fp1 + fp_train\n",
    "    fn_train = fn1 + fn_train\n",
    "    tp_train = tp1 + tp_train\n",
    "    \n",
    "    tn_test = tn2 + tn_test\n",
    "    fp_test = fp2 + fp_test\n",
    "    fn_test = fn2 + fn_test\n",
    "    tp_test = tp2 + tp_test\n",
    "    \n",
    "    imp2 = g3_model.feature_importance()\n",
    "    imp = imp + imp2\n",
    "\n",
    "print('Train matrix: \\n{}'.format((tp_train/100, fp_train/100, fn_train/100, tn_train/100)))\n",
    "print('Test matrix: \\n{}\\n'.format((tp_test/100, fp_test/100, fn_test/100, tn_test/100)))\n",
    "\n",
    "recall_0 = tp_test/(tp_test+fn_test)\n",
    "precision_0 = tp_test/(tp_test+fp_test)\n",
    "recall_1 = tn_test/(tn_test+fp_test)\n",
    "precision_1 = tn_test/(tn_test+fn_test)\n",
    "\n",
    "score = {\n",
    "    \"Score\" : [\"precision\", \"recall\",  \"f1-score\"],\n",
    "    \"y=0(多)\" : [precision_0, recall_0, 2*((precision_0*recall_0)/(precision_0 + recall_0))],\n",
    "    \"y=1(少)\" : [precision_1, recall_1, 2*((precision_1*recall_1)/(precision_1 + recall_1))]\n",
    "}\n",
    "sc = pd.DataFrame(score)\n",
    "print(sc)"
   ]
  },
  {
   "cell_type": "code",
   "execution_count": 100,
   "id": "2a157b40",
   "metadata": {},
   "outputs": [
    {
     "data": {
      "image/png": "[encoded data removed]",
      "text/plain": [
       "<Figure size 432x288 with 1 Axes>"
      ]
     },
     "metadata": {
      "needs_background": "light"
     },
     "output_type": "display_data"
    }
   ],
   "source": [
    "features = list(data100_1)[0:-1]\n",
    "sorted(zip(imp/100, features), reverse=True)\n",
    "ind = np.argsort(imp/100)\n",
    "\n",
    "plt.title('Feature Importances')\n",
    "plt.barh(range(len(ind)), (imp/100)[ind], color='g', align='center')\n",
    "plt.yticks(range(len(ind)), [features[i] for i in ind])\n",
    "plt.xlabel('Relative Importance')\n",
    "plt.show()"
   ]
  },
  {
   "cell_type": "markdown",
   "id": "70de45f7",
   "metadata": {},
   "source": [
    "### 單次參考訓練數值"
   ]
  },
  {
   "cell_type": "markdown",
   "id": "6515d026",
   "metadata": {},
   "source": [
    "#### 原始"
   ]
  },
  {
   "cell_type": "code",
   "execution_count": 101,
   "id": "80c6e3a0",
   "metadata": {},
   "outputs": [
    {
     "name": "stdout",
     "output_type": "stream",
     "text": [
      "Wall time: 55 ms\n",
      "Train matrix: \n",
      "[[7986   12]\n",
      " [  24   58]]\n",
      "Train matrix: \n",
      "[[1999    3]\n",
      " [   8   10]]\n"
     ]
    }
   ],
   "source": [
    "%time g3o_model.fit(x10000o_train, y10000o_train)\n",
    "y10000_pred_train = g3o_model.predict(x10000o_train)\n",
    "y10000_pred_test = g3o_model.predict(x10000o_test)\n",
    "\n",
    "print('Train matrix: \\n{}'.format(confusion_matrix(y10000o_train, y10000_pred_train)))\n",
    "print('Train matrix: \\n{}'.format(confusion_matrix(y10000o_test, y10000_pred_test)))"
   ]
  },
  {
   "cell_type": "code",
   "execution_count": 103,
   "id": "9e7245e9",
   "metadata": {},
   "outputs": [
    {
     "name": "stdout",
     "output_type": "stream",
     "text": [
      "              precision    recall  f1-score   support\n",
      "\n",
      "      y=0(多)       1.00      1.00      1.00      2002\n",
      "      y=1(少)       0.77      0.56      0.65        18\n",
      "\n",
      "    accuracy                           0.99      2020\n",
      "   macro avg       0.88      0.78      0.82      2020\n",
      "weighted avg       0.99      0.99      0.99      2020\n",
      "\n"
     ]
    }
   ],
   "source": [
    "class_name = ['y=0(多)','y=1(少)']\n",
    "print(classification_report(y10000o_test, y10000_pred_test, target_names = class_name))"
   ]
  },
  {
   "cell_type": "markdown",
   "id": "98c1086f",
   "metadata": {},
   "source": [
    "#### SMOTE"
   ]
  },
  {
   "cell_type": "code",
   "execution_count": 104,
   "id": "f85a644f",
   "metadata": {},
   "outputs": [
    {
     "name": "stdout",
     "output_type": "stream",
     "text": [
      "Wall time: 180 ms\n",
      "Train matrix: \n",
      "[[7773  182]\n",
      " [  20 8025]]\n",
      "Train matrix: \n",
      "[[1990   55]\n",
      " [  12 1943]]\n"
     ]
    }
   ],
   "source": [
    "%time g3_model.fit(x10000_train, y10000_train)\n",
    "y10000_pred_train = g3_model.predict(x10000_train)\n",
    "y10000_pred_test = g3_model.predict(x10000_test)\n",
    "\n",
    "print('Train matrix: \\n{}'.format(confusion_matrix(y10000_train, y10000_pred_train)))\n",
    "print('Train matrix: \\n{}'.format(confusion_matrix(y10000_test, y10000_pred_test)))"
   ]
  },
  {
   "cell_type": "code",
   "execution_count": 105,
   "id": "5ab77c50",
   "metadata": {},
   "outputs": [
    {
     "name": "stdout",
     "output_type": "stream",
     "text": [
      "              precision    recall  f1-score   support\n",
      "\n",
      "      y=0(多)       0.99      0.97      0.98      2045\n",
      "      y=1(少)       0.97      0.99      0.98      1955\n",
      "\n",
      "    accuracy                           0.98      4000\n",
      "   macro avg       0.98      0.98      0.98      4000\n",
      "weighted avg       0.98      0.98      0.98      4000\n",
      "\n"
     ]
    }
   ],
   "source": [
    "class_name = ['y=0(多)','y=1(少)']\n",
    "print(classification_report(y10000_test, y10000_pred_test, target_names = class_name))"
   ]
  },
  {
   "cell_type": "markdown",
   "id": "4e1e0690",
   "metadata": {},
   "source": [
    "## DT "
   ]
  },
  {
   "cell_type": "markdown",
   "id": "f610f766",
   "metadata": {},
   "source": [
    "### 找參數"
   ]
  },
  {
   "cell_type": "markdown",
   "id": "d3f325f0",
   "metadata": {},
   "source": [
    "#### 原始"
   ]
  },
  {
   "cell_type": "code",
   "execution_count": 106,
   "id": "ddd4a92a",
   "metadata": {},
   "outputs": [
    {
     "data": {
      "text/plain": [
       "{'criterion': 'gini', 'max_depth': 3}"
      ]
     },
     "execution_count": 106,
     "metadata": {},
     "output_type": "execute_result"
    }
   ],
   "source": [
    "param_distribs = {\n",
    "    'criterion': ['gini', 'entropy'],\n",
    "    'max_depth': randint(low=2, high=15)\n",
    "}\n",
    "\n",
    "dt_cf = DecisionTreeClassifier(random_state=1)\n",
    "dt_search = RandomizedSearchCV(dt_cf, param_distributions=param_distribs, \n",
    "                                n_iter=100, cv=50, scoring='f1', random_state=1)\n",
    "dt_search.fit(x10000o_train, y10000o_train)\n",
    "\n",
    "d3o_model = dt_search.best_estimator_\n",
    "dt_search.best_params_"
   ]
  },
  {
   "cell_type": "markdown",
   "id": "d7f2819f",
   "metadata": {},
   "source": [
    "#### SMOTE"
   ]
  },
  {
   "cell_type": "code",
   "execution_count": 107,
   "id": "177eaadc",
   "metadata": {},
   "outputs": [
    {
     "data": {
      "text/plain": [
       "{'criterion': 'entropy', 'max_depth': 14}"
      ]
     },
     "execution_count": 107,
     "metadata": {},
     "output_type": "execute_result"
    }
   ],
   "source": [
    "param_distribs = {\n",
    "    'criterion': ['gini', 'entropy'],\n",
    "    'max_depth': randint(low=2, high=15)\n",
    "}\n",
    "\n",
    "dt_cf = DecisionTreeClassifier(random_state=1)\n",
    "dt_search = RandomizedSearchCV(dt_cf, param_distributions=param_distribs, \n",
    "                           \n",
    "                               n_iter=100, cv=50, scoring='f1', random_state=1)\n",
    "dt_search.fit(x10000_train, y10000_train)\n",
    "\n",
    "d3_model = dt_search.best_estimator_\n",
    "dt_search.best_params_"
   ]
  },
  {
   "cell_type": "markdown",
   "id": "c846da4a",
   "metadata": {},
   "source": [
    "### 訓練"
   ]
  },
  {
   "cell_type": "markdown",
   "id": "5ab98ac7",
   "metadata": {},
   "source": [
    "#### 原始"
   ]
  },
  {
   "cell_type": "code",
   "execution_count": 110,
   "id": "4c7ee3a6",
   "metadata": {},
   "outputs": [
    {
     "name": "stdout",
     "output_type": "stream",
     "text": [
      "Train F1 Score: 0.6602 %\n",
      "Test F1 Score:  0.6500 %\n"
     ]
    }
   ],
   "source": [
    "f1_train = cross_val_score(d3o_model, x10000o_train, y10000o_train, scoring='f1', cv=10)\n",
    "f1_test  = cross_val_score(d3o_model, x10000o_test, y10000o_test, scoring='f1', cv=10)\n",
    "info_train = 'Train F1 Score: {:.4f} %'.format(f1_train.mean())\n",
    "info_test  = 'Test F1 Score:  {:.4f} %'.format(f1_test.mean())\n",
    "\n",
    "print(info_train)\n",
    "print(info_test)"
   ]
  },
  {
   "cell_type": "code",
   "execution_count": 111,
   "id": "41e62a86",
   "metadata": {},
   "outputs": [
    {
     "name": "stdout",
     "output_type": "stream",
     "text": [
      "Tree depth and number of leaves: 3, 8\n"
     ]
    },
    {
     "data": {
      "image/png": "[encoded data removed]",
      "text/plain": [
       "<Figure size 432x288 with 1 Axes>"
      ]
     },
     "metadata": {
      "needs_background": "light"
     },
     "output_type": "display_data"
    }
   ],
   "source": [
    "print('Tree depth and number of leaves: {}, {}'.format(d3o_model.get_depth(), d3o_model.get_n_leaves()))\n",
    "\n",
    "imp = d3o_model.feature_importances_\n",
    "features = list(data1000_0)[0:-1]\n",
    "sorted(zip(imp, features), reverse=True)\n",
    "ind = np.argsort(imp)\n",
    "plt.title('Feature Importances')\n",
    "plt.barh(range(len(ind)), imp[ind], color='g', align='center')\n",
    "plt.yticks(range(len(ind)), [features[i] for i in ind])\n",
    "plt.xlabel('Relative Importance')\n",
    "plt.show()"
   ]
  },
  {
   "cell_type": "markdown",
   "id": "cd7dad71",
   "metadata": {},
   "source": [
    "#### SMOTE"
   ]
  },
  {
   "cell_type": "code",
   "execution_count": 112,
   "id": "7ed5382d",
   "metadata": {},
   "outputs": [
    {
     "name": "stdout",
     "output_type": "stream",
     "text": [
      "Train F1 Score: 0.9928 %\n",
      "Test F1 Score:  0.9797 %\n"
     ]
    }
   ],
   "source": [
    "f1_train = cross_val_score(d3_model, x10000_train, y10000_train, scoring='f1', cv=50)\n",
    "f1_test  = cross_val_score(d3_model, x10000_test, y10000_test, scoring='f1', cv=50)\n",
    "info_train = 'Train F1 Score: {:.4f} %'.format(f1_train.mean())\n",
    "info_test  = 'Test F1 Score:  {:.4f} %'.format(f1_test.mean())\n",
    "\n",
    "print(info_train)\n",
    "print(info_test)"
   ]
  },
  {
   "cell_type": "code",
   "execution_count": 113,
   "id": "b7c78abe",
   "metadata": {},
   "outputs": [
    {
     "name": "stdout",
     "output_type": "stream",
     "text": [
      "Tree depth and number of leaves: 14, 107\n"
     ]
    },
    {
     "data": {
      "image/png": "[encoded data removed]",
      "text/plain": [
       "<Figure size 432x288 with 1 Axes>"
      ]
     },
     "metadata": {
      "needs_background": "light"
     },
     "output_type": "display_data"
    }
   ],
   "source": [
    "print('Tree depth and number of leaves: {}, {}'.format(d3_model.get_depth(), d3_model.get_n_leaves()))\n",
    "\n",
    "imp = d3_model.feature_importances_\n",
    "features = list(data1000_0)[0:-1]\n",
    "sorted(zip(imp, features), reverse=True)\n",
    "ind = np.argsort(imp)\n",
    "plt.title('Feature Importances')\n",
    "plt.barh(range(len(ind)), imp[ind], color='g', align='center')\n",
    "plt.yticks(range(len(ind)), [features[i] for i in ind])\n",
    "plt.xlabel('Relative Importance')\n",
    "plt.show()"
   ]
  },
  {
   "cell_type": "markdown",
   "id": "5702d6b7",
   "metadata": {},
   "source": [
    "### 重複訓練100次，進行平均"
   ]
  },
  {
   "cell_type": "markdown",
   "id": "07b433c5",
   "metadata": {},
   "source": [
    "#### 原始"
   ]
  },
  {
   "cell_type": "code",
   "execution_count": 114,
   "id": "b2e112ad",
   "metadata": {},
   "outputs": [
    {
     "name": "stdout",
     "output_type": "stream",
     "text": [
      "Train matrix: \n",
      "(7989.78, 18.16, 10.2, 61.86)\n",
      "Test matrix: \n",
      "(1995.88, 6.93, 4.14, 13.05)\n",
      "\n",
      "       Score    y=0(多)    y=1(少)\n",
      "0  precision  0.996540  0.759162\n",
      "1     recall  0.997930  0.653153\n",
      "2   f1-score  0.997234  0.702179\n",
      "Wall time: 2.89 s\n"
     ]
    }
   ],
   "source": [
    "%%time\n",
    "tn_train, fp_train, fn_train, tp_train = 0, 0, 0, 0\n",
    "tn_test, fp_test, fn_test, tp_test = 0, 0, 0, 0\n",
    "imp = 0\n",
    "\n",
    "for i in range(0,100):\n",
    "    x10000o_train2, x10000o_test2, y10000o_train2, y10000o_test2 = train_test_split(x10000, y10000, test_size=0.2)  \n",
    "    d3o_model.fit(x10000o_train2, y10000o_train2)\n",
    "    y10000_pred_train = d3o_model.predict(x10000o_train2)\n",
    "    y10000_pred_test = d3o_model.predict(x10000o_test2)\n",
    "          \n",
    "    tp1, fn1, fp1, tn1 = confusion_matrix(y10000o_train2, y10000_pred_train).ravel()\n",
    "    tp2, fn2, fp2, tn2 = confusion_matrix(y10000o_test2, y10000_pred_test).ravel() \n",
    "    \n",
    "    tn_train = tn1 + tn_train\n",
    "    fp_train = fp1 + fp_train\n",
    "    fn_train = fn1 + fn_train\n",
    "    tp_train = tp1 + tp_train\n",
    "    \n",
    "    tn_test = tn2 + tn_test\n",
    "    fp_test = fp2 + fp_test\n",
    "    fn_test = fn2 + fn_test\n",
    "    tp_test = tp2 + tp_test\n",
    "    \n",
    "    imp2 = d3o_model.feature_importances_\n",
    "    imp = imp + imp2\n",
    "\n",
    "print('Train matrix: \\n{}'.format((tp_train/100, fp_train/100, fn_train/100, tn_train/100)))\n",
    "print('Test matrix: \\n{}\\n'.format((tp_test/100, fp_test/100, fn_test/100, tn_test/100)))\n",
    "\n",
    "recall_0 = tp_test/(tp_test+fn_test)\n",
    "precision_0 = tp_test/(tp_test+fp_test)\n",
    "recall_1 = tn_test/(tn_test+fp_test)\n",
    "precision_1 = tn_test/(tn_test+fn_test)\n",
    "\n",
    "score = {\n",
    "    \"Score\" : [\"precision\", \"recall\",  \"f1-score\"],\n",
    "    \"y=0(多)\" : [precision_0, recall_0, 2*((precision_0*recall_0)/(precision_0 + recall_0))],\n",
    "    \"y=1(少)\" : [precision_1, recall_1, 2*((precision_1*recall_1)/(precision_1 + recall_1))]\n",
    "}\n",
    "sc = pd.DataFrame(score)\n",
    "print(sc)"
   ]
  },
  {
   "cell_type": "code",
   "execution_count": 115,
   "id": "7e959ded",
   "metadata": {},
   "outputs": [
    {
     "data": {
      "image/png": "[encoded data removed]",
      "text/plain": [
       "<Figure size 432x288 with 1 Axes>"
      ]
     },
     "metadata": {
      "needs_background": "light"
     },
     "output_type": "display_data"
    }
   ],
   "source": [
    "features = list(data100_1)[0:-1]\n",
    "sorted(zip(imp/100, features), reverse=True)\n",
    "ind = np.argsort(imp/100)\n",
    "\n",
    "plt.title('Feature Importances')\n",
    "plt.barh(range(len(ind)), (imp/100)[ind], color='g', align='center')\n",
    "plt.yticks(range(len(ind)), [features[i] for i in ind])\n",
    "plt.xlabel('Relative Importance')\n",
    "plt.show()"
   ]
  },
  {
   "cell_type": "markdown",
   "id": "fe1028d7",
   "metadata": {},
   "source": [
    "#### SMOTE"
   ]
  },
  {
   "cell_type": "code",
   "execution_count": 116,
   "id": "678f6eee",
   "metadata": {},
   "outputs": [
    {
     "name": "stdout",
     "output_type": "stream",
     "text": [
      "Train matrix: \n",
      "(7987.76, 0.53, 9.66, 8002.05)\n",
      "Test matrix: \n",
      "(1978.08, 8.52, 24.5, 1988.9)\n",
      "\n",
      "       Score    y=0(多)    y=1(少)\n",
      "0  precision  0.995711  0.987832\n",
      "1     recall  0.987766  0.995734\n",
      "2   f1-score  0.991723  0.991767\n",
      "Wall time: 11.9 s\n"
     ]
    }
   ],
   "source": [
    "%%time\n",
    "tn_train, fp_train, fn_train, tp_train = 0, 0, 0, 0\n",
    "tn_test, fp_test, fn_test, tp_test = 0, 0, 0, 0\n",
    "imp = 0\n",
    "\n",
    "for i in range(0,100):\n",
    "    x10000_train2, x10000_test2, y10000_train2, y10000_test2 = train_test_split(x10000_sm, y10000_sm, test_size=0.2)  \n",
    "    d3_model.fit(x10000_train2, y10000_train2)\n",
    "    y10000_pred_train = d3_model.predict(x10000_train2)\n",
    "    y10000_pred_test = d3_model.predict(x10000_test2)\n",
    "          \n",
    "    tp1, fn1, fp1, tn1 = confusion_matrix(y10000_train2, y10000_pred_train).ravel()\n",
    "    tp2, fn2, fp2, tn2 = confusion_matrix(y10000_test2, y10000_pred_test).ravel() \n",
    "    \n",
    "    tn_train = tn1 + tn_train\n",
    "    fp_train = fp1 + fp_train\n",
    "    fn_train = fn1 + fn_train\n",
    "    tp_train = tp1 + tp_train\n",
    "    \n",
    "    tn_test = tn2 + tn_test\n",
    "    fp_test = fp2 + fp_test\n",
    "    fn_test = fn2 + fn_test\n",
    "    tp_test = tp2 + tp_test\n",
    "    \n",
    "    imp2 = d3_model.feature_importances_\n",
    "    imp = imp + imp2\n",
    "\n",
    "print('Train matrix: \\n{}'.format((tp_train/100, fp_train/100, fn_train/100, tn_train/100)))\n",
    "print('Test matrix: \\n{}\\n'.format((tp_test/100, fp_test/100, fn_test/100, tn_test/100)))\n",
    "\n",
    "recall_0 = tp_test/(tp_test+fn_test)\n",
    "precision_0 = tp_test/(tp_test+fp_test)\n",
    "recall_1 = tn_test/(tn_test+fp_test)\n",
    "precision_1 = tn_test/(tn_test+fn_test)\n",
    "\n",
    "score = {\n",
    "    \"Score\" : [\"precision\", \"recall\",  \"f1-score\"],\n",
    "    \"y=0(多)\" : [precision_0, recall_0, 2*((precision_0*recall_0)/(precision_0 + recall_0))],\n",
    "    \"y=1(少)\" : [precision_1, recall_1, 2*((precision_1*recall_1)/(precision_1 + recall_1))]\n",
    "}\n",
    "sc = pd.DataFrame(score)\n",
    "print(sc)"
   ]
  },
  {
   "cell_type": "code",
   "execution_count": 117,
   "id": "59a79647",
   "metadata": {},
   "outputs": [
    {
     "data": {
      "image/png": "[encoded data removed]",
      "text/plain": [
       "<Figure size 432x288 with 1 Axes>"
      ]
     },
     "metadata": {
      "needs_background": "light"
     },
     "output_type": "display_data"
    }
   ],
   "source": [
    "features = list(data100_1)[0:-1]\n",
    "sorted(zip(imp/100, features), reverse=True)\n",
    "ind = np.argsort(imp/100)\n",
    "\n",
    "plt.title('Feature Importances')\n",
    "plt.barh(range(len(ind)), (imp/100)[ind], color='g', align='center')\n",
    "plt.yticks(range(len(ind)), [features[i] for i in ind])\n",
    "plt.xlabel('Relative Importance')\n",
    "plt.show()"
   ]
  },
  {
   "cell_type": "markdown",
   "id": "949776da",
   "metadata": {},
   "source": [
    "### 單次參考訓練數值"
   ]
  },
  {
   "cell_type": "markdown",
   "id": "5a832f98",
   "metadata": {},
   "source": [
    "#### 原始"
   ]
  },
  {
   "cell_type": "code",
   "execution_count": 118,
   "id": "e076dcb3",
   "metadata": {},
   "outputs": [
    {
     "name": "stdout",
     "output_type": "stream",
     "text": [
      "Wall time: 22 ms\n",
      "Train matrix: \n",
      "[[7987   11]\n",
      " [  20   62]]\n",
      "Train matrix: \n",
      "[[2000    2]\n",
      " [   5   13]]\n"
     ]
    }
   ],
   "source": [
    "%time d3o_model.fit(x10000o_train, y10000o_train)\n",
    "y10000_pred_train = d3o_model.predict(x10000o_train)\n",
    "y10000_pred_test = d3o_model.predict(x10000o_test)\n",
    "\n",
    "print('Train matrix: \\n{}'.format(confusion_matrix(y10000o_train, y10000_pred_train)))\n",
    "print('Train matrix: \\n{}'.format(confusion_matrix(y10000o_test, y10000_pred_test)))"
   ]
  },
  {
   "cell_type": "code",
   "execution_count": 120,
   "id": "616afcac",
   "metadata": {},
   "outputs": [
    {
     "name": "stdout",
     "output_type": "stream",
     "text": [
      "              precision    recall  f1-score   support\n",
      "\n",
      "      y=0(多)       1.00      1.00      1.00      2002\n",
      "      y=1(少)       0.87      0.72      0.79        18\n",
      "\n",
      "    accuracy                           1.00      2020\n",
      "   macro avg       0.93      0.86      0.89      2020\n",
      "weighted avg       1.00      1.00      1.00      2020\n",
      "\n"
     ]
    }
   ],
   "source": [
    "class_name = ['y=0(多)','y=1(少)']\n",
    "print(classification_report(y10000o_test, y10000_pred_test, target_names = class_name))"
   ]
  },
  {
   "cell_type": "markdown",
   "id": "962e3ab4",
   "metadata": {},
   "source": [
    "#### SMOTE"
   ]
  },
  {
   "cell_type": "code",
   "execution_count": 121,
   "id": "58cb388e",
   "metadata": {},
   "outputs": [
    {
     "name": "stdout",
     "output_type": "stream",
     "text": [
      "Wall time: 105 ms\n",
      "Train matrix: \n",
      "[[7948    7]\n",
      " [   1 8044]]\n",
      "Train matrix: \n",
      "[[2015   30]\n",
      " [   9 1946]]\n"
     ]
    }
   ],
   "source": [
    "%time d3_model.fit(x10000_train, y10000_train)\n",
    "y10000_pred_train = d3_model.predict(x10000_train)\n",
    "y10000_pred_test = d3_model.predict(x10000_test)\n",
    "\n",
    "print('Train matrix: \\n{}'.format(confusion_matrix(y10000_train, y10000_pred_train)))\n",
    "print('Train matrix: \\n{}'.format(confusion_matrix(y10000_test, y10000_pred_test)))"
   ]
  },
  {
   "cell_type": "code",
   "execution_count": 122,
   "id": "ede52907",
   "metadata": {},
   "outputs": [
    {
     "name": "stdout",
     "output_type": "stream",
     "text": [
      "              precision    recall  f1-score   support\n",
      "\n",
      "      y=0(多)       1.00      0.99      0.99      2045\n",
      "      y=1(少)       0.98      1.00      0.99      1955\n",
      "\n",
      "    accuracy                           0.99      4000\n",
      "   macro avg       0.99      0.99      0.99      4000\n",
      "weighted avg       0.99      0.99      0.99      4000\n",
      "\n"
     ]
    }
   ],
   "source": [
    "class_name = ['y=0(多)','y=1(少)']\n",
    "print(classification_report(y10000_test, y10000_pred_test, target_names = class_name))"
   ]
  },
  {
   "cell_type": "markdown",
   "id": "44868961",
   "metadata": {},
   "source": [
    "## RF"
   ]
  },
  {
   "cell_type": "markdown",
   "id": "295bc61b",
   "metadata": {},
   "source": [
    "### 挑參數"
   ]
  },
  {
   "cell_type": "markdown",
   "id": "56d7a244",
   "metadata": {},
   "source": [
    "#### 原始"
   ]
  },
  {
   "cell_type": "code",
   "execution_count": 108,
   "id": "68ec5781",
   "metadata": {},
   "outputs": [
    {
     "data": {
      "text/plain": [
       "{'criterion': 'gini', 'n_estimators': 77}"
      ]
     },
     "execution_count": 108,
     "metadata": {},
     "output_type": "execute_result"
    }
   ],
   "source": [
    "param_distribs = {\n",
    "    'n_estimators': randint(low=1, high=200),\n",
    "    'criterion': ['gini', 'entropy']\n",
    "}\n",
    "\n",
    "rnd_cf = RandomForestClassifier(random_state=1)\n",
    "rnd_search = RandomizedSearchCV(rnd_cf, param_distributions=param_distribs, \n",
    "                                n_iter=100, cv=50, scoring='f1', random_state=1)\n",
    "rnd_search.fit(x10000o_train, y10000o_train)\n",
    "\n",
    "rf3o_model = rnd_search.best_estimator_\n",
    "rnd_search.best_params_"
   ]
  },
  {
   "cell_type": "markdown",
   "id": "11ef4f95",
   "metadata": {},
   "source": [
    "#### SMOTE"
   ]
  },
  {
   "cell_type": "code",
   "execution_count": 109,
   "id": "7a3f40bd",
   "metadata": {},
   "outputs": [
    {
     "data": {
      "text/plain": [
       "{'criterion': 'gini', 'n_estimators': 97}"
      ]
     },
     "execution_count": 109,
     "metadata": {},
     "output_type": "execute_result"
    }
   ],
   "source": [
    "param_distribs = {\n",
    "    'n_estimators': randint(low=1, high=200),\n",
    "    'criterion': ['gini', 'entropy']\n",
    "}\n",
    "\n",
    "rnd_cf = RandomForestClassifier(random_state=1)\n",
    "rnd_search = RandomizedSearchCV(rnd_cf, param_distributions=param_distribs, \n",
    "                                n_iter=100, cv=50, scoring='f1', random_state=1)\n",
    "rnd_search.fit(x10000_train, y10000_train)\n",
    "\n",
    "rf3_model = rnd_search.best_estimator_\n",
    "rnd_search.best_params_"
   ]
  },
  {
   "cell_type": "markdown",
   "id": "c516db6e",
   "metadata": {},
   "source": [
    "### 訓練"
   ]
  },
  {
   "cell_type": "markdown",
   "id": "d3b3dc02",
   "metadata": {},
   "source": [
    "#### 原始"
   ]
  },
  {
   "cell_type": "code",
   "execution_count": 123,
   "id": "d21f5ef4",
   "metadata": {},
   "outputs": [
    {
     "name": "stdout",
     "output_type": "stream",
     "text": [
      "Train F1 Score: 0.6666 %\n",
      "Test F1 Score:  0.5667 %\n"
     ]
    }
   ],
   "source": [
    "f1_train = cross_val_score(rf3o_model, x10000o_train, y10000o_train, scoring='f1', cv=10)\n",
    "f1_test  = cross_val_score(rf3o_model, x10000o_test, y10000o_test, scoring='f1', cv=10)\n",
    "info_train = 'Train F1 Score: {:.4f} %'.format(f1_train.mean())\n",
    "info_test  = 'Test F1 Score:  {:.4f} %'.format(f1_test.mean())\n",
    "\n",
    "print(info_train)\n",
    "print(info_test)"
   ]
  },
  {
   "cell_type": "code",
   "execution_count": 124,
   "id": "e0d1c5e7",
   "metadata": {},
   "outputs": [
    {
     "data": {
      "image/png": "[encoded data removed]",
      "text/plain": [
       "<Figure size 432x288 with 1 Axes>"
      ]
     },
     "metadata": {
      "needs_background": "light"
     },
     "output_type": "display_data"
    }
   ],
   "source": [
    "imp = rf3o_model.feature_importances_\n",
    "features = list(data1000_0)[0:-1]\n",
    "sorted(zip(imp, features), reverse=True)\n",
    "ind = np.argsort(imp)\n",
    "plt.title('Feature Importances')\n",
    "plt.barh(range(len(ind)), imp[ind], color='g', align='center')\n",
    "plt.yticks(range(len(ind)), [features[i] for i in ind])\n",
    "plt.xlabel('Relative Importance')\n",
    "plt.show()"
   ]
  },
  {
   "cell_type": "markdown",
   "id": "7452703f",
   "metadata": {},
   "source": [
    "#### SMOTE"
   ]
  },
  {
   "cell_type": "code",
   "execution_count": 125,
   "id": "a185d1e1",
   "metadata": {},
   "outputs": [
    {
     "name": "stdout",
     "output_type": "stream",
     "text": [
      "Train F1 Score: 0.9974 %\n",
      "Test F1 Score:  0.9901 %\n"
     ]
    }
   ],
   "source": [
    "f1_train = cross_val_score(rf3_model, x10000_train, y10000_train, scoring='f1', cv=50)\n",
    "f1_test  = cross_val_score(rf3_model, x10000_test, y10000_test, scoring='f1', cv=50)\n",
    "info_train = 'Train F1 Score: {:.4f} %'.format(f1_train.mean())\n",
    "info_test  = 'Test F1 Score:  {:.4f} %'.format(f1_test.mean())\n",
    "\n",
    "print(info_train)\n",
    "print(info_test)"
   ]
  },
  {
   "cell_type": "code",
   "execution_count": 126,
   "id": "ed51d1ce",
   "metadata": {},
   "outputs": [
    {
     "data": {
      "image/png": "[encoded data removed]",
      "text/plain": [
       "<Figure size 432x288 with 1 Axes>"
      ]
     },
     "metadata": {
      "needs_background": "light"
     },
     "output_type": "display_data"
    }
   ],
   "source": [
    "imp = rf3_model.feature_importances_\n",
    "features = list(data100_0)[0:-1]\n",
    "sorted(zip(imp, features), reverse=True)\n",
    "ind = np.argsort(imp)\n",
    "plt.title('Feature Importances')\n",
    "plt.barh(range(len(ind)), imp[ind], color='g', align='center')\n",
    "plt.yticks(range(len(ind)), [features[i] for i in ind])\n",
    "plt.xlabel('Relative Importance')\n",
    "plt.show()"
   ]
  },
  {
   "cell_type": "markdown",
   "id": "3671885d",
   "metadata": {},
   "source": [
    "### 重複訓練100次，進行平均"
   ]
  },
  {
   "cell_type": "markdown",
   "id": "09a4e315",
   "metadata": {},
   "source": [
    "#### 原始"
   ]
  },
  {
   "cell_type": "code",
   "execution_count": 127,
   "id": "8d20985f",
   "metadata": {},
   "outputs": [
    {
     "name": "stdout",
     "output_type": "stream",
     "text": [
      "Train matrix: \n",
      "(7999.43, 0.13, 0.0, 80.44)\n",
      "Test matrix: \n",
      "(1998.34, 7.81, 2.23, 11.62)\n",
      "\n",
      "       Score    y=0(多)    y=1(少)\n",
      "0  precision  0.996107  0.838989\n",
      "1     recall  0.998885  0.598044\n",
      "2   f1-score  0.997494  0.698317\n",
      "Wall time: 1min 18s\n"
     ]
    }
   ],
   "source": [
    "%%time\n",
    "tn_train, fp_train, fn_train, tp_train = 0, 0, 0, 0\n",
    "tn_test, fp_test, fn_test, tp_test = 0, 0, 0, 0\n",
    "imp = 0\n",
    "\n",
    "for i in range(0,100):\n",
    "    x10000o_train2, x10000o_test2, y10000o_train2, y10000o_test2 = train_test_split(x10000, y10000, test_size=0.2)  \n",
    "    rf3o_model.fit(x10000o_train2, y10000o_train2)\n",
    "    y10000_pred_train = rf3o_model.predict(x10000o_train2)\n",
    "    y10000_pred_test = rf3o_model.predict(x10000o_test2)\n",
    "          \n",
    "    tp1, fn1, fp1, tn1 = confusion_matrix(y10000o_train2, y10000_pred_train).ravel()\n",
    "    tp2, fn2, fp2, tn2 = confusion_matrix(y10000o_test2, y10000_pred_test).ravel() \n",
    "    \n",
    "    tn_train = tn1 + tn_train\n",
    "    fp_train = fp1 + fp_train\n",
    "    fn_train = fn1 + fn_train\n",
    "    tp_train = tp1 + tp_train\n",
    "    \n",
    "    tn_test = tn2 + tn_test\n",
    "    fp_test = fp2 + fp_test\n",
    "    fn_test = fn2 + fn_test\n",
    "    tp_test = tp2 + tp_test\n",
    "    \n",
    "    imp2 = rf3o_model.feature_importances_\n",
    "    imp = imp + imp2\n",
    "\n",
    "print('Train matrix: \\n{}'.format((tp_train/100, fp_train/100, fn_train/100, tn_train/100)))\n",
    "print('Test matrix: \\n{}\\n'.format((tp_test/100, fp_test/100, fn_test/100, tn_test/100)))\n",
    "\n",
    "recall_0 = tp_test/(tp_test+fn_test)\n",
    "precision_0 = tp_test/(tp_test+fp_test)\n",
    "recall_1 = tn_test/(tn_test+fp_test)\n",
    "precision_1 = tn_test/(tn_test+fn_test)\n",
    "\n",
    "score = {\n",
    "    \"Score\" : [\"precision\", \"recall\",  \"f1-score\"],\n",
    "    \"y=0(多)\" : [precision_0, recall_0, 2*((precision_0*recall_0)/(precision_0 + recall_0))],\n",
    "    \"y=1(少)\" : [precision_1, recall_1, 2*((precision_1*recall_1)/(precision_1 + recall_1))]\n",
    "}\n",
    "sc = pd.DataFrame(score)\n",
    "print(sc)"
   ]
  },
  {
   "cell_type": "code",
   "execution_count": 128,
   "id": "59a0d82e",
   "metadata": {},
   "outputs": [
    {
     "data": {
      "image/png": "[encoded data removed]",
      "text/plain": [
       "<Figure size 432x288 with 1 Axes>"
      ]
     },
     "metadata": {
      "needs_background": "light"
     },
     "output_type": "display_data"
    }
   ],
   "source": [
    "features = list(data100_1)[0:-1]\n",
    "sorted(zip(imp/100, features), reverse=True)\n",
    "ind = np.argsort(imp/100)\n",
    "\n",
    "plt.title('Feature Importances')\n",
    "plt.barh(range(len(ind)), (imp/100)[ind], color='g', align='center')\n",
    "plt.yticks(range(len(ind)), [features[i] for i in ind])\n",
    "plt.xlabel('Relative Importance')\n",
    "plt.show()\n"
   ]
  },
  {
   "cell_type": "markdown",
   "id": "a5bfce85",
   "metadata": {},
   "source": [
    "#### SMOTE"
   ]
  },
  {
   "cell_type": "code",
   "execution_count": 129,
   "id": "5bcce79c",
   "metadata": {},
   "outputs": [
    {
     "name": "stdout",
     "output_type": "stream",
     "text": [
      "Train matrix: \n",
      "(7998.83, 0.0, 0.0, 8001.17)\n",
      "Test matrix: \n",
      "(1988.53, 0.27, 12.64, 1998.56)\n",
      "\n",
      "       Score    y=0(多)    y=1(少)\n",
      "0  precision  0.999864  0.993715\n",
      "1     recall  0.993684  0.999865\n",
      "2   f1-score  0.996764  0.996781\n",
      "Wall time: 3min 58s\n"
     ]
    }
   ],
   "source": [
    "%%time\n",
    "tn_train, fp_train, fn_train, tp_train = 0, 0, 0, 0\n",
    "tn_test, fp_test, fn_test, tp_test = 0, 0, 0, 0\n",
    "imp = 0\n",
    "\n",
    "for i in range(0,100):\n",
    "    x10000_train2, x10000_test2, y10000_train2, y10000_test2 = train_test_split(x10000_sm, y10000_sm, test_size=0.2)  \n",
    "    rf3_model.fit(x10000_train2, y10000_train2)\n",
    "    y10000_pred_train = rf3_model.predict(x10000_train2)\n",
    "    y10000_pred_test = rf3_model.predict(x10000_test2)\n",
    "          \n",
    "    tp1, fn1, fp1, tn1 = confusion_matrix(y10000_train2, y10000_pred_train).ravel()\n",
    "    tp2, fn2, fp2, tn2 = confusion_matrix(y10000_test2, y10000_pred_test).ravel() \n",
    "    \n",
    "    tn_train = tn1 + tn_train\n",
    "    fp_train = fp1 + fp_train\n",
    "    fn_train = fn1 + fn_train\n",
    "    tp_train = tp1 + tp_train\n",
    "    \n",
    "    tn_test = tn2 + tn_test\n",
    "    fp_test = fp2 + fp_test\n",
    "    fn_test = fn2 + fn_test\n",
    "    tp_test = tp2 + tp_test\n",
    "    \n",
    "    imp2 = rf3_model.feature_importances_\n",
    "    imp = imp + imp2\n",
    "\n",
    "print('Train matrix: \\n{}'.format((tp_train/100, fp_train/100, fn_train/100, tn_train/100)))\n",
    "print('Test matrix: \\n{}\\n'.format((tp_test/100, fp_test/100, fn_test/100, tn_test/100)))\n",
    "\n",
    "recall_0 = tp_test/(tp_test+fn_test)\n",
    "precision_0 = tp_test/(tp_test+fp_test)\n",
    "recall_1 = tn_test/(tn_test+fp_test)\n",
    "precision_1 = tn_test/(tn_test+fn_test)\n",
    "\n",
    "score = {\n",
    "    \"Score\" : [\"precision\", \"recall\",  \"f1-score\"],\n",
    "    \"y=0(多)\" : [precision_0, recall_0, 2*((precision_0*recall_0)/(precision_0 + recall_0))],\n",
    "    \"y=1(少)\" : [precision_1, recall_1, 2*((precision_1*recall_1)/(precision_1 + recall_1))]\n",
    "}\n",
    "sc = pd.DataFrame(score)\n",
    "print(sc)"
   ]
  },
  {
   "cell_type": "code",
   "execution_count": 130,
   "id": "dc2b4a97",
   "metadata": {},
   "outputs": [
    {
     "data": {
      "image/png": "[encoded data removed]",
      "text/plain": [
       "<Figure size 432x288 with 1 Axes>"
      ]
     },
     "metadata": {
      "needs_background": "light"
     },
     "output_type": "display_data"
    }
   ],
   "source": [
    "features = list(data100_1)[0:-1]\n",
    "sorted(zip(imp/100, features), reverse=True)\n",
    "ind = np.argsort(imp/100)\n",
    "\n",
    "plt.title('Feature Importances')\n",
    "plt.barh(range(len(ind)), (imp/100)[ind], color='g', align='center')\n",
    "plt.yticks(range(len(ind)), [features[i] for i in ind])\n",
    "plt.xlabel('Relative Importance')\n",
    "plt.show()"
   ]
  },
  {
   "cell_type": "markdown",
   "id": "c68bf529",
   "metadata": {},
   "source": [
    "#### 單次參考訓練數值"
   ]
  },
  {
   "cell_type": "markdown",
   "id": "aa2bb883",
   "metadata": {},
   "source": [
    "#### 原始"
   ]
  },
  {
   "cell_type": "code",
   "execution_count": 131,
   "id": "f361c5f9",
   "metadata": {},
   "outputs": [
    {
     "name": "stdout",
     "output_type": "stream",
     "text": [
      "Wall time: 766 ms\n",
      "Train matrix: \n",
      "[[7998    0]\n",
      " [   1   81]]\n",
      "Train matrix: \n",
      "[[2002    0]\n",
      " [   7   11]]\n"
     ]
    }
   ],
   "source": [
    "%time rf3o_model.fit(x10000o_train, y10000o_train)\n",
    "y10000_pred_train = rf3o_model.predict(x10000o_train)\n",
    "y10000_pred_test = rf3o_model.predict(x10000o_test)\n",
    "\n",
    "print('Train matrix: \\n{}'.format(confusion_matrix(y10000o_train, y10000_pred_train)))\n",
    "print('Train matrix: \\n{}'.format(confusion_matrix(y10000o_test, y10000_pred_test)))"
   ]
  },
  {
   "cell_type": "code",
   "execution_count": 133,
   "id": "81487f98",
   "metadata": {},
   "outputs": [
    {
     "name": "stdout",
     "output_type": "stream",
     "text": [
      "              precision    recall  f1-score   support\n",
      "\n",
      "      y=0(多)       1.00      1.00      1.00      2002\n",
      "      y=1(少)       1.00      0.61      0.76        18\n",
      "\n",
      "    accuracy                           1.00      2020\n",
      "   macro avg       1.00      0.81      0.88      2020\n",
      "weighted avg       1.00      1.00      1.00      2020\n",
      "\n"
     ]
    }
   ],
   "source": [
    "class_name = ['y=0(多)','y=1(少)']\n",
    "print(classification_report(y10000o_test, y10000_pred_test, target_names = class_name))"
   ]
  },
  {
   "cell_type": "markdown",
   "id": "87c5be67",
   "metadata": {},
   "source": [
    "#### SMOTE"
   ]
  },
  {
   "cell_type": "code",
   "execution_count": 134,
   "id": "cf515e81",
   "metadata": {},
   "outputs": [
    {
     "name": "stdout",
     "output_type": "stream",
     "text": [
      "Wall time: 2.26 s\n",
      "Train matrix: \n",
      "[[7955    0]\n",
      " [   0 8045]]\n",
      "Train matrix: \n",
      "[[2030   15]\n",
      " [   0 1955]]\n"
     ]
    }
   ],
   "source": [
    "%time rf3_model.fit(x10000_train, y10000_train)\n",
    "y10000_pred_train = rf3_model.predict(x10000_train)\n",
    "y10000_pred_test = rf3_model.predict(x10000_test)\n",
    "\n",
    "print('Train matrix: \\n{}'.format(confusion_matrix(y10000_train, y10000_pred_train)))\n",
    "print('Train matrix: \\n{}'.format(confusion_matrix(y10000_test, y10000_pred_test)))"
   ]
  },
  {
   "cell_type": "code",
   "execution_count": 135,
   "id": "efc615e5",
   "metadata": {},
   "outputs": [
    {
     "name": "stdout",
     "output_type": "stream",
     "text": [
      "              precision    recall  f1-score   support\n",
      "\n",
      "      y=0(多)       0.99      0.97      0.98       195\n",
      "      y=1(少)       0.98      1.00      0.99       205\n",
      "\n",
      "    accuracy                           0.98       400\n",
      "   macro avg       0.99      0.98      0.98       400\n",
      "weighted avg       0.99      0.98      0.98       400\n",
      "\n"
     ]
    }
   ],
   "source": [
    "class_name = ['y=0(多)','y=1(少)']\n",
    "print(classification_report(y1000_test, y1000_pred_test, target_names = class_name))"
   ]
  },
  {
   "cell_type": "markdown",
   "id": "24faf36f",
   "metadata": {},
   "source": [
    "## 各指標長條圖"
   ]
  },
  {
   "cell_type": "code",
   "execution_count": 141,
   "id": "0b7d1f49",
   "metadata": {},
   "outputs": [
    {
     "data": {
      "image/png": "[encoded data removed]",
      "text/plain": [
       "<Figure size 864x864 with 1 Axes>"
      ]
     },
     "metadata": {
      "needs_background": "light"
     },
     "output_type": "display_data"
    }
   ],
   "source": [
    "method_count = 6 #列出三個方法的SMOTE前與後\n",
    "bar_width = 0.3 #長條寬度\n",
    "index = 3*np.arange(method_count)\n",
    "\n",
    "#擷取三個評估值的數字\n",
    "y_0_precision = [0.996442, 0.996540, 0.996107, 0.994302, 0.995711, 0.999864]\n",
    "y_1_precision = [0.740878, 0.759162, 0.838989, 0.970965, 0.987832, 0.993715]\n",
    "y_0_recall    = [0.997906, 0.997930, 0.998885, 0.970208, 0.987766, 0.993684]\n",
    "y_1_recall    = [0.626897, 0.653153, 0.598044, 0.994450, 0.995734, 0.999865]\n",
    "y_0_f1score   = [0.997173, 0.997234, 0.997494, 0.982107, 0.991723, 0.996764]\n",
    "y_1_f1score   = [0.679138, 0.702179, 0.698317, 0.982567, 0.991767, 0.996781]\n",
    "\n",
    "plt.figure(figsize=(12,12))\n",
    "\n",
    "y_0_precision = plt.bar(index,         #長條圖位置\n",
    "                       y_0_precision,  #資料\n",
    "                       bar_width,      #長條圖寬度\n",
    "                       alpha = 0.8,    #透明度\n",
    "                       color = 'cornflowerblue',    \n",
    "                       label = \"y0_precision\")\n",
    "y_1_precision = plt.bar(index+0.4,     #長條圖位置\n",
    "                       y_1_precision,  #資料\n",
    "                       bar_width,      #長條圖寬度\n",
    "                       alpha = 0.8,    #透明度\n",
    "                       color = 'lightsteelblue',   \n",
    "                       label = \"y1_precision\")\n",
    "y_0_recall    = plt.bar(index+0.8,     #長條圖位置\n",
    "                       y_0_recall,     #資料\n",
    "                       bar_width,      #長條圖寬度\n",
    "                       alpha = 0.8,    #透明度\n",
    "                       color = 'firebrick',   \n",
    "                       label = \"y0_recall\")\n",
    "y_1_recall    = plt.bar(index+1.2,     #長條圖位置\n",
    "                       y_1_recall,     #資料\n",
    "                       bar_width,      #長條圖寬度\n",
    "                       alpha = 0.8,    #透明度\n",
    "                       color = 'lightcoral',   \n",
    "                       label = \"y1_recall\")\n",
    "y_0_f1score   = plt.bar(index+1.6,     #長條圖位置\n",
    "                       y_0_f1score,    #資料\n",
    "                       bar_width,      #長條圖寬度\n",
    "                       alpha = 0.8,    #透明度\n",
    "                       color = 'olivedrab',   \n",
    "                       label = \"y0_f1-score\")\n",
    "y_1_f1score   = plt.bar(index+2,     #長條圖位置\n",
    "                       y_1_f1score,    #資料\n",
    "                       bar_width,      #長條圖寬度\n",
    "                       alpha = 0.8,    #透明度\n",
    "                       color = 'lightgreen',   \n",
    "                       label = \"y1_f1-score\")\n",
    "\n",
    "# 長條圖左上的標籤\n",
    "def createLabels(data):                   # 自定義函數，為引用plusone團隊\n",
    "    for item in data:\n",
    "        height = item.get_height()\n",
    "        #plt.text(                        # 數值顯示\n",
    "        #    item.get_x()+item.get_width()/2., \n",
    "        #    height*1.05, \n",
    "        #    '%d' % int(height),\n",
    "        #    ha = \"center\",\n",
    "        #    va = \"bottom\",\n",
    "        #)\n",
    "createLabels(y_0_precision)\n",
    "createLabels(y_1_precision)\n",
    "createLabels(y_0_recall)\n",
    "createLabels(y_1_recall)\n",
    "createLabels(y_0_f1score)\n",
    "createLabels(y_1_f1score)\n",
    "\n",
    "plt.ylabel(\"Score\")          # 設定y軸標題 \n",
    "plt.xlabel(\"Method\")            # 設定x軸標題\n",
    "plt.title(\"Score for Each Method\", {'fontsize' : 15})  # 設定標題、文字大小\n",
    "plt.xticks(index+3*bar_width ,(\"No SMOTE - GMT\", \"No SMOTE - DT\", \"No SMOTE - RF\", \"SMOTE - GMT\", \"SMOTE - DT\", \"SMOTE - RF\"))  #.xticks為x軸文字(為了置中所以+0.3/2)\n",
    "plt.ylim(0, 1.3)                 # 設定y軸範圍\n",
    "plt.legend(prop = {'size':12})    # 設定圖例及其大小\n",
    "plt.grid(True)                   # 顯示格線"
   ]
  },
  {
   "cell_type": "code",
   "execution_count": null,
   "id": "9662503d",
   "metadata": {},
   "outputs": [],
   "source": []
  }
 ],
 "metadata": {
  "kernelspec": {
   "display_name": "Python 3",
   "language": "python",
   "name": "python3"
  },
  "language_info": {
   "codemirror_mode": {
    "name": "ipython",
    "version": 3
   },
   "file_extension": ".py",
   "mimetype": "text/x-python",
   "name": "python",
   "nbconvert_exporter": "python",
   "pygments_lexer": "ipython3",
   "version": "3.6.13"
  }
 },
 "nbformat": 4,
 "nbformat_minor": 5
}
