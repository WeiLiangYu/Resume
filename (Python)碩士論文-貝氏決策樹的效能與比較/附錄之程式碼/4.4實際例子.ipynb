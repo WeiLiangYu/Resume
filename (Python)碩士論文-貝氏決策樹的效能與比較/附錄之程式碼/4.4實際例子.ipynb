{
 "cells": [
  {
   "cell_type": "markdown",
   "id": "e951b36a",
   "metadata": {},
   "source": [
    "# 附錄二"
   ]
  },
  {
   "cell_type": "markdown",
   "id": "67f909ad",
   "metadata": {},
   "source": [
    "## 4.4 實際例子"
   ]
  },
  {
   "cell_type": "markdown",
   "id": "51a2cdec",
   "metadata": {},
   "source": [
    "#### UCI 信用卡資料: https://reurl.cc/2Zy0mm"
   ]
  },
  {
   "cell_type": "markdown",
   "id": "80d8d077",
   "metadata": {},
   "source": [
    "## PACKAGE"
   ]
  },
  {
   "cell_type": "code",
   "execution_count": 1,
   "id": "3b862a99",
   "metadata": {},
   "outputs": [
    {
     "name": "stdout",
     "output_type": "stream",
     "text": [
      "C:\\Users\\innocence846\\Desktop\\論文\\bayesian_tree-master\\do\n"
     ]
    }
   ],
   "source": [
    "cd .."
   ]
  },
  {
   "cell_type": "code",
   "execution_count": 2,
   "id": "6659d0c6",
   "metadata": {},
   "outputs": [],
   "source": [
    "import numpy as np\n",
    "import pandas as pd\n",
    "from sklearn.model_selection import train_test_split\n",
    "from sklearn.model_selection import cross_val_score\n",
    "from sklearn.metrics import confusion_matrix, precision_score, \\\n",
    "    recall_score, f1_score\n",
    "from imblearn.over_sampling import SMOTE\n",
    "import time\n",
    "import matplotlib.pyplot as plt"
   ]
  },
  {
   "cell_type": "code",
   "execution_count": 3,
   "id": "cc974139",
   "metadata": {},
   "outputs": [],
   "source": [
    "from bayesian_decision_tree.classification import PerpendicularClassificationTree\n",
    "from examples import helper\n",
    "\n",
    "from sklearn.tree import DecisionTreeClassifier\n",
    "from scipy.stats import randint\n",
    "from sklearn.ensemble import RandomForestClassifier"
   ]
  },
  {
   "cell_type": "code",
   "execution_count": 4,
   "id": "1da57452",
   "metadata": {},
   "outputs": [],
   "source": [
    "from sklearn.model_selection import RandomizedSearchCV\n",
    "import random\n",
    "from sklearn import metrics\n",
    "from sklearn.metrics import classification_report"
   ]
  },
  {
   "cell_type": "code",
   "execution_count": 21,
   "id": "24c8bc43",
   "metadata": {},
   "outputs": [],
   "source": [
    "import time "
   ]
  },
  {
   "cell_type": "markdown",
   "id": "7e0d0a73",
   "metadata": {},
   "source": [
    "## DATA檢視"
   ]
  },
  {
   "cell_type": "code",
   "execution_count": 5,
   "id": "56a7c187",
   "metadata": {},
   "outputs": [
    {
     "data": {
      "text/html": [
       "<div>\n",
       "<style scoped>\n",
       "    .dataframe tbody tr th:only-of-type {\n",
       "        vertical-align: middle;\n",
       "    }\n",
       "\n",
       "    .dataframe tbody tr th {\n",
       "        vertical-align: top;\n",
       "    }\n",
       "\n",
       "    .dataframe thead th {\n",
       "        text-align: right;\n",
       "    }\n",
       "</style>\n",
       "<table border=\"1\" class=\"dataframe\">\n",
       "  <thead>\n",
       "    <tr style=\"text-align: right;\">\n",
       "      <th></th>\n",
       "      <th>Unnamed: 0</th>\n",
       "      <th>X1</th>\n",
       "      <th>X2</th>\n",
       "      <th>X3</th>\n",
       "      <th>X4</th>\n",
       "      <th>X5</th>\n",
       "      <th>X6</th>\n",
       "      <th>X7</th>\n",
       "      <th>X8</th>\n",
       "      <th>X9</th>\n",
       "      <th>...</th>\n",
       "      <th>X15</th>\n",
       "      <th>X16</th>\n",
       "      <th>X17</th>\n",
       "      <th>X18</th>\n",
       "      <th>X19</th>\n",
       "      <th>X20</th>\n",
       "      <th>X21</th>\n",
       "      <th>X22</th>\n",
       "      <th>X23</th>\n",
       "      <th>Y</th>\n",
       "    </tr>\n",
       "  </thead>\n",
       "  <tbody>\n",
       "    <tr>\n",
       "      <th>0</th>\n",
       "      <td>ID</td>\n",
       "      <td>LIMIT_BAL</td>\n",
       "      <td>SEX</td>\n",
       "      <td>EDUCATION</td>\n",
       "      <td>MARRIAGE</td>\n",
       "      <td>AGE</td>\n",
       "      <td>PAY_0</td>\n",
       "      <td>PAY_2</td>\n",
       "      <td>PAY_3</td>\n",
       "      <td>PAY_4</td>\n",
       "      <td>...</td>\n",
       "      <td>BILL_AMT4</td>\n",
       "      <td>BILL_AMT5</td>\n",
       "      <td>BILL_AMT6</td>\n",
       "      <td>PAY_AMT1</td>\n",
       "      <td>PAY_AMT2</td>\n",
       "      <td>PAY_AMT3</td>\n",
       "      <td>PAY_AMT4</td>\n",
       "      <td>PAY_AMT5</td>\n",
       "      <td>PAY_AMT6</td>\n",
       "      <td>default payment next month</td>\n",
       "    </tr>\n",
       "    <tr>\n",
       "      <th>1</th>\n",
       "      <td>1</td>\n",
       "      <td>20000</td>\n",
       "      <td>2</td>\n",
       "      <td>2</td>\n",
       "      <td>1</td>\n",
       "      <td>24</td>\n",
       "      <td>2</td>\n",
       "      <td>2</td>\n",
       "      <td>-1</td>\n",
       "      <td>-1</td>\n",
       "      <td>...</td>\n",
       "      <td>0</td>\n",
       "      <td>0</td>\n",
       "      <td>0</td>\n",
       "      <td>0</td>\n",
       "      <td>689</td>\n",
       "      <td>0</td>\n",
       "      <td>0</td>\n",
       "      <td>0</td>\n",
       "      <td>0</td>\n",
       "      <td>1</td>\n",
       "    </tr>\n",
       "    <tr>\n",
       "      <th>2</th>\n",
       "      <td>2</td>\n",
       "      <td>120000</td>\n",
       "      <td>2</td>\n",
       "      <td>2</td>\n",
       "      <td>2</td>\n",
       "      <td>26</td>\n",
       "      <td>-1</td>\n",
       "      <td>2</td>\n",
       "      <td>0</td>\n",
       "      <td>0</td>\n",
       "      <td>...</td>\n",
       "      <td>3272</td>\n",
       "      <td>3455</td>\n",
       "      <td>3261</td>\n",
       "      <td>0</td>\n",
       "      <td>1000</td>\n",
       "      <td>1000</td>\n",
       "      <td>1000</td>\n",
       "      <td>0</td>\n",
       "      <td>2000</td>\n",
       "      <td>1</td>\n",
       "    </tr>\n",
       "    <tr>\n",
       "      <th>3</th>\n",
       "      <td>3</td>\n",
       "      <td>90000</td>\n",
       "      <td>2</td>\n",
       "      <td>2</td>\n",
       "      <td>2</td>\n",
       "      <td>34</td>\n",
       "      <td>0</td>\n",
       "      <td>0</td>\n",
       "      <td>0</td>\n",
       "      <td>0</td>\n",
       "      <td>...</td>\n",
       "      <td>14331</td>\n",
       "      <td>14948</td>\n",
       "      <td>15549</td>\n",
       "      <td>1518</td>\n",
       "      <td>1500</td>\n",
       "      <td>1000</td>\n",
       "      <td>1000</td>\n",
       "      <td>1000</td>\n",
       "      <td>5000</td>\n",
       "      <td>0</td>\n",
       "    </tr>\n",
       "    <tr>\n",
       "      <th>4</th>\n",
       "      <td>4</td>\n",
       "      <td>50000</td>\n",
       "      <td>2</td>\n",
       "      <td>2</td>\n",
       "      <td>1</td>\n",
       "      <td>37</td>\n",
       "      <td>0</td>\n",
       "      <td>0</td>\n",
       "      <td>0</td>\n",
       "      <td>0</td>\n",
       "      <td>...</td>\n",
       "      <td>28314</td>\n",
       "      <td>28959</td>\n",
       "      <td>29547</td>\n",
       "      <td>2000</td>\n",
       "      <td>2019</td>\n",
       "      <td>1200</td>\n",
       "      <td>1100</td>\n",
       "      <td>1069</td>\n",
       "      <td>1000</td>\n",
       "      <td>0</td>\n",
       "    </tr>\n",
       "    <tr>\n",
       "      <th>...</th>\n",
       "      <td>...</td>\n",
       "      <td>...</td>\n",
       "      <td>...</td>\n",
       "      <td>...</td>\n",
       "      <td>...</td>\n",
       "      <td>...</td>\n",
       "      <td>...</td>\n",
       "      <td>...</td>\n",
       "      <td>...</td>\n",
       "      <td>...</td>\n",
       "      <td>...</td>\n",
       "      <td>...</td>\n",
       "      <td>...</td>\n",
       "      <td>...</td>\n",
       "      <td>...</td>\n",
       "      <td>...</td>\n",
       "      <td>...</td>\n",
       "      <td>...</td>\n",
       "      <td>...</td>\n",
       "      <td>...</td>\n",
       "      <td>...</td>\n",
       "    </tr>\n",
       "    <tr>\n",
       "      <th>29996</th>\n",
       "      <td>29996</td>\n",
       "      <td>220000</td>\n",
       "      <td>1</td>\n",
       "      <td>3</td>\n",
       "      <td>1</td>\n",
       "      <td>39</td>\n",
       "      <td>0</td>\n",
       "      <td>0</td>\n",
       "      <td>0</td>\n",
       "      <td>0</td>\n",
       "      <td>...</td>\n",
       "      <td>88004</td>\n",
       "      <td>31237</td>\n",
       "      <td>15980</td>\n",
       "      <td>8500</td>\n",
       "      <td>20000</td>\n",
       "      <td>5003</td>\n",
       "      <td>3047</td>\n",
       "      <td>5000</td>\n",
       "      <td>1000</td>\n",
       "      <td>0</td>\n",
       "    </tr>\n",
       "    <tr>\n",
       "      <th>29997</th>\n",
       "      <td>29997</td>\n",
       "      <td>150000</td>\n",
       "      <td>1</td>\n",
       "      <td>3</td>\n",
       "      <td>2</td>\n",
       "      <td>43</td>\n",
       "      <td>-1</td>\n",
       "      <td>-1</td>\n",
       "      <td>-1</td>\n",
       "      <td>-1</td>\n",
       "      <td>...</td>\n",
       "      <td>8979</td>\n",
       "      <td>5190</td>\n",
       "      <td>0</td>\n",
       "      <td>1837</td>\n",
       "      <td>3526</td>\n",
       "      <td>8998</td>\n",
       "      <td>129</td>\n",
       "      <td>0</td>\n",
       "      <td>0</td>\n",
       "      <td>0</td>\n",
       "    </tr>\n",
       "    <tr>\n",
       "      <th>29998</th>\n",
       "      <td>29998</td>\n",
       "      <td>30000</td>\n",
       "      <td>1</td>\n",
       "      <td>2</td>\n",
       "      <td>2</td>\n",
       "      <td>37</td>\n",
       "      <td>4</td>\n",
       "      <td>3</td>\n",
       "      <td>2</td>\n",
       "      <td>-1</td>\n",
       "      <td>...</td>\n",
       "      <td>20878</td>\n",
       "      <td>20582</td>\n",
       "      <td>19357</td>\n",
       "      <td>0</td>\n",
       "      <td>0</td>\n",
       "      <td>22000</td>\n",
       "      <td>4200</td>\n",
       "      <td>2000</td>\n",
       "      <td>3100</td>\n",
       "      <td>1</td>\n",
       "    </tr>\n",
       "    <tr>\n",
       "      <th>29999</th>\n",
       "      <td>29999</td>\n",
       "      <td>80000</td>\n",
       "      <td>1</td>\n",
       "      <td>3</td>\n",
       "      <td>1</td>\n",
       "      <td>41</td>\n",
       "      <td>1</td>\n",
       "      <td>-1</td>\n",
       "      <td>0</td>\n",
       "      <td>0</td>\n",
       "      <td>...</td>\n",
       "      <td>52774</td>\n",
       "      <td>11855</td>\n",
       "      <td>48944</td>\n",
       "      <td>85900</td>\n",
       "      <td>3409</td>\n",
       "      <td>1178</td>\n",
       "      <td>1926</td>\n",
       "      <td>52964</td>\n",
       "      <td>1804</td>\n",
       "      <td>1</td>\n",
       "    </tr>\n",
       "    <tr>\n",
       "      <th>30000</th>\n",
       "      <td>30000</td>\n",
       "      <td>50000</td>\n",
       "      <td>1</td>\n",
       "      <td>2</td>\n",
       "      <td>1</td>\n",
       "      <td>46</td>\n",
       "      <td>0</td>\n",
       "      <td>0</td>\n",
       "      <td>0</td>\n",
       "      <td>0</td>\n",
       "      <td>...</td>\n",
       "      <td>36535</td>\n",
       "      <td>32428</td>\n",
       "      <td>15313</td>\n",
       "      <td>2078</td>\n",
       "      <td>1800</td>\n",
       "      <td>1430</td>\n",
       "      <td>1000</td>\n",
       "      <td>1000</td>\n",
       "      <td>1000</td>\n",
       "      <td>1</td>\n",
       "    </tr>\n",
       "  </tbody>\n",
       "</table>\n",
       "<p>30001 rows × 25 columns</p>\n",
       "</div>"
      ],
      "text/plain": [
       "      Unnamed: 0         X1   X2         X3        X4   X5     X6     X7  \\\n",
       "0             ID  LIMIT_BAL  SEX  EDUCATION  MARRIAGE  AGE  PAY_0  PAY_2   \n",
       "1              1      20000    2          2         1   24      2      2   \n",
       "2              2     120000    2          2         2   26     -1      2   \n",
       "3              3      90000    2          2         2   34      0      0   \n",
       "4              4      50000    2          2         1   37      0      0   \n",
       "...          ...        ...  ...        ...       ...  ...    ...    ...   \n",
       "29996      29996     220000    1          3         1   39      0      0   \n",
       "29997      29997     150000    1          3         2   43     -1     -1   \n",
       "29998      29998      30000    1          2         2   37      4      3   \n",
       "29999      29999      80000    1          3         1   41      1     -1   \n",
       "30000      30000      50000    1          2         1   46      0      0   \n",
       "\n",
       "          X8     X9  ...        X15        X16        X17       X18       X19  \\\n",
       "0      PAY_3  PAY_4  ...  BILL_AMT4  BILL_AMT5  BILL_AMT6  PAY_AMT1  PAY_AMT2   \n",
       "1         -1     -1  ...          0          0          0         0       689   \n",
       "2          0      0  ...       3272       3455       3261         0      1000   \n",
       "3          0      0  ...      14331      14948      15549      1518      1500   \n",
       "4          0      0  ...      28314      28959      29547      2000      2019   \n",
       "...      ...    ...  ...        ...        ...        ...       ...       ...   \n",
       "29996      0      0  ...      88004      31237      15980      8500     20000   \n",
       "29997     -1     -1  ...       8979       5190          0      1837      3526   \n",
       "29998      2     -1  ...      20878      20582      19357         0         0   \n",
       "29999      0      0  ...      52774      11855      48944     85900      3409   \n",
       "30000      0      0  ...      36535      32428      15313      2078      1800   \n",
       "\n",
       "            X20       X21       X22       X23                           Y  \n",
       "0      PAY_AMT3  PAY_AMT4  PAY_AMT5  PAY_AMT6  default payment next month  \n",
       "1             0         0         0         0                           1  \n",
       "2          1000      1000         0      2000                           1  \n",
       "3          1000      1000      1000      5000                           0  \n",
       "4          1200      1100      1069      1000                           0  \n",
       "...         ...       ...       ...       ...                         ...  \n",
       "29996      5003      3047      5000      1000                           0  \n",
       "29997      8998       129         0         0                           0  \n",
       "29998     22000      4200      2000      3100                           1  \n",
       "29999      1178      1926     52964      1804                           1  \n",
       "30000      1430      1000      1000      1000                           1  \n",
       "\n",
       "[30001 rows x 25 columns]"
      ]
     },
     "execution_count": 5,
     "metadata": {},
     "output_type": "execute_result"
    }
   ],
   "source": [
    "data = pd.read_csv('./examples/default of credit card clients Data Set.csv')\n",
    "data"
   ]
  },
  {
   "cell_type": "code",
   "execution_count": 6,
   "id": "6cf58fd7",
   "metadata": {},
   "outputs": [
    {
     "name": "stdout",
     "output_type": "stream",
     "text": [
      "Amount of Label 0: 23364\n",
      "Amount of Label 1: 6636\n"
     ]
    }
   ],
   "source": [
    "x = np.array(data)[1:, 1:24]\n",
    "y = np.array(data)[1:, 24]\n",
    "\n",
    "for  i in range(0,len(x)) :\n",
    "    x[i] = pd.to_numeric(x[i])\n",
    "y = pd.to_numeric(y)\n",
    "\n",
    "print( 'Amount of Label 0: {}'.format(len(x[y==0]) ))\n",
    "print( 'Amount of Label 1: {}'.format(len(x[y==1]) ))"
   ]
  },
  {
   "cell_type": "code",
   "execution_count": 7,
   "id": "41b997d4",
   "metadata": {},
   "outputs": [],
   "source": [
    "sm = SMOTE(random_state=1)\n",
    "x_sm, y_sm = sm.fit_resample(x, y)  \n",
    "\n",
    "x_train, x_test, y_train, y_test = train_test_split(x_sm, y_sm, test_size=0.2,  random_state=1) \n",
    "xo_train, xo_test, yo_train, yo_test = train_test_split(x, y, test_size=0.2,  random_state=1) "
   ]
  },
  {
   "cell_type": "markdown",
   "id": "f568d5b2",
   "metadata": {},
   "source": [
    "## 模型套用"
   ]
  },
  {
   "cell_type": "markdown",
   "id": "b0f63ea2",
   "metadata": {},
   "source": [
    "## GMT"
   ]
  },
  {
   "cell_type": "markdown",
   "id": "4f813516",
   "metadata": {},
   "source": [
    "### 參數挑選"
   ]
  },
  {
   "cell_type": "markdown",
   "id": "70c497a6",
   "metadata": {},
   "source": [
    "#### 原始"
   ]
  },
  {
   "cell_type": "code",
   "execution_count": 11,
   "id": "2674799b",
   "metadata": {},
   "outputs": [
    {
     "data": {
      "text/plain": [
       "{'partition_prior': 0.21102564102564103, 'delta': 0.0}"
      ]
     },
     "execution_count": 11,
     "metadata": {},
     "output_type": "execute_result"
    }
   ],
   "source": [
    "n_classes = len(np.unique(y))\n",
    "    \n",
    "# prior\n",
    "prior_pseudo_observations = 1\n",
    "prior = prior_pseudo_observations * np.ones(n_classes) / (n_classes^5) \n",
    "\n",
    "# model\n",
    "gmt = PerpendicularClassificationTree(\n",
    "    #partition_prior=0.9,\n",
    "    prior=prior,\n",
    "    #delta=0, \n",
    "    prune=False) #分類\n",
    "\n",
    "param_distribs = {\n",
    "    'partition_prior': np.linspace(0.01,0.99,40),\n",
    "    'delta': np.linspace(0,1,40)\n",
    "}\n",
    "\n",
    "gmt_search = RandomizedSearchCV(gmt, \n",
    "    param_distributions=param_distribs, n_iter=100, cv=50, \n",
    "    scoring='f1', random_state=1)\n",
    "\n",
    "gmt_search.fit(xo_train, yo_train)\n",
    "go_model = gmt_search.best_estimator_\n",
    "gmt_search.best_params_"
   ]
  },
  {
   "cell_type": "markdown",
   "id": "dcd45a61",
   "metadata": {},
   "source": [
    "#### smote"
   ]
  },
  {
   "cell_type": "code",
   "execution_count": 12,
   "id": "abd9256e",
   "metadata": {},
   "outputs": [
    {
     "data": {
      "text/plain": [
       "{'partition_prior': 0.21102564102564103, 'delta': 0.0}"
      ]
     },
     "execution_count": 12,
     "metadata": {},
     "output_type": "execute_result"
    }
   ],
   "source": [
    "# model\n",
    "gmt = PerpendicularClassificationTree(\n",
    "    #partition_prior=0.9,\n",
    "    prior=prior,\n",
    "    #delta=0, \n",
    "    prune=False) #分類\n",
    "\n",
    "param_distribs = {\n",
    "    'partition_prior': np.linspace(0.01,0.99,40),\n",
    "    'delta': np.linspace(0,1,40)\n",
    "}\n",
    "\n",
    "gmt_search = RandomizedSearchCV(gmt, \n",
    "    param_distributions=param_distribs, n_iter=100, cv=50, \n",
    "    scoring='f1', random_state=1)\n",
    "\n",
    "gmt_search.fit(x_train, y_train)\n",
    "g_model = gmt_search.best_estimator_\n",
    "gmt_search.best_params_"
   ]
  },
  {
   "cell_type": "markdown",
   "id": "1246cf5f",
   "metadata": {},
   "source": [
    "### 訓練"
   ]
  },
  {
   "cell_type": "markdown",
   "id": "9be38546",
   "metadata": {},
   "source": [
    "#### 原始"
   ]
  },
  {
   "cell_type": "code",
   "execution_count": 23,
   "id": "463a5520",
   "metadata": {},
   "outputs": [
    {
     "name": "stdout",
     "output_type": "stream",
     "text": [
      "Train matrix: \n",
      "(17727.18, 3328.46, 966.01, 1978.35)\n",
      "Test matrix: \n",
      "(4427.34, 834.34, 243.47, 494.85)\n",
      "\n",
      "       Score    y=0(多)    y=1(少)\n",
      "0  precision  0.841431  0.670238\n",
      "1     recall  0.947874  0.372294\n",
      "2   f1-score  0.891486  0.478692\n",
      "Wall time: 1min 1s\n"
     ]
    }
   ],
   "source": [
    "%%time \n",
    "tn_train, fp_train, fn_train, tp_train = 0, 0, 0, 0\n",
    "tn_test, fp_test, fn_test, tp_test = 0, 0, 0, 0\n",
    "imp = 0\n",
    "\n",
    "for i in range(0,100):\n",
    "    xo_train2, xo_test2, yo_train2, yo_test2 = train_test_split(x, y, test_size=0.2)  \n",
    "    go_model.fit(xo_train2, yo_train2)\n",
    "    y_pred_train = go_model.predict(xo_train2)\n",
    "    y_pred_test = go_model.predict(xo_test2)\n",
    "          \n",
    "    tp1, fn1, fp1, tn1 = confusion_matrix(yo_train2, y_pred_train).ravel()\n",
    "    tp2, fn2, fp2, tn2 = confusion_matrix(yo_test2, y_pred_test).ravel() \n",
    "    \n",
    "    tn_train = tn1 + tn_train\n",
    "    fp_train = fp1 + fp_train\n",
    "    fn_train = fn1 + fn_train\n",
    "    tp_train = tp1 + tp_train\n",
    "    \n",
    "    tn_test = tn2 + tn_test\n",
    "    fp_test = fp2 + fp_test\n",
    "    fn_test = fn2 + fn_test\n",
    "    tp_test = tp2 + tp_test\n",
    "    \n",
    "    imp2 = go_model.feature_importance()\n",
    "    imp = imp + imp2\n",
    "\n",
    "print('Train matrix: \\n{}'.format((tp_train/100, fp_train/100, fn_train/100, tn_train/100)))\n",
    "print('Test matrix: \\n{}\\n'.format((tp_test/100, fp_test/100, fn_test/100, tn_test/100)))\n",
    "\n",
    "recall_0 = tp_test/(tp_test+fn_test)\n",
    "precision_0 = tp_test/(tp_test+fp_test)\n",
    "recall_1 = tn_test/(tn_test+fp_test)\n",
    "precision_1 = tn_test/(tn_test+fn_test)\n",
    "\n",
    "score = {\n",
    "    \"Score\" : [\"precision\", \"recall\",  \"f1-score\"],\n",
    "    \"y=0(多)\" : [precision_0, recall_0, 2*((precision_0*recall_0)/(precision_0 + recall_0))],\n",
    "    \"y=1(少)\" : [precision_1, recall_1, 2*((precision_1*recall_1)/(precision_1 + recall_1))]\n",
    "}\n",
    "sc = pd.DataFrame(score)\n",
    "print(sc)\n",
    "\n"
   ]
  },
  {
   "cell_type": "code",
   "execution_count": 24,
   "id": "20f84710",
   "metadata": {},
   "outputs": [
    {
     "data": {
      "image/png": "[encoded data removed]",
      "text/plain": [
       "<Figure size 432x288 with 1 Axes>"
      ]
     },
     "metadata": {
      "needs_background": "light"
     },
     "output_type": "display_data"
    }
   ],
   "source": [
    "features = list(data)[1:-1]\n",
    "sorted(zip(imp/100, features), reverse=True)\n",
    "ind = np.argsort(imp/100)\n",
    "\n",
    "plt.title('Feature Importances')\n",
    "plt.barh(range(len(ind)), (imp/100)[ind], color='g', align='center')\n",
    "plt.yticks(range(len(ind)), [features[i] for i in ind])\n",
    "plt.xlabel('Relative Importance')\n",
    "plt.show()"
   ]
  },
  {
   "cell_type": "markdown",
   "id": "43d94b9d",
   "metadata": {},
   "source": [
    "#### SMOTE"
   ]
  },
  {
   "cell_type": "code",
   "execution_count": 88,
   "id": "beba4665",
   "metadata": {},
   "outputs": [
    {
     "name": "stdout",
     "output_type": "stream",
     "text": [
      "Train matrix: \n",
      "(17418.4, 4794.5, 1272.45, 13896.65)\n",
      "Test matrix: \n",
      "(4345.78, 1216.33, 327.37, 3456.52)\n",
      "\n",
      "       Score    y=0(多)    y=1(少)\n",
      "0  precision  0.781319  0.913483\n",
      "1     recall  0.929947  0.739703\n",
      "2   f1-score  0.849178  0.817459\n",
      "Wall time: 1min 55s\n"
     ]
    }
   ],
   "source": [
    "%%time\n",
    "tn_train, fp_train, fn_train, tp_train = 0, 0, 0, 0\n",
    "tn_test, fp_test, fn_test, tp_test = 0, 0, 0, 0\n",
    "imp = 0\n",
    "\n",
    "for i in range(0,100):\n",
    "    x_train2, x_test2, y_train2, y_test2 = train_test_split(x_sm, y_sm, test_size=0.2)  \n",
    "    g_model.fit(x_train2, y_train2)\n",
    "    y_pred_train = g_model.predict(x_train2)\n",
    "    y_pred_test = g_model.predict(x_test2)\n",
    "    \n",
    "    tp1, fn1, fp1, tn1 = confusion_matrix(y_train2, y_pred_train).ravel()\n",
    "    tp2, fn2, fp2, tn2 = confusion_matrix(y_test2, y_pred_test).ravel()\n",
    "    \n",
    "    tn_train = tn1 + tn_train\n",
    "    fp_train = fp1 + fp_train\n",
    "    fn_train = fn1 + fn_train\n",
    "    tp_train = tp1 + tp_train\n",
    "    \n",
    "    tn_test = tn2 + tn_test\n",
    "    fp_test = fp2 + fp_test\n",
    "    fn_test = fn2 + fn_test\n",
    "    tp_test = tp2 + tp_test\n",
    "    \n",
    "    imp2 = g_model.feature_importance()\n",
    "    imp = imp + imp2\n",
    "\n",
    "print('Train matrix: \\n{}'.format((tp_train/100, fp_train/100, fn_train/100, tn_train/100)))\n",
    "print('Test matrix: \\n{}\\n'.format((tp_test/100, fp_test/100, fn_test/100, tn_test/100)))\n",
    "\n",
    "recall_0 = tp_test/(tp_test+fn_test)\n",
    "precision_0 = tp_test/(tp_test+fp_test)\n",
    "recall_1 = tn_test/(tn_test+fp_test)\n",
    "precision_1 = tn_test/(tn_test+fn_test)\n",
    "\n",
    "score = {\n",
    "    \"Score\" : [\"precision\", \"recall\",  \"f1-score\"],\n",
    "    \"y=0(多)\" : [precision_0, recall_0, 2*((precision_0*recall_0)/(precision_0 + recall_0))],\n",
    "    \"y=1(少)\" : [precision_1, recall_1, 2*((precision_1*recall_1)/(precision_1 + recall_1))]\n",
    "}\n",
    "sc = pd.DataFrame(score)\n",
    "print(sc)"
   ]
  },
  {
   "cell_type": "code",
   "execution_count": 89,
   "id": "c011467b",
   "metadata": {},
   "outputs": [
    {
     "data": {
      "image/png": "[encoded data removed]",
      "text/plain": [
       "<Figure size 432x288 with 1 Axes>"
      ]
     },
     "metadata": {
      "needs_background": "light"
     },
     "output_type": "display_data"
    }
   ],
   "source": [
    "features = list(data)[1:-1]\n",
    "sorted(zip(imp/100, features), reverse=True)\n",
    "ind = np.argsort(imp/100)\n",
    "\n",
    "plt.title('Feature Importances')\n",
    "plt.barh(range(len(ind)), (imp/100)[ind], color='g', align='center')\n",
    "plt.yticks(range(len(ind)), [features[i] for i in ind])\n",
    "plt.xlabel('Relative Importance')\n",
    "plt.show()"
   ]
  },
  {
   "cell_type": "markdown",
   "id": "ce7d026f",
   "metadata": {},
   "source": [
    "# DT"
   ]
  },
  {
   "cell_type": "markdown",
   "id": "9a8df7e7",
   "metadata": {},
   "source": [
    "### 挑選參數"
   ]
  },
  {
   "cell_type": "markdown",
   "id": "2a709bb7",
   "metadata": {},
   "source": [
    "#### 原始"
   ]
  },
  {
   "cell_type": "code",
   "execution_count": 13,
   "id": "77de32f3",
   "metadata": {},
   "outputs": [
    {
     "data": {
      "text/plain": [
       "{'criterion': 'gini', 'max_depth': 3}"
      ]
     },
     "execution_count": 13,
     "metadata": {},
     "output_type": "execute_result"
    }
   ],
   "source": [
    "param_distribs = {\n",
    "    'criterion': ['gini', 'entropy'],\n",
    "    'max_depth': randint(low=2, high=15)\n",
    "}\n",
    "\n",
    "dt_cf = DecisionTreeClassifier(random_state=1)\n",
    "dt_search = RandomizedSearchCV(dt_cf, param_distributions=param_distribs, \n",
    "                                n_iter=100, cv=50, scoring='f1', random_state=1)\n",
    "dt_search.fit(xo_train, yo_train)\n",
    "\n",
    "do_model = dt_search.best_estimator_\n",
    "dt_search.best_params_"
   ]
  },
  {
   "cell_type": "markdown",
   "id": "4fdfa5e6",
   "metadata": {},
   "source": [
    "#### SMOTE"
   ]
  },
  {
   "cell_type": "code",
   "execution_count": 14,
   "id": "2889768e",
   "metadata": {},
   "outputs": [
    {
     "data": {
      "text/plain": [
       "{'criterion': 'gini', 'max_depth': 12}"
      ]
     },
     "execution_count": 14,
     "metadata": {},
     "output_type": "execute_result"
    }
   ],
   "source": [
    "param_distribs = {\n",
    "    'criterion': ['gini', 'entropy'],\n",
    "    'max_depth': randint(low=2, high=15)\n",
    "}\n",
    "\n",
    "dt_cf = DecisionTreeClassifier(random_state=1)\n",
    "dt_search = RandomizedSearchCV(dt_cf, param_distributions=param_distribs, \n",
    "                                n_iter=100, cv=50, scoring='f1', random_state=1)\n",
    "dt_search.fit(x_train, y_train)\n",
    "\n",
    "d_model = dt_search.best_estimator_\n",
    "dt_search.best_params_"
   ]
  },
  {
   "cell_type": "markdown",
   "id": "f4026f15",
   "metadata": {},
   "source": [
    "### 訓練"
   ]
  },
  {
   "cell_type": "markdown",
   "id": "fb82b9c4",
   "metadata": {},
   "source": [
    "#### 原始"
   ]
  },
  {
   "cell_type": "code",
   "execution_count": 90,
   "id": "c7b5a349",
   "metadata": {},
   "outputs": [
    {
     "name": "stdout",
     "output_type": "stream",
     "text": [
      "Train matrix: \n",
      "(17745.08, 3320.98, 948.85, 1985.09)\n",
      "Test matrix: \n",
      "(4429.3, 836.8, 240.77, 493.13)\n",
      "\n",
      "       Score    y=0(多)    y=1(少)\n",
      "0  precision  0.841097  0.671931\n",
      "1     recall  0.948444  0.370794\n",
      "2   f1-score  0.891551  0.477879\n",
      "Wall time: 12.8 s\n"
     ]
    }
   ],
   "source": [
    "%%time\n",
    "tn_train, fp_train, fn_train, tp_train = 0, 0, 0, 0\n",
    "tn_test, fp_test, fn_test, tp_test = 0, 0, 0, 0\n",
    "imp = 0\n",
    "\n",
    "for i in range(0,100):\n",
    "    xo_train2, xo_test2, yo_train2, yo_test2 = train_test_split(x, y, test_size=0.2)  \n",
    "    do_model.fit(xo_train2, yo_train2)\n",
    "    y_pred_train = do_model.predict(xo_train2)\n",
    "    y_pred_test = do_model.predict(xo_test2)\n",
    "          \n",
    "    tp1, fn1, fp1, tn1 = confusion_matrix(yo_train2, y_pred_train).ravel()\n",
    "    tp2, fn2, fp2, tn2 = confusion_matrix(yo_test2, y_pred_test).ravel() \n",
    "    \n",
    "    tn_train = tn1 + tn_train\n",
    "    fp_train = fp1 + fp_train\n",
    "    fn_train = fn1 + fn_train\n",
    "    tp_train = tp1 + tp_train\n",
    "    \n",
    "    tn_test = tn2 + tn_test\n",
    "    fp_test = fp2 + fp_test\n",
    "    fn_test = fn2 + fn_test\n",
    "    tp_test = tp2 + tp_test\n",
    "    \n",
    "    imp2 = do_model.feature_importances_\n",
    "    imp = imp + imp2\n",
    "\n",
    "print('Train matrix: \\n{}'.format((tp_train/100, fp_train/100, fn_train/100, tn_train/100)))\n",
    "print('Test matrix: \\n{}\\n'.format((tp_test/100, fp_test/100, fn_test/100, tn_test/100)))\n",
    "\n",
    "recall_0 = tp_test/(tp_test+fn_test)\n",
    "precision_0 = tp_test/(tp_test+fp_test)\n",
    "recall_1 = tn_test/(tn_test+fp_test)\n",
    "precision_1 = tn_test/(tn_test+fn_test)\n",
    "\n",
    "score = {\n",
    "    \"Score\" : [\"precision\", \"recall\",  \"f1-score\"],\n",
    "    \"y=0(多)\" : [precision_0, recall_0, 2*((precision_0*recall_0)/(precision_0 + recall_0))],\n",
    "    \"y=1(少)\" : [precision_1, recall_1, 2*((precision_1*recall_1)/(precision_1 + recall_1))]\n",
    "}\n",
    "sc = pd.DataFrame(score)\n",
    "print(sc)"
   ]
  },
  {
   "cell_type": "code",
   "execution_count": 91,
   "id": "2419d13f",
   "metadata": {},
   "outputs": [
    {
     "data": {
      "image/png": "[encoded data removed]",
      "text/plain": [
       "<Figure size 432x288 with 1 Axes>"
      ]
     },
     "metadata": {
      "needs_background": "light"
     },
     "output_type": "display_data"
    }
   ],
   "source": [
    "features = list(data)[1:-1]\n",
    "sorted(zip(imp/100, features), reverse=True)\n",
    "ind = np.argsort(imp/100)\n",
    "\n",
    "plt.title('Feature Importances')\n",
    "plt.barh(range(len(ind)), (imp/100)[ind], color='g', align='center')\n",
    "plt.yticks(range(len(ind)), [features[i] for i in ind])\n",
    "plt.xlabel('Relative Importance')\n",
    "plt.show()"
   ]
  },
  {
   "cell_type": "markdown",
   "id": "9ef69a92",
   "metadata": {},
   "source": [
    "#### SMOTE"
   ]
  },
  {
   "cell_type": "code",
   "execution_count": 92,
   "id": "d5bf0740",
   "metadata": {},
   "outputs": [
    {
     "name": "stdout",
     "output_type": "stream",
     "text": [
      "Train matrix: \n",
      "(17609.4, 3006.78, 1080.1, 15685.72)\n",
      "Test matrix: \n",
      "(4184.86, 971.61, 489.64, 3699.89)\n",
      "\n",
      "       Score    y=0(多)    y=1(少)\n",
      "0  precision  0.811575  0.883128\n",
      "1     recall  0.895253  0.792013\n",
      "2   f1-score  0.851363  0.835093\n",
      "Wall time: 44.3 s\n"
     ]
    }
   ],
   "source": [
    "%%time\n",
    "tn_train, fp_train, fn_train, tp_train = 0, 0, 0, 0\n",
    "tn_test, fp_test, fn_test, tp_test = 0, 0, 0, 0\n",
    "imp = 0\n",
    "\n",
    "for i in range(0,100):\n",
    "    x_train2, x_test2, y_train2, y_test2 = train_test_split(x_sm, y_sm, test_size=0.2)  \n",
    "    d_model.fit(x_train2, y_train2)\n",
    "    y_pred_train = d_model.predict(x_train2)\n",
    "    y_pred_test = d_model.predict(x_test2)\n",
    "          \n",
    "    tp1, fn1, fp1, tn1 = confusion_matrix(y_train2, y_pred_train).ravel()\n",
    "    tp2, fn2, fp2, tn2 = confusion_matrix(y_test2, y_pred_test).ravel() \n",
    "    \n",
    "    tn_train = tn1 + tn_train\n",
    "    fp_train = fp1 + fp_train\n",
    "    fn_train = fn1 + fn_train\n",
    "    tp_train = tp1 + tp_train\n",
    "    \n",
    "    tn_test = tn2 + tn_test\n",
    "    fp_test = fp2 + fp_test\n",
    "    fn_test = fn2 + fn_test\n",
    "    tp_test = tp2 + tp_test\n",
    "    \n",
    "    imp2 = d_model.feature_importances_\n",
    "    imp = imp + imp2\n",
    "\n",
    "print('Train matrix: \\n{}'.format((tp_train/100, fp_train/100, fn_train/100, tn_train/100)))\n",
    "print('Test matrix: \\n{}\\n'.format((tp_test/100, fp_test/100, fn_test/100, tn_test/100)))\n",
    "\n",
    "recall_0 = tp_test/(tp_test+fn_test)\n",
    "precision_0 = tp_test/(tp_test+fp_test)\n",
    "recall_1 = tn_test/(tn_test+fp_test)\n",
    "precision_1 = tn_test/(tn_test+fn_test)\n",
    "\n",
    "score = {\n",
    "    \"Score\" : [\"precision\", \"recall\",  \"f1-score\"],\n",
    "    \"y=0(多)\" : [precision_0, recall_0, 2*((precision_0*recall_0)/(precision_0 + recall_0))],\n",
    "    \"y=1(少)\" : [precision_1, recall_1, 2*((precision_1*recall_1)/(precision_1 + recall_1))]\n",
    "}\n",
    "sc = pd.DataFrame(score)\n",
    "print(sc)"
   ]
  },
  {
   "cell_type": "code",
   "execution_count": 93,
   "id": "47ef5661",
   "metadata": {},
   "outputs": [
    {
     "data": {
      "image/png": "[encoded data removed]",
      "text/plain": [
       "<Figure size 432x288 with 1 Axes>"
      ]
     },
     "metadata": {
      "needs_background": "light"
     },
     "output_type": "display_data"
    }
   ],
   "source": [
    "features = list(data)[1:-1]\n",
    "sorted(zip(imp/100, features), reverse=True)\n",
    "ind = np.argsort(imp/100)\n",
    "\n",
    "plt.title('Feature Importances')\n",
    "plt.barh(range(len(ind)), (imp/100)[ind], color='g', align='center')\n",
    "plt.yticks(range(len(ind)), [features[i] for i in ind])\n",
    "plt.xlabel('Relative Importance')\n",
    "plt.show()"
   ]
  },
  {
   "cell_type": "markdown",
   "id": "b9bc454a",
   "metadata": {},
   "source": [
    "# RF"
   ]
  },
  {
   "cell_type": "markdown",
   "id": "d34c7f0a",
   "metadata": {},
   "source": [
    "### 挑選參數"
   ]
  },
  {
   "cell_type": "markdown",
   "id": "84af1e68",
   "metadata": {},
   "source": [
    "#### 原始"
   ]
  },
  {
   "cell_type": "code",
   "execution_count": 15,
   "id": "ad24cb87",
   "metadata": {},
   "outputs": [
    {
     "data": {
      "text/plain": [
       "{'criterion': 'gini', 'n_estimators': 161}"
      ]
     },
     "execution_count": 15,
     "metadata": {},
     "output_type": "execute_result"
    }
   ],
   "source": [
    "param_distribs = {\n",
    "    'n_estimators': randint(low=1, high=200),\n",
    "    'criterion': ['gini', 'entropy']\n",
    "}\n",
    "\n",
    "rnd_cf = RandomForestClassifier(random_state=1)\n",
    "rnd_search = RandomizedSearchCV(rnd_cf, param_distributions=param_distribs, \n",
    "                                n_iter=100, cv=50, scoring='f1', random_state=1)\n",
    "rnd_search.fit(xo_train, yo_train)\n",
    "\n",
    "rfo_model = rnd_search.best_estimator_\n",
    "rnd_search.best_params_"
   ]
  },
  {
   "cell_type": "markdown",
   "id": "f17a40cf",
   "metadata": {},
   "source": [
    "#### SMOTE"
   ]
  },
  {
   "cell_type": "code",
   "execution_count": 16,
   "id": "8a22062e",
   "metadata": {},
   "outputs": [
    {
     "data": {
      "text/plain": [
       "{'criterion': 'gini', 'n_estimators': 197}"
      ]
     },
     "execution_count": 16,
     "metadata": {},
     "output_type": "execute_result"
    }
   ],
   "source": [
    "param_distribs = {\n",
    "    'n_estimators': randint(low=1, high=200),\n",
    "    'criterion': ['gini', 'entropy']\n",
    "}\n",
    "\n",
    "rnd_cf = RandomForestClassifier(random_state=1)\n",
    "rnd_search = RandomizedSearchCV(rnd_cf, param_distributions=param_distribs, \n",
    "                                n_iter=100, cv=50, scoring='f1', random_state=1)\n",
    "rnd_search.fit(x_train, y_train)\n",
    "\n",
    "rf_model = rnd_search.best_estimator_\n",
    "rnd_search.best_params_"
   ]
  },
  {
   "cell_type": "markdown",
   "id": "d62bcfec",
   "metadata": {},
   "source": [
    "### 訓練"
   ]
  },
  {
   "cell_type": "markdown",
   "id": "af205133",
   "metadata": {},
   "source": [
    "#### 原始"
   ]
  },
  {
   "cell_type": "code",
   "execution_count": 94,
   "id": "721e8f1c",
   "metadata": {},
   "outputs": [
    {
     "name": "stdout",
     "output_type": "stream",
     "text": [
      "Train matrix: \n",
      "(18688.65, 9.7, 4.47, 5297.18)\n",
      "Test matrix: \n",
      "(4399.56, 831.1, 271.32, 498.02)\n",
      "\n",
      "       Score    y=0(多)    y=1(少)\n",
      "0  precision  0.841110  0.647334\n",
      "1     recall  0.941912  0.374699\n",
      "2   f1-score  0.888662  0.474653\n",
      "Wall time: 12min 44s\n"
     ]
    }
   ],
   "source": [
    "%%time\n",
    "tn_train, fp_train, fn_train, tp_train = 0, 0, 0, 0\n",
    "tn_test, fp_test, fn_test, tp_test = 0, 0, 0, 0\n",
    "imp = 0\n",
    "\n",
    "for i in range(0,100):\n",
    "    xo_train2, xo_test2, yo_train2, yo_test2 = train_test_split(x, y, test_size=0.2)  \n",
    "    rfo_model.fit(xo_train2, yo_train2)\n",
    "    y_pred_train = rfo_model.predict(xo_train2)\n",
    "    y_pred_test = rfo_model.predict(xo_test2)\n",
    "          \n",
    "    tp1, fn1, fp1, tn1 = confusion_matrix(yo_train2, y_pred_train).ravel()\n",
    "    tp2, fn2, fp2, tn2 = confusion_matrix(yo_test2, y_pred_test).ravel() \n",
    "    \n",
    "    tn_train = tn1 + tn_train\n",
    "    fp_train = fp1 + fp_train\n",
    "    fn_train = fn1 + fn_train\n",
    "    tp_train = tp1 + tp_train\n",
    "    \n",
    "    tn_test = tn2 + tn_test\n",
    "    fp_test = fp2 + fp_test\n",
    "    fn_test = fn2 + fn_test\n",
    "    tp_test = tp2 + tp_test\n",
    "    \n",
    "    imp2 = rfo_model.feature_importances_\n",
    "    imp = imp + imp2\n",
    "\n",
    "print('Train matrix: \\n{}'.format((tp_train/100, fp_train/100, fn_train/100, tn_train/100)))\n",
    "print('Test matrix: \\n{}\\n'.format((tp_test/100, fp_test/100, fn_test/100, tn_test/100)))\n",
    "\n",
    "recall_0 = tp_test/(tp_test+fn_test)\n",
    "precision_0 = tp_test/(tp_test+fp_test)\n",
    "recall_1 = tn_test/(tn_test+fp_test)\n",
    "precision_1 = tn_test/(tn_test+fn_test)\n",
    "\n",
    "score = {\n",
    "    \"Score\" : [\"precision\", \"recall\",  \"f1-score\"],\n",
    "    \"y=0(多)\" : [precision_0, recall_0, 2*((precision_0*recall_0)/(precision_0 + recall_0))],\n",
    "    \"y=1(少)\" : [precision_1, recall_1, 2*((precision_1*recall_1)/(precision_1 + recall_1))]\n",
    "}\n",
    "sc = pd.DataFrame(score)\n",
    "print(sc)"
   ]
  },
  {
   "cell_type": "code",
   "execution_count": 95,
   "id": "db011468",
   "metadata": {},
   "outputs": [
    {
     "data": {
      "image/png": "[encoded data removed]",
      "text/plain": [
       "<Figure size 432x288 with 1 Axes>"
      ]
     },
     "metadata": {
      "needs_background": "light"
     },
     "output_type": "display_data"
    }
   ],
   "source": [
    "features = list(data)[1:-1]\n",
    "sorted(zip(imp/100, features), reverse=True)\n",
    "ind = np.argsort(imp/100)\n",
    "\n",
    "plt.title('Feature Importances')\n",
    "plt.barh(range(len(ind)), (imp/100)[ind], color='g', align='center')\n",
    "plt.yticks(range(len(ind)), [features[i] for i in ind])\n",
    "plt.xlabel('Relative Importance')\n",
    "plt.show()"
   ]
  },
  {
   "cell_type": "markdown",
   "id": "af42e843",
   "metadata": {},
   "source": [
    "#### SMOTE"
   ]
  },
  {
   "cell_type": "code",
   "execution_count": 96,
   "id": "a4bcd4d0",
   "metadata": {},
   "outputs": [
    {
     "name": "stdout",
     "output_type": "stream",
     "text": [
      "Train matrix: \n",
      "(18681.73, 8.64, 5.53, 18686.1)\n",
      "Test matrix: \n",
      "(4334.17, 755.17, 342.57, 3914.09)\n",
      "\n",
      "       Score    y=0(多)    y=1(少)\n",
      "0  precision  0.851617  0.919521\n",
      "1     recall  0.926750  0.838268\n",
      "2   f1-score  0.887597  0.877017\n",
      "Wall time: 22min 1s\n"
     ]
    }
   ],
   "source": [
    "%%time\n",
    "tn_train, fp_train, fn_train, tp_train = 0, 0, 0, 0\n",
    "tn_test, fp_test, fn_test, tp_test = 0, 0, 0, 0\n",
    "imp = 0\n",
    "\n",
    "for i in range(0,100):\n",
    "    x_train2, x_test2, y_train2, y_test2 = train_test_split(x_sm, y_sm, test_size=0.2)  \n",
    "    rf_model.fit(x_train2, y_train2)\n",
    "    y_pred_train = rf_model.predict(x_train2)\n",
    "    y_pred_test = rf_model.predict(x_test2)\n",
    "          \n",
    "    tp1, fn1, fp1, tn1 = confusion_matrix(y_train2, y_pred_train).ravel()\n",
    "    tp2, fn2, fp2, tn2 = confusion_matrix(y_test2, y_pred_test).ravel() \n",
    "    \n",
    "    tn_train = tn1 + tn_train\n",
    "    fp_train = fp1 + fp_train\n",
    "    fn_train = fn1 + fn_train\n",
    "    tp_train = tp1 + tp_train\n",
    "    \n",
    "    tn_test = tn2 + tn_test\n",
    "    fp_test = fp2 + fp_test\n",
    "    fn_test = fn2 + fn_test\n",
    "    tp_test = tp2 + tp_test\n",
    "    \n",
    "    imp2 = rf_model.feature_importances_\n",
    "    imp = imp + imp2\n",
    "\n",
    "print('Train matrix: \\n{}'.format((tp_train/100, fp_train/100, fn_train/100, tn_train/100)))\n",
    "print('Test matrix: \\n{}\\n'.format((tp_test/100, fp_test/100, fn_test/100, tn_test/100)))\n",
    "\n",
    "recall_0 = tp_test/(tp_test+fn_test)\n",
    "precision_0 = tp_test/(tp_test+fp_test)\n",
    "recall_1 = tn_test/(tn_test+fp_test)\n",
    "precision_1 = tn_test/(tn_test+fn_test)\n",
    "\n",
    "score = {\n",
    "    \"Score\" : [\"precision\", \"recall\",  \"f1-score\"],\n",
    "    \"y=0(多)\" : [precision_0, recall_0, 2*((precision_0*recall_0)/(precision_0 + recall_0))],\n",
    "    \"y=1(少)\" : [precision_1, recall_1, 2*((precision_1*recall_1)/(precision_1 + recall_1))]\n",
    "}\n",
    "sc = pd.DataFrame(score)\n",
    "print(sc)"
   ]
  },
  {
   "cell_type": "code",
   "execution_count": 97,
   "id": "12872db2",
   "metadata": {},
   "outputs": [
    {
     "data": {
      "image/png": "[encoded data removed]",
      "text/plain": [
       "<Figure size 432x288 with 1 Axes>"
      ]
     },
     "metadata": {
      "needs_background": "light"
     },
     "output_type": "display_data"
    }
   ],
   "source": [
    "features = list(data)[1:-1]\n",
    "sorted(zip(imp/100, features), reverse=True)\n",
    "ind = np.argsort(imp/100)\n",
    "\n",
    "plt.title('Feature Importances')\n",
    "plt.barh(range(len(ind)), (imp/100)[ind], color='g', align='center')\n",
    "plt.yticks(range(len(ind)), [features[i] for i in ind])\n",
    "plt.xlabel('Relative Importance')\n",
    "plt.show()"
   ]
  },
  {
   "cell_type": "markdown",
   "id": "890a2790",
   "metadata": {},
   "source": [
    "## 各指標的長條圖"
   ]
  },
  {
   "cell_type": "code",
   "execution_count": 108,
   "id": "2d75749c",
   "metadata": {},
   "outputs": [
    {
     "data": {
      "image/png": "[encoded data removed]",
      "text/plain": [
       "<Figure size 864x864 with 1 Axes>"
      ]
     },
     "metadata": {
      "needs_background": "light"
     },
     "output_type": "display_data"
    }
   ],
   "source": [
    "method_count = 6 #列出三個方法的SMOTE前與後\n",
    "bar_width = 0.3 #長條寬度\n",
    "index = 3*np.arange(method_count)\n",
    "\n",
    "#擷取三個評估值的數字\n",
    "y_0_precision = [0.841431, 0.781319, 0.841097, 0.811575, 0.841110, 0.851617]\n",
    "y_1_precision = [0.670238, 0.913483, 0.671931, 0.883128, 0.647334, 0.919521]\n",
    "y_0_recall    = [0.947874, 0.929947, 0.948444, 0.895253, 0.941912, 0.926750]\n",
    "y_1_recall    = [0.372294, 0.739703, 0.370794, 0.792013, 0.374699, 0.838268]\n",
    "y_0_f1score   = [0.891486, 0.849478, 0.891551, 0.851363, 0.888662, 0.887597]\n",
    "y_1_f1score   = [0.478692, 0.817459, 0.477879, 0.835093, 0.474653, 0.877017]\n",
    "\n",
    "plt.figure(figsize=(12,12))\n",
    "\n",
    "y_0_precision = plt.bar(index,         #長條圖位置\n",
    "                       y_0_precision,  #資料\n",
    "                       bar_width,      #長條圖寬度\n",
    "                       alpha = 0.8,    #透明度\n",
    "                       color = 'cornflowerblue',    \n",
    "                       label = \"y0_precision\")\n",
    "y_1_precision = plt.bar(index+0.4,     #長條圖位置\n",
    "                       y_1_precision,  #資料\n",
    "                       bar_width,      #長條圖寬度\n",
    "                       alpha = 0.8,    #透明度\n",
    "                       color = 'lightsteelblue',   \n",
    "                       label = \"y1_precision\")\n",
    "y_0_recall    = plt.bar(index+0.8,     #長條圖位置\n",
    "                       y_0_recall,     #資料\n",
    "                       bar_width,      #長條圖寬度\n",
    "                       alpha = 0.8,    #透明度\n",
    "                       color = 'firebrick',   \n",
    "                       label = \"y0_recall\")\n",
    "y_1_recall    = plt.bar(index+1.2,     #長條圖位置\n",
    "                       y_1_recall,     #資料\n",
    "                       bar_width,      #長條圖寬度\n",
    "                       alpha = 0.8,    #透明度\n",
    "                       color = 'lightcoral',   \n",
    "                       label = \"y1_recall\")\n",
    "y_0_f1score   = plt.bar(index+1.6,     #長條圖位置\n",
    "                       y_0_f1score,    #資料\n",
    "                       bar_width,      #長條圖寬度\n",
    "                       alpha = 0.8,    #透明度\n",
    "                       color = 'olivedrab',   \n",
    "                       label = \"y0_f1-score\")\n",
    "y_1_f1score   = plt.bar(index+2,     #長條圖位置\n",
    "                       y_1_f1score,    #資料\n",
    "                       bar_width,      #長條圖寬度\n",
    "                       alpha = 0.8,    #透明度\n",
    "                       color = 'lightgreen',   \n",
    "                       label = \"y1_f1-score\")\n",
    "\n",
    "# 長條圖左上的標籤\n",
    "def createLabels(data):                   # 自定義函數，為引用plusone團隊\n",
    "    for item in data:\n",
    "        height = item.get_height()\n",
    "        #plt.text(                        # 數值顯示\n",
    "        #    item.get_x()+item.get_width()/2., \n",
    "        #    height*1.05, \n",
    "        #    '%d' % int(height),\n",
    "        #    ha = \"center\",\n",
    "        #    va = \"bottom\",\n",
    "        #)\n",
    "createLabels(y_0_precision)\n",
    "createLabels(y_1_precision)\n",
    "createLabels(y_0_recall)\n",
    "createLabels(y_1_recall)\n",
    "createLabels(y_0_f1score)\n",
    "createLabels(y_1_f1score)\n",
    "\n",
    "plt.ylabel(\"Score\")          # 設定y軸標題 \n",
    "plt.xlabel(\"Method\")            # 設定x軸標題\n",
    "plt.title(\"Score for Each Method\", {'fontsize' : 15})  # 設定標題、文字大小\n",
    "plt.xticks(index+3*bar_width ,(\"No SMOTE - GMT\", \"SMOTE - GMT\", \"No SMOTE - DT\", \"SMOTE - DT\", \"No SMOTE - RF\", \"SMOTE - RF\"))  #.xticks為x軸文字(為了置中所以+0.3/2)\n",
    "plt.ylim(0, 1.2)                 # 設定y軸範圍\n",
    "plt.legend(prop = {'size':12})    # 設定圖例及其大小\n",
    "plt.grid(True)                   # 顯示格線"
   ]
  },
  {
   "cell_type": "code",
   "execution_count": 109,
   "id": "9d99c0da",
   "metadata": {},
   "outputs": [
    {
     "data": {
      "image/png": "[encoded data removed]",
      "text/plain": [
       "<Figure size 864x864 with 1 Axes>"
      ]
     },
     "metadata": {
      "needs_background": "light"
     },
     "output_type": "display_data"
    }
   ],
   "source": [
    "method_count = 6 #列出三個方法的SMOTE前與後\n",
    "bar_width = 0.3 #長條寬度\n",
    "index = 3*np.arange(method_count)\n",
    "\n",
    "#擷取三個評估值的數字\n",
    "y_0_precision = [0.841431, 0.841097, 0.841110, 0.781319, 0.811575, 0.851617]\n",
    "y_1_precision = [0.670238, 0.671931, 0.647334, 0.913483, 0.883128, 0.919521]\n",
    "y_0_recall    = [0.947874, 0.948444, 0.941912, 0.929947, 0.895253, 0.926750]\n",
    "y_1_recall    = [0.372294, 0.370794, 0.374699, 0.739703, 0.792013, 0.838268]\n",
    "y_0_f1score   = [0.891486, 0.891551, 0.888662, 0.849478, 0.851363, 0.887597]\n",
    "y_1_f1score   = [0.478692, 0.477879, 0.474653, 0.817459, 0.835093, 0.877017]\n",
    "\n",
    "plt.figure(figsize=(12,12))\n",
    "\n",
    "y_0_precision = plt.bar(index,         #長條圖位置\n",
    "                       y_0_precision,  #資料\n",
    "                       bar_width,      #長條圖寬度\n",
    "                       alpha = 0.8,    #透明度\n",
    "                       color = 'cornflowerblue',    \n",
    "                       label = \"y0_precision\")\n",
    "y_1_precision = plt.bar(index+0.4,     #長條圖位置\n",
    "                       y_1_precision,  #資料\n",
    "                       bar_width,      #長條圖寬度\n",
    "                       alpha = 0.8,    #透明度\n",
    "                       color = 'lightsteelblue',   \n",
    "                       label = \"y1_precision\")\n",
    "y_0_recall    = plt.bar(index+0.8,     #長條圖位置\n",
    "                       y_0_recall,     #資料\n",
    "                       bar_width,      #長條圖寬度\n",
    "                       alpha = 0.8,    #透明度\n",
    "                       color = 'firebrick',   \n",
    "                       label = \"y0_recall\")\n",
    "y_1_recall    = plt.bar(index+1.2,     #長條圖位置\n",
    "                       y_1_recall,     #資料\n",
    "                       bar_width,      #長條圖寬度\n",
    "                       alpha = 0.8,    #透明度\n",
    "                       color = 'lightcoral',   \n",
    "                       label = \"y1_recall\")\n",
    "y_0_f1score   = plt.bar(index+1.6,     #長條圖位置\n",
    "                       y_0_f1score,    #資料\n",
    "                       bar_width,      #長條圖寬度\n",
    "                       alpha = 0.8,    #透明度\n",
    "                       color = 'olivedrab',   \n",
    "                       label = \"y0_f1-score\")\n",
    "y_1_f1score   = plt.bar(index+2,     #長條圖位置\n",
    "                       y_1_f1score,    #資料\n",
    "                       bar_width,      #長條圖寬度\n",
    "                       alpha = 0.8,    #透明度\n",
    "                       color = 'lightgreen',   \n",
    "                       label = \"y1_f1-score\")\n",
    "\n",
    "# 長條圖左上的標籤\n",
    "def createLabels(data):                   # 自定義函數，為引用plusone團隊\n",
    "    for item in data:\n",
    "        height = item.get_height()\n",
    "        #plt.text(                        # 數值顯示\n",
    "        #    item.get_x()+item.get_width()/2., \n",
    "        #    height*1.05, \n",
    "        #    '%d' % int(height),\n",
    "        #    ha = \"center\",\n",
    "        #    va = \"bottom\",\n",
    "        #)\n",
    "createLabels(y_0_precision)\n",
    "createLabels(y_1_precision)\n",
    "createLabels(y_0_recall)\n",
    "createLabels(y_1_recall)\n",
    "createLabels(y_0_f1score)\n",
    "createLabels(y_1_f1score)\n",
    "\n",
    "plt.ylabel(\"Score\")          # 設定y軸標題 \n",
    "plt.xlabel(\"Method\")            # 設定x軸標題\n",
    "plt.title(\"Score for Each Method\", {'fontsize' : 15})  # 設定標題、文字大小\n",
    "plt.xticks(index+3*bar_width ,(\"No SMOTE - GMT\", \"No SMOTE - DT\", \"No SMOTE - RF\", \"SMOTE - GMT\", \"SMOTE - DT\", \"SMOTE - RF\"))  #.xticks為x軸文字(為了置中所以+0.3/2)\n",
    "plt.ylim(0, 1.2)                 # 設定y軸範圍\n",
    "plt.legend(prop = {'size':12})    # 設定圖例及其大小\n",
    "plt.grid(True)                   # 顯示格線"
   ]
  },
  {
   "cell_type": "code",
   "execution_count": null,
   "id": "e4c50535",
   "metadata": {},
   "outputs": [],
   "source": []
  }
 ],
 "metadata": {
  "kernelspec": {
   "display_name": "Python 3",
   "language": "python",
   "name": "python3"
  },
  "language_info": {
   "codemirror_mode": {
    "name": "ipython",
    "version": 3
   },
   "file_extension": ".py",
   "mimetype": "text/x-python",
   "name": "python",
   "nbconvert_exporter": "python",
   "pygments_lexer": "ipython3",
   "version": "3.6.13"
  }
 },
 "nbformat": 4,
 "nbformat_minor": 5
}
